{
 "cells": [
  {
   "cell_type": "markdown",
   "metadata": {},
   "source": [
    "# Demonstration of the Standard ScenarioS Match (sssmatch) Tool to the RTS-GMLC System"
   ]
  },
  {
   "cell_type": "code",
   "execution_count": 1,
   "metadata": {
    "collapsed": true
   },
   "outputs": [],
   "source": [
    "import logging\n",
    "import os\n",
    "import subprocess\n",
    "\n",
    "import numpy as np\n",
    "import pandas as pds\n",
    "\n",
    "import sssmatch\n",
    "\n",
    "logging.basicConfig()\n",
    "\n",
    "def print_cli_call_and_output(cmds):\n",
    "    print(subprocess.list2cmdline(cmds) + \"\\n\")\n",
    "    try:\n",
    "        stdout = subprocess.check_output(cmds,stderr=subprocess.STDOUT)\n",
    "    except subprocess.CalledProcessError as e:\n",
    "        stdout = e.output\n",
    "    print(stdout.decode('utf-8'))\n",
    "    \n",
    "def multi_index(df, cols):\n",
    "    result = df.copy()\n",
    "    result.index = result[cols[0]] if len(cols) == 1 else pds.MultiIndex.from_tuples(list(zip(*[result[col].tolist() for col in cols])),names = cols)\n",
    "    for col in cols:\n",
    "        del result[col]\n",
    "    return result "
   ]
  },
  {
   "cell_type": "markdown",
   "metadata": {},
   "source": [
    "[Browse Standard Scenarios](#Browse-Standard-Scenarios) | [Apply Generation Mixes to RTS-GMLC](#Apply-Generation-Mixes-to-RTS-GMLC)"
   ]
  },
  {
   "cell_type": "markdown",
   "metadata": {},
   "source": [
    "## Browse Standard Scenarios\n",
    "\n",
    "The sssmatch command line interface (CLI) can be used to browse standard scenarios data."
   ]
  },
  {
   "cell_type": "code",
   "execution_count": 2,
   "metadata": {},
   "outputs": [
    {
     "name": "stdout",
     "output_type": "stream",
     "text": [
      "CLI path is:\n",
      "    c:\\python36\\Scripts\\sssm.py\n"
     ]
    }
   ],
   "source": [
    "print(\"CLI path is:\\n    {}\".format(sssmatch.cli_path))"
   ]
  },
  {
   "cell_type": "markdown",
   "metadata": {},
   "source": [
    "### Help"
   ]
  },
  {
   "cell_type": "code",
   "execution_count": 3,
   "metadata": {},
   "outputs": [
    {
     "name": "stdout",
     "output_type": "stream",
     "text": [
      "python c:\\python36\\Scripts\\sssm.py browse -h\n",
      "\n",
      "usage: sssm.py browse [-h] [-f FILENAME]\n",
      "                      {datasets,gentypes,years,scenarios,geographies,mixes}\n",
      "                      ...\n",
      "\n",
      "positional arguments:\n",
      "  {datasets,gentypes,years,scenarios,geographies,mixes}\n",
      "    datasets            List available datasets.\n",
      "    gentypes            List generator types present in the selected dataset.\n",
      "    years               List scenario years associated with generation mixes.\n",
      "    scenarios           List available scenarios in chosen dataset.\n",
      "    geographies         List available geographies in chosen dataset.\n",
      "    mixes               List a particular generator mix represented in the\n",
      "                        chosen dataset.\n",
      "\n",
      "optional arguments:\n",
      "  -h, --help            show this help message and exit\n",
      "  -f FILENAME, --filename FILENAME\n",
      "                        Where to save listed information in csv format.\n",
      "                        Default is to print to screen only.\n",
      "\n"
     ]
    }
   ],
   "source": [
    "print_cli_call_and_output(['python',sssmatch.cli_path,'browse','-h'])"
   ]
  },
  {
   "cell_type": "markdown",
   "metadata": {},
   "source": [
    "### Available datasets"
   ]
  },
  {
   "cell_type": "code",
   "execution_count": 4,
   "metadata": {},
   "outputs": [
    {
     "name": "stdout",
     "output_type": "stream",
     "text": [
      "python c:\\python36\\Scripts\\sssm.py browse datasets\n",
      "\n",
      "  NREL Standard Scenarios 2016\n",
      "  NREL Standard Scenarios 2017\n",
      "\n"
     ]
    }
   ],
   "source": [
    "print_cli_call_and_output(['python',sssmatch.cli_path,'browse','datasets'])"
   ]
  },
  {
   "cell_type": "markdown",
   "metadata": {},
   "source": [
    "### Generator Types"
   ]
  },
  {
   "cell_type": "code",
   "execution_count": 5,
   "metadata": {},
   "outputs": [
    {
     "name": "stdout",
     "output_type": "stream",
     "text": [
      "python c:\\python36\\Scripts\\sssm.py browse gentypes -ds \"NREL Standard Scenarios 2016\"\n",
      "\n",
      "  Biopower\n",
      "  CSP\n",
      "  Coal\n",
      "  Geothermal\n",
      "  Hydro\n",
      "  Land-based Wind\n",
      "  NG-CC\n",
      "  NG-CT\n",
      "  Nuclear\n",
      "  Oil-Gas-Steam\n",
      "  Rooftop PV\n",
      "  Storage\n",
      "  Utility PV\n",
      "\n"
     ]
    }
   ],
   "source": [
    "dataset = 'NREL Standard Scenarios 2016'\n",
    "print_cli_call_and_output(['python',sssmatch.cli_path,'browse','gentypes','-ds',dataset])"
   ]
  },
  {
   "cell_type": "markdown",
   "metadata": {},
   "source": [
    "### Years"
   ]
  },
  {
   "cell_type": "code",
   "execution_count": 6,
   "metadata": {},
   "outputs": [
    {
     "name": "stdout",
     "output_type": "stream",
     "text": [
      "python c:\\python36\\Scripts\\sssm.py browse years -ds \"NREL Standard Scenarios 2016\"\n",
      "\n",
      "  2010\n",
      "  2012\n",
      "  2014\n",
      "  2016\n",
      "  2018\n",
      "  2020\n",
      "  2022\n",
      "  2024\n",
      "  2026\n",
      "  2028\n",
      "  2030\n",
      "  2032\n",
      "  2034\n",
      "  2036\n",
      "  2038\n",
      "  2040\n",
      "  2042\n",
      "  2044\n",
      "  2046\n",
      "  2048\n",
      "  2050\n",
      "\n"
     ]
    }
   ],
   "source": [
    "print_cli_call_and_output(['python',sssmatch.cli_path,'browse','years','-ds',dataset])"
   ]
  },
  {
   "cell_type": "markdown",
   "metadata": {},
   "source": [
    "### Scenarios"
   ]
  },
  {
   "cell_type": "code",
   "execution_count": 7,
   "metadata": {},
   "outputs": [
    {
     "name": "stdout",
     "output_type": "stream",
     "text": [
      "python c:\\python36\\Scripts\\sssm.py browse scenarios -ds \"NREL Standard Scenarios 2016\"\n",
      "\n",
      "  Acc_coal_retire\n",
      "  Carbon_cap\n",
      "  Central_scenario\n",
      "  Climate_change\n",
      "  Cooling_water_restrictions\n",
      "  Extended_nuclear_lifetime\n",
      "  High_Cost_RE\n",
      "  High_Demand_Growth\n",
      "  High_NG_Price\n",
      "  High_PHEV\n",
      "  High_transmission_cost\n",
      "  Low_Cost_RE\n",
      "  Low_Demand_Growth\n",
      "  Low_NG_Price\n",
      "  National_RPS_80\n",
      "  NoCPP\n",
      "  PTC_ITC_extension\n",
      "  Reduced_cost_nuclear\n",
      "  Reduced_RE_resource\n",
      "  WiserWindCosts\n",
      "\n"
     ]
    }
   ],
   "source": [
    "print_cli_call_and_output(['python',sssmatch.cli_path,'browse','scenarios','-ds',dataset])"
   ]
  },
  {
   "cell_type": "markdown",
   "metadata": {},
   "source": [
    "### Geographies"
   ]
  },
  {
   "cell_type": "code",
   "execution_count": 8,
   "metadata": {},
   "outputs": [
    {
     "name": "stdout",
     "output_type": "stream",
     "text": [
      "python c:\\python36\\Scripts\\sssm.py browse geographies -ds \"NREL Standard Scenarios 2016\"\n",
      "\n",
      "  national\n",
      "  AL\n",
      "  AR\n",
      "  AZ\n",
      "  CA\n",
      "  CO\n",
      "  CT\n",
      "  DE\n",
      "  FL\n",
      "  GA\n",
      "  IA\n",
      "  ID\n",
      "  IL\n",
      "  IN\n",
      "  KS\n",
      "  KY\n",
      "  LA\n",
      "  MA\n",
      "  MD\n",
      "  ME\n",
      "  MI\n",
      "  MN\n",
      "  MO\n",
      "  MS\n",
      "  MT\n",
      "  NC\n",
      "  ND\n",
      "  NE\n",
      "  NH\n",
      "  NJ\n",
      "  NM\n",
      "  NV\n",
      "  NY\n",
      "  OH\n",
      "  OK\n",
      "  OR\n",
      "  PA\n",
      "  RI\n",
      "  SC\n",
      "  SD\n",
      "  TN\n",
      "  TX\n",
      "  UT\n",
      "  VA\n",
      "  VT\n",
      "  WA\n",
      "  WI\n",
      "  WV\n",
      "  WY\n",
      "\n"
     ]
    }
   ],
   "source": [
    "print_cli_call_and_output(['python',sssmatch.cli_path,'browse','geographies','-ds',dataset])"
   ]
  },
  {
   "cell_type": "markdown",
   "metadata": {},
   "source": [
    "### Mixes"
   ]
  },
  {
   "cell_type": "code",
   "execution_count": 9,
   "metadata": {},
   "outputs": [
    {
     "name": "stdout",
     "output_type": "stream",
     "text": [
      "python c:\\python36\\Scripts\\sssm.py browse mixes -h\n",
      "\n",
      "usage: sssm.py browse mixes [-h] [-s SCENARIO] [-g GEOGRAPHY [GEOGRAPHY ...]]\n",
      "                            [-ds DATASET]\n",
      "                            scenario_year\n",
      "\n",
      "positional arguments:\n",
      "  scenario_year         Model year on which to base new generation mix.\n",
      "\n",
      "optional arguments:\n",
      "  -h, --help            show this help message and exit\n",
      "  -s SCENARIO, --scenario SCENARIO\n",
      "                        Scenario on which to base the new generation mix.\n",
      "                        Defaults to the central or mid-case scenario.\n",
      "  -g GEOGRAPHY [GEOGRAPHY ...], --geography GEOGRAPHY [GEOGRAPHY ...]\n",
      "                        Geography from which to pull generation mix data. If\n",
      "                        multiple geographies are listed, the union will be\n",
      "                        taken.\n",
      "  -ds DATASET, --dataset DATASET\n",
      "                        Dataset from which to pull scenarios.\n",
      "\n"
     ]
    }
   ],
   "source": [
    "print_cli_call_and_output(['python',sssmatch.cli_path,'browse','mixes','-h'])"
   ]
  },
  {
   "cell_type": "code",
   "execution_count": 10,
   "metadata": {},
   "outputs": [
    {
     "name": "stdout",
     "output_type": "stream",
     "text": [
      "python c:\\python36\\Scripts\\sssm.py browse mixes 2030 -ds \"NREL Standard Scenarios 2016\"\n",
      "\n",
      "                 Capacity (GW)  Generation (TWh)  Capacity Fraction  \\\n",
      "Biopower                7.7824           46.1555           0.006392   \n",
      "CSP                     1.8263            5.1034           0.001500   \n",
      "Coal                  213.7049         1127.3351           0.175537   \n",
      "Curtailment                NaN          -16.3546                NaN   \n",
      "Geothermal              7.7751           57.8812           0.006386   \n",
      "Hydro                  80.4856          288.1658           0.066111   \n",
      "Imports                    NaN           50.0870                NaN   \n",
      "Land-based Wind       147.1362          539.6573           0.120857   \n",
      "NG-CC                 315.4784         1225.0646           0.259133   \n",
      "NG-CT                 142.7947            5.8232           0.117291   \n",
      "Nuclear                95.0615          751.4637           0.078083   \n",
      "Oil-Gas-Steam          24.6616            0.0000           0.020257   \n",
      "Rooftop PV             77.2200          125.7057           0.063428   \n",
      "Storage                22.8628           -0.9537           0.018779   \n",
      "Utility PV             80.6475          175.0013           0.066244   \n",
      "TOTAL                1217.4370         4380.1355           1.000000   \n",
      "\n",
      "                 Generation Fraction  \n",
      "Biopower                    0.010537  \n",
      "CSP                         0.001165  \n",
      "Coal                        0.257374  \n",
      "Curtailment                -0.003734  \n",
      "Geothermal                  0.013214  \n",
      "Hydro                       0.065789  \n",
      "Imports                     0.011435  \n",
      "Land-based Wind             0.123206  \n",
      "NG-CC                       0.279686  \n",
      "NG-CT                       0.001329  \n",
      "Nuclear                     0.171562  \n",
      "Oil-Gas-Steam               0.000000  \n",
      "Rooftop PV                  0.028699  \n",
      "Storage                    -0.000218  \n",
      "Utility PV                  0.039953  \n",
      "TOTAL                       1.000000  \n",
      "\n"
     ]
    }
   ],
   "source": [
    "# Browse default: national-level Central_scenario / Mid_Case\n",
    "year = str(2030)\n",
    "print_cli_call_and_output(['python',sssmatch.cli_path,'browse','mixes',year,'-ds',dataset])"
   ]
  },
  {
   "cell_type": "code",
   "execution_count": 11,
   "metadata": {},
   "outputs": [
    {
     "name": "stdout",
     "output_type": "stream",
     "text": [
      "python c:\\python36\\Scripts\\sssm.py browse mixes 2040 -s High_PHEV -g CA NV AZ\n",
      "\n",
      "                 Capacity (GW)  Generation (TWh)  Capacity Fraction  \\\n",
      "Biopower                0.9725            6.0774           0.004899   \n",
      "CSP                     2.1362            6.8004           0.010760   \n",
      "Coal                    5.1034           28.3949           0.025706   \n",
      "Curtailment                NaN           -5.6530                NaN   \n",
      "Geothermal              7.4921           55.7870           0.037738   \n",
      "Hydro                  14.3095           44.2843           0.072078   \n",
      "Imports                    NaN            0.0000                NaN   \n",
      "Land-based Wind         5.8623           22.1890           0.029529   \n",
      "NG-CC                  45.7620          165.5123           0.230506   \n",
      "NG-CT                  33.1171            0.5809           0.166813   \n",
      "Nuclear                 6.2370           49.3037           0.031416   \n",
      "Oil-Gas-Steam           0.1077            0.0000           0.000542   \n",
      "Rooftop PV             27.1595           47.5747           0.136804   \n",
      "Storage                 4.2799           -2.0358           0.021558   \n",
      "Utility PV             45.9891          106.3932           0.231650   \n",
      "TOTAL                 198.5283          525.2090           1.000000   \n",
      "\n",
      "                 Generation Fraction  \n",
      "Biopower                    0.011571  \n",
      "CSP                         0.012948  \n",
      "Coal                        0.054064  \n",
      "Curtailment                -0.010763  \n",
      "Geothermal                  0.106219  \n",
      "Hydro                       0.084317  \n",
      "Imports                     0.000000  \n",
      "Land-based Wind             0.042248  \n",
      "NG-CC                       0.315136  \n",
      "NG-CT                       0.001106  \n",
      "Nuclear                     0.093874  \n",
      "Oil-Gas-Steam               0.000000  \n",
      "Rooftop PV                  0.090582  \n",
      "Storage                    -0.003876  \n",
      "Utility PV                  0.202573  \n",
      "TOTAL                       1.000000  \n",
      "\n"
     ]
    }
   ],
   "source": [
    "# Browse arbitrary mixes\n",
    "year = str(2040)\n",
    "scenario = 'High_PHEV'\n",
    "geographies = ['CA','NV','AZ']\n",
    "print_cli_call_and_output(['python',sssmatch.cli_path,'browse','mixes',year,'-s',scenario,'-g'] + geographies)"
   ]
  },
  {
   "cell_type": "markdown",
   "metadata": {},
   "source": [
    "## Apply Generation Mixes to RTS-GMLC\n",
    "\n",
    "[Format RTS System](#Format-RTS-System) | [Create New Generation Mix](#Create-New-Generation-Mix)"
   ]
  },
  {
   "cell_type": "markdown",
   "metadata": {},
   "source": [
    "### Format RTS System"
   ]
  },
  {
   "cell_type": "code",
   "execution_count": 12,
   "metadata": {
    "collapsed": true
   },
   "outputs": [],
   "source": [
    "rts_dir = os.path.join('RTS-GMLC','RTS_Data')"
   ]
  },
  {
   "cell_type": "code",
   "execution_count": 13,
   "metadata": {
    "collapsed": true
   },
   "outputs": [],
   "source": [
    "gentypes_map = {\n",
    "    'Oil CT': 'Oil-Gas-Steam',\n",
    "    'Coal': 'Coal',\n",
    "    'Gas CC': 'NG-CC',\n",
    "    'Gas CT': 'NG-CT',\n",
    "    'Oil CT': 'Oil-Gas-Steam',\n",
    "    'Oil ST': 'Oil-Gas-Steam',\n",
    "    'Sync_Cond': None,\n",
    "    'Nuclear': 'Nuclear',\n",
    "    'Hydro': 'Hydro',\n",
    "    ('Solar','PV'): 'Utility PV',\n",
    "    ('Solar','RTPV'): 'Rooftop PV',\n",
    "    'CSP': 'CSP',\n",
    "    'Wind': 'Land-based Wind',\n",
    "    'Storage': 'Storage'\n",
    "}\n"
   ]
  },
  {
   "cell_type": "markdown",
   "metadata": {},
   "source": [
    "#### Nodes"
   ]
  },
  {
   "cell_type": "code",
   "execution_count": 14,
   "metadata": {},
   "outputs": [
    {
     "name": "stdout",
     "output_type": "stream",
     "text": [
      "   node_id   latitude   longitude  peak load (MW)  annual load (GWh)\n",
      "0      101  33.396103 -113.835642           108.0         424.160547\n",
      "1      102  33.357678 -113.825933            97.0         380.959010\n",
      "2      103  33.536833 -114.670399           180.0         706.934246\n",
      "3      104  33.812304 -113.825419            74.0         290.628523\n",
      "4      105  33.659560 -113.999023            71.0         278.846286\n"
     ]
    }
   ],
   "source": [
    "nodes = pds.read_csv(os.path.join(rts_dir,'SourceData','bus.csv'))\n",
    "nodes = nodes[['Bus ID','lat','lng','MW Load','Area']]\n",
    "nodes.columns = ['node_id','latitude','longitude','peak load (MW)','area']\n",
    "\n",
    "# total load per area\n",
    "load = pds.read_csv(os.path.join(rts_dir,'timeseries_data_files','Load','REAL_TIME_regional_load.csv'))\n",
    "num_points = len(load.index)\n",
    "num_days = len(load[['Year','Month','Day']].drop_duplicates().index)\n",
    "points_per_hour = (num_points / num_days) / 24\n",
    "load = multi_index(load,['Year','Month','Day','Period']).sum() / points_per_hour\n",
    "\n",
    "# GWh annual load / MW peak load\n",
    "peak_load = nodes[['peak load (MW)','area']].groupby('area').sum()['peak load (MW)']\n",
    "load.index = peak_load.index\n",
    "gwh_per_mw = load.divide(peak_load) / 1000.0\n",
    "gwh_per_mw.name = 'gwh_per_mw'\n",
    "gwh_per_mw = pds.DataFrame(gwh_per_mw)\n",
    "gwh_per_mw = gwh_per_mw.reset_index()\n",
    "\n",
    "# annual load per node\n",
    "nodes = nodes.merge(gwh_per_mw,how='left',on='area')\n",
    "nodes['annual load (GWh)'] = nodes['peak load (MW)'] * nodes['gwh_per_mw']\n",
    "del nodes['area']; del nodes['gwh_per_mw']\n",
    "print(nodes.head())"
   ]
  },
  {
   "cell_type": "markdown",
   "metadata": {},
   "source": [
    "#### Generators"
   ]
  },
  {
   "cell_type": "code",
   "execution_count": 15,
   "metadata": {},
   "outputs": [
    {
     "name": "stdout",
     "output_type": "stream",
     "text": [
      "                 capacity (MW)  capacity fraction\n",
      "generator type                                   \n",
      "CSP                      200.0           0.013746\n",
      "Coal                    2317.0           0.159246\n",
      "Hydro                   1000.0           0.068729\n",
      "Land-based Wind         2507.9           0.172367\n",
      "NG-CC                   3550.0           0.243990\n",
      "NG-CT                   1485.0           0.102063\n",
      "Nuclear                  400.0           0.027492\n",
      "Oil-Gas-Steam            324.0           0.022268\n",
      "Rooftop PV              1161.4           0.079822\n",
      "Storage                   50.0           0.003436\n",
      "Utility PV              1554.5           0.106840\n",
      "Total                  14549.8           1.000000\n"
     ]
    }
   ],
   "source": [
    "generators = pds.read_csv(os.path.join(rts_dir,'SourceData','gen.csv'))\n",
    "gentypes = []\n",
    "for index, row in generators.iterrows():\n",
    "    key = None\n",
    "    if row['Category'] in gentypes_map:\n",
    "        key = row['Category']\n",
    "    elif (row['Category'],row['Unit Type']) in gentypes_map:\n",
    "        key = (row['Category'],row['Unit Type'])\n",
    "    if key is not None:\n",
    "        gentypes.append(gentypes_map[key])\n",
    "    else:\n",
    "        gentypes.append(None)\n",
    "generators['generator type'] = gentypes\n",
    "generators = generators[['Bus ID','generator type','PMax MW']]\n",
    "generators.columns = ['node_id','generator type','capacity (MW)']\n",
    "# drop un-mapped generators (synchronous condensors)\n",
    "generators = generators.dropna(axis=0,subset=['generator type'],how='all')\n",
    "rts_mix_summary = pds.pivot_table(generators,\n",
    "                                  values='capacity (MW)',\n",
    "                                  index='generator type',\n",
    "                                  aggfunc=np.sum,\n",
    "                                  margins=True,\n",
    "                                  margins_name='Total')\n",
    "rts_mix_summary = pds.DataFrame(rts_mix_summary)\n",
    "rts_mix_summary['capacity fraction'] = rts_mix_summary['capacity (MW)'] / rts_mix_summary.loc['Total','capacity (MW)']\n",
    "print(rts_mix_summary)"
   ]
  },
  {
   "cell_type": "code",
   "execution_count": 16,
   "metadata": {
    "scrolled": false
   },
   "outputs": [
    {
     "name": "stdout",
     "output_type": "stream",
     "text": [
      "Original RE Generation\n",
      "generator type  CSP  Land-based Wind  Rooftop PV  Utility PV\n",
      "node_id                                                     \n",
      "101               0              0.0         0.0       104.6\n",
      "102               0              0.0         0.0        50.9\n",
      "103               0              0.0         0.0        61.5\n",
      "104               0              0.0         0.0        26.8\n",
      "113               0              0.0         0.0        93.6\n",
      "118               0              0.0        94.1         0.0\n",
      "119               0              0.0         0.0        66.6\n",
      "122               0            713.5         0.0         0.0\n",
      "212             200              0.0         0.0         0.0\n",
      "213               0              0.0        13.2         0.0\n",
      "215               0              0.0         0.0       125.1\n",
      "303               0            847.0         0.0         0.0\n",
      "308               0              0.0       100.9         0.0\n",
      "309               0            148.3         0.0         0.0\n",
      "310               0              0.0         0.0       103.3\n",
      "312               0              0.0         0.0        94.1\n",
      "313               0              0.0       806.0       188.4\n",
      "314               0              0.0         0.0       247.5\n",
      "317               0            799.1         0.0         0.0\n",
      "319               0              0.0         0.0       188.2\n",
      "320               0              0.0       147.2        51.6\n",
      "324               0              0.0         0.0       152.3\n",
      "\n",
      "Maximum Allowed RE Generation\n",
      "generator type     CSP  Land-based Wind   Rooftop PV   Utility PV\n",
      "node_id                                                          \n",
      "101                0.0         0.000000     0.000000   523.000000\n",
      "102                0.0         0.000000     0.000000   254.500000\n",
      "103                0.0         0.000000     0.000000   307.500000\n",
      "104                0.0         0.000000     0.000000   134.000000\n",
      "113                0.0         0.000000     0.000000   468.000000\n",
      "118                0.0         0.000000   470.500000     0.000000\n",
      "119                0.0         0.000000     0.000000   333.000000\n",
      "122                0.0      1000.000000     0.000000     0.000000\n",
      "212             1000.0         0.000000     0.000000     0.000000\n",
      "213                0.0         0.000000    66.000000     0.000000\n",
      "215                0.0         0.000000     0.000000   625.500000\n",
      "303                0.0       445.071901     0.000000     0.000000\n",
      "308                0.0         0.000000   504.500000     0.000000\n",
      "309                0.0       617.431015     0.000000     0.000000\n",
      "310                0.0         0.000000     0.000000   516.500000\n",
      "312                0.0         0.000000     0.000000   470.500000\n",
      "313                0.0         0.000000  1639.966966   942.000000\n",
      "314                0.0         0.000000     0.000000  1102.466382\n",
      "317                0.0      1500.000000     0.000000     0.000000\n",
      "319                0.0         0.000000     0.000000   941.000000\n",
      "320                0.0         0.000000   736.000000   258.000000\n",
      "324                0.0         0.000000     0.000000   500.000000\n"
     ]
    }
   ],
   "source": [
    "# Add RE maximum capacities to nodes\n",
    "re_techs = ['CSP','Land-based Wind','Utility PV','Rooftop PV']\n",
    "max_inflation_factor = 5.0\n",
    "set_rooftop_by_peak_load = True\n",
    "\n",
    "# Initial amount of utility-scale RE\n",
    "re_gen = pds.pivot_table(generators[generators['generator type'].isin(re_techs)],\n",
    "                         values='capacity (MW)',\n",
    "                         index='node_id',\n",
    "                         columns = 'generator type',\n",
    "                         aggfunc=np.sum,\n",
    "                         fill_value=0.0)\n",
    "print('Original RE Generation')\n",
    "print(re_gen)\n",
    "\n",
    "# Inflate\n",
    "branches = pds.read_csv(os.path.join(rts_dir,'SourceData','branch.csv'))\n",
    "branches = branches[branches.Length > 0]\n",
    "out_capacity = []\n",
    "avg_load = []\n",
    "for node_id in re_gen.index:\n",
    "    out_capacity.append(branches[(branches['From Bus'] == node_id) | (branches['To Bus'] == node_id)]['Cont Rating'].sum())\n",
    "    this_node = nodes[nodes.node_id == node_id]\n",
    "    this_avg_load = this_node['annual load (GWh)']*1000.0 / (24.0 * num_days)\n",
    "    this_avg_load = this_avg_load.values[0]\n",
    "    avg_load.append(this_avg_load)\n",
    "re_gen['out capacity (MW)'] = out_capacity\n",
    "re_gen['average load (MW)'] = avg_load\n",
    "for re_tech in re_techs:\n",
    "    if re_tech in re_gen:\n",
    "        tmp = pds.concat([re_gen[re_tech] * max_inflation_factor, \n",
    "                          re_gen['out capacity (MW)'] + re_gen['average load (MW)']],\n",
    "                         axis=1)\n",
    "        re_gen[re_tech] = tmp.min(axis=1)\n",
    "del re_gen['out capacity (MW)']; del re_gen['average load (MW)']\n",
    "print(\"\\nMaximum Allowed RE Generation\")\n",
    "print(re_gen)\n",
    "\n",
    "# Add to nodes\n",
    "nodes = nodes.merge(re_gen,how='left',left_on='node_id',right_index=True)\n",
    "nodes.fillna(0.0,inplace=True)\n",
    "\n",
    "# Override Rooftop PV limit if desired\n",
    "if set_rooftop_by_peak_load:\n",
    "    nodes['Rooftop PV'] = nodes['peak load (MW)']  \n"
   ]
  },
  {
   "cell_type": "markdown",
   "metadata": {},
   "source": [
    "#### Save out"
   ]
  },
  {
   "cell_type": "code",
   "execution_count": 17,
   "metadata": {
    "collapsed": true
   },
   "outputs": [],
   "source": [
    "outdirs = ['rts_new_genmix_1','rts_new_genmix_2','rts_new_genmix_3']\n",
    "for outdir in outdirs:\n",
    "    if not os.path.exists(outdir):\n",
    "        os.mkdir(outdir)\n",
    "    nodes.to_csv(os.path.join(outdir,'nodes.csv'),index=False)\n",
    "    generators.to_csv(os.path.join(outdir,'generators.csv'),index=False)"
   ]
  },
  {
   "cell_type": "markdown",
   "metadata": {},
   "source": [
    "### Create New Generation Mix"
   ]
  },
  {
   "cell_type": "markdown",
   "metadata": {},
   "source": [
    "#### Help"
   ]
  },
  {
   "cell_type": "code",
   "execution_count": 18,
   "metadata": {},
   "outputs": [
    {
     "name": "stdout",
     "output_type": "stream",
     "text": [
      "python c:\\python36\\Scripts\\sssm.py match -h\n",
      "\n",
      "usage: sssm.py match [-h] [-s SCENARIO] [-g GEOGRAPHY [GEOGRAPHY ...]]\n",
      "                     [-ds DATASET] [-rt [RE_TYPES [RE_TYPES ...]]]\n",
      "                     [-eg [EXCLUDED_GENTYPES [EXCLUDED_GENTYPES ...]]]\n",
      "                     [-o OUTDIR] [-gd GENDISTS] [-p PRECISION] [-a {GAMS}]\n",
      "                     scenario_year nodes generators\n",
      "\n",
      "positional arguments:\n",
      "  scenario_year         Model year on which to base new generation mix.\n",
      "  nodes                 Path to csv file describing nodes, or list of tuples\n",
      "                        describing nodes. Each tuple or each row of the csv\n",
      "                        file should contain (node_id, latitude, longitude,\n",
      "                        peak load (MW), annual load (GWh), max allowed\n",
      "                        capacity of each RE type (MW))\n",
      "  generators            Path to csv file describing existing generators, or\n",
      "                        list of tuples describing generators. Each tuple or\n",
      "                        each row of the csv file should contain (node_id,\n",
      "                        generator type, capacity (MW)). Generator type must\n",
      "                        match the dataset's generator types.\n",
      "\n",
      "optional arguments:\n",
      "  -h, --help            show this help message and exit\n",
      "  -s SCENARIO, --scenario SCENARIO\n",
      "                        Scenario on which to base the new generation mix.\n",
      "                        Defaults to the central or mid-case scenario.\n",
      "  -g GEOGRAPHY [GEOGRAPHY ...], --geography GEOGRAPHY [GEOGRAPHY ...]\n",
      "                        Geography from which to pull generation mix data. If\n",
      "                        multiple geographies are listed, the union will be\n",
      "                        taken.\n",
      "  -ds DATASET, --dataset DATASET\n",
      "                        Dataset from which to pull scenarios.\n",
      "  -rt [RE_TYPES [RE_TYPES ...]], --re_types [RE_TYPES [RE_TYPES ...]]\n",
      "                        RE types in order they appear in the nodes tuples/csv.\n",
      "                        RE types must be a subset of the selected dataset's\n",
      "                        generator types. This only needs to be specified if\n",
      "                        specifying tuples or csv column names do not match\n",
      "                        generator types.\n",
      "  -eg [EXCLUDED_GENTYPES [EXCLUDED_GENTYPES ...]], --excluded_gentypes [EXCLUDED_GENTYPES [EXCLUDED_GENTYPES ...]]\n",
      "                        List of generator types that should not be included in\n",
      "                        the match results. RE types with no existing unit and\n",
      "                        no allowed capacity will also be excluded.\n",
      "  -o OUTDIR, --outdir OUTDIR\n",
      "                        Where to write out match information.\n",
      "  -gd GENDISTS, --gendists GENDISTS\n",
      "                        Path to csv file containing rows with (gentype_to,\n",
      "                        gentype_from, distance). Distances are generally\n",
      "                        between 0 and 1. A distance of 0 means switching\n",
      "                        capacity from gentype_to to gentype_from is equivalent\n",
      "                        to keeping the original generator. A distance of 1\n",
      "                        means that such a switch is no better than removing\n",
      "                        old capacity and placing new capacity with no regard\n",
      "                        to where the previous generators were. Default is to\n",
      "                        use default_gendists.csv.\n",
      "  -p PRECISION, --precision PRECISION\n",
      "                        The precision to which the desired capacity is to be\n",
      "                        matched, in MW. Thus 0 corresponds to rounding to the\n",
      "                        nearest MW, 1 corresponds to the nearest 100 kW, and 3\n",
      "                        is the nearest kW.\n",
      "  -a {GAMS}, --aml {GAMS}\n",
      "                        Algebraic modeling language to use to solve the\n",
      "                        matching problem.\n",
      "\n"
     ]
    }
   ],
   "source": [
    "print_cli_call_and_output(['python',sssmatch.cli_path,'match','-h'])"
   ]
  },
  {
   "cell_type": "markdown",
   "metadata": {},
   "source": [
    "#### Create New Mix"
   ]
  },
  {
   "cell_type": "code",
   "execution_count": 19,
   "metadata": {},
   "outputs": [
    {
     "name": "stdout",
     "output_type": "stream",
     "text": [
      "python c:\\python36\\Scripts\\sssm.py match -s National_RPS_80 -g national -eg Geothermal -ds \"NREL Standard Scenarios 2016\" -o rts_new_genmix_1 2050 rts_new_genmix_1\\nodes.csv rts_new_genmix_1\\generators.csv\n",
      "\n",
      "2017-09-01 10:18:25,994|INFO|sssmatch.request|\n",
      "    System load is 36.581 TWh. The generation mix is based on 4913.274 TWh of useable generation. Thus the generation mix capacities will be scaled by a factor of 0.0074454189873461.\n",
      "2017-09-01 10:18:26,001|INFO|sssmatch.request|\n",
      "    Request summary:\n",
      "                 Current Capacity (MW)  Desired Capacity (MW)\n",
      "Biopower                           0.0             109.391074\n",
      "CSP                              200.0             572.656211\n",
      "Coal                            2317.0              57.739969\n",
      "Hydro                           1000.0             610.820685\n",
      "Land-based Wind                 2507.9            3816.914146\n",
      "NG-CC                           3550.0            2893.730587\n",
      "NG-CT                           1485.0            2541.204889\n",
      "Nuclear                          400.0              59.410721\n",
      "Oil-Gas-Steam                    324.0              46.016412\n",
      "Rooftop PV                      1161.4            1472.547522\n",
      "Storage                           50.0             678.681956\n",
      "Utility PV                      1554.5            5135.975101\n",
      "Traceback (most recent call last):\n",
      "  File \"c:\\python36\\Scripts\\sssm.py\", line 6, in <module>\n",
      "    cli_main()\n",
      "  File \"c:\\python36\\lib\\site-packages\\sssmatch\\cli.py\", line 207, in cli_main\n",
      "    request.preprocess()\n",
      "  File \"c:\\python36\\lib\\site-packages\\sssmatch\\request.py\", line 106, in preprocess\n",
      "    assert self._resource_dependent_test()\n",
      "  File \"c:\\python36\\lib\\site-packages\\sssmatch\\request.py\", line 138, in _resource_dependent_test\n",
      "    raise SSSMatchError(msg)\n",
      "sssmatch.SSSMatchError: Unable to create a new generation mix with 3816.914146494244 MW Land-based Wind capacity, because the specified maximum supply only 3562.5029163779773 MW.\n",
      "\n"
     ]
    }
   ],
   "source": [
    "year = str(2050)\n",
    "scenario = 'National_RPS_80'\n",
    "geographies = ['national']\n",
    "excludes = {'NREL Standard Scenarios 2016': ['Geothermal'],\n",
    "            'NREL Standard Scenarios 2017': ['Geothermal','Offshore Wind']}\n",
    "dataset = 'NREL Standard Scenarios 2016'\n",
    "\n",
    "def call_sssmatch(outdir,year,scenario,geographies,excludes,dataset='NREL Standard Scenarios 2016',\n",
    "                  gendists=None,precision=None):\n",
    "    cmds = ['python',sssmatch.cli_path,'match','-s',scenario,'-g']\n",
    "    for geography in geographies:\n",
    "        cmds.append(geography)\n",
    "    if excludes:\n",
    "        cmds.append('-eg')\n",
    "        for exclude in excludes:\n",
    "            cmds.append(exclude)\n",
    "    cmds.extend(['-ds',dataset])\n",
    "    if gendists:\n",
    "        cmds.extend(['-gd',gendists])\n",
    "    if precision:\n",
    "        cmds.extend(['-p',str(precision)])\n",
    "    cmds.extend(['-o',outdir])\n",
    "    nodes_path = os.path.join(outdir,'nodes.csv')\n",
    "    gen_path = os.path.join(outdir,'generators.csv')\n",
    "    cmds.extend([year,nodes_path,gen_path])\n",
    "\n",
    "    print_cli_call_and_output(cmds)\n",
    "    \n",
    "call_sssmatch(outdirs[0],year,scenario,geographies,excludes[dataset],dataset=dataset)"
   ]
  },
  {
   "cell_type": "markdown",
   "metadata": {},
   "source": [
    "*The above does not work because the desired wind capacity is too high relative to what we determined we could put on our system. If we back the year down to 2042, we can get a new mix.*"
   ]
  },
  {
   "cell_type": "code",
   "execution_count": 20,
   "metadata": {},
   "outputs": [
    {
     "name": "stdout",
     "output_type": "stream",
     "text": [
      "python c:\\python36\\Scripts\\sssm.py match -s National_RPS_80 -g national -eg Geothermal -ds \"NREL Standard Scenarios 2016\" -o rts_new_genmix_1 2042 rts_new_genmix_1\\nodes.csv rts_new_genmix_1\\generators.csv\n",
      "\n",
      "2017-09-01 10:18:28,610|INFO|sssmatch.request|\n",
      "    System load is 36.581 TWh. The generation mix is based on 4612.800 TWh of useable generation. Thus the generation mix capacities will be scaled by a factor of 0.007930407470112028.\n",
      "2017-09-01 10:18:28,618|INFO|sssmatch.request|\n",
      "    Request summary:\n",
      "                 Current Capacity (MW)  Desired Capacity (MW)\n",
      "Biopower                           0.0              84.687235\n",
      "CSP                              200.0             332.004130\n",
      "Coal                            2317.0             298.625838\n",
      "Hydro                           1000.0             649.825519\n",
      "Land-based Wind                 2507.9            3413.218033\n",
      "NG-CC                           3550.0            2985.398720\n",
      "NG-CT                           1485.0            2058.365808\n",
      "Nuclear                          400.0             403.679945\n",
      "Oil-Gas-Steam                    324.0              56.987908\n",
      "Rooftop PV                      1161.4            1236.516270\n",
      "Storage                           50.0             558.393472\n",
      "Utility PV                      1554.5            4530.629892\n",
      "2017-09-01 10:18:29,259|INFO|gdxpds|\n",
      "    Optional package psutil not found. pip install psutil if you would like to monitor memory usage.\n",
      "c:\\python36\\lib\\site-packages\\pandas\\core\\frame.py:2754: SettingWithCopyWarning: \n",
      "A value is trying to be set on a copy of a slice from a DataFrame\n",
      "\n",
      "See the caveats in the documentation: http://pandas.pydata.org/pandas-docs/stable/indexing.html#indexing-view-versus-copy\n",
      "  downcast=downcast, **kwargs)\n",
      "2017-09-01 10:18:30,779|INFO|gdxpds.gdx|\n",
      "    Opening 'rts_new_genmix_1\\MatchGenerationMix_p.gdx' with 12 symbols and 85 elements with lazy_load = True.\n",
      "                 Current Capacity (MW)  Desired Capacity (MW)  kept (MW)  \\\n",
      "Biopower                           0.0              84.687235        0.0   \n",
      "CSP                              200.0             332.004130      200.0   \n",
      "Coal                            2317.0             298.625838      299.0   \n",
      "Hydro                           1000.0             649.825519      650.0   \n",
      "Land-based Wind                 2507.9            3413.218033     2507.9   \n",
      "NG-CC                           3550.0            2985.398720     2985.0   \n",
      "NG-CT                           1485.0            2058.365808     1155.0   \n",
      "Nuclear                          400.0             403.679945      400.0   \n",
      "Oil-Gas-Steam                    324.0              56.987908       57.0   \n",
      "Rooftop PV                      1161.4            1236.516270     1161.4   \n",
      "Storage                           50.0             558.393472        0.0   \n",
      "Utility PV                      1554.5            4530.629892     1554.5   \n",
      "TOTAL                          14549.8           16608.332769    10969.8   \n",
      "\n",
      "                 swapped out (MW)  swapped in (MW)  added (MW)  removed (MW)  \\\n",
      "Biopower                      0.0             85.0         0.0           0.0   \n",
      "CSP                           0.0              0.0       132.0           0.0   \n",
      "Coal                       1742.6              0.0         0.0         275.4   \n",
      "Hydro                       350.0              0.0         0.0           0.0   \n",
      "Land-based Wind               0.0            200.0       705.1           0.0   \n",
      "NG-CC                       355.0              0.0         0.0         210.0   \n",
      "NG-CT                       330.0            903.0         0.0           0.0   \n",
      "Nuclear                       0.0              4.0         0.0           0.0   \n",
      "Oil-Gas-Steam               267.0              0.0         0.0           0.0   \n",
      "Rooftop PV                    0.0             75.6         0.0           0.0   \n",
      "Storage                      50.0            558.0         0.0           0.0   \n",
      "Utility PV                    0.0           1269.0      1707.5           0.0   \n",
      "TOTAL                      3094.6           3094.6      2544.6         485.4   \n",
      "\n",
      "                 final (MW)  \n",
      "Biopower               85.0  \n",
      "CSP                   332.0  \n",
      "Coal                  299.0  \n",
      "Hydro                 650.0  \n",
      "Land-based Wind      3413.0  \n",
      "NG-CC                2985.0  \n",
      "NG-CT                2058.0  \n",
      "Nuclear               404.0  \n",
      "Oil-Gas-Steam          57.0  \n",
      "Rooftop PV           1237.0  \n",
      "Storage               558.0  \n",
      "Utility PV           4531.0  \n",
      "TOTAL               16609.0  \n",
      "\n"
     ]
    }
   ],
   "source": [
    "year = {'NREL Standard Scenarios 2016': str(2042),\n",
    "        'NREL Standard Scenarios 2017': str(2038)}\n",
    "call_sssmatch(outdirs[0],year[dataset],scenario,geographies,excludes[dataset],dataset=dataset)"
   ]
  },
  {
   "cell_type": "markdown",
   "metadata": {},
   "source": [
    "*Alternatively, we can pick a part of the country that has less wind and still get a 2050 mix with the same scenario.*"
   ]
  },
  {
   "cell_type": "code",
   "execution_count": 21,
   "metadata": {},
   "outputs": [
    {
     "name": "stdout",
     "output_type": "stream",
     "text": [
      "python c:\\python36\\Scripts\\sssm.py match -s National_RPS_80 -g FL GA AL SC NC TN -eg Geothermal -ds \"NREL Standard Scenarios 2016\" -o rts_new_genmix_2 2050 rts_new_genmix_2\\nodes.csv rts_new_genmix_2\\generators.csv\n",
      "\n",
      "2017-09-01 10:18:34,884|INFO|sssmatch.request|\n",
      "    System load is 36.581 TWh. The generation mix is based on 988.447 TWh of useable generation. Thus the generation mix capacities will be scaled by a factor of 0.037008943407383185.\n",
      "2017-09-01 10:18:34,892|INFO|sssmatch.request|\n",
      "    Request summary:\n",
      "                 Current Capacity (MW)  Desired Capacity (MW)\n",
      "Biopower                           0.0             215.399452\n",
      "CSP                              200.0             106.415516\n",
      "Coal                            2317.0              42.019954\n",
      "Hydro                           1000.0             437.060818\n",
      "Land-based Wind                 2507.9            1859.976973\n",
      "NG-CC                           3550.0            4426.262230\n",
      "NG-CT                           1485.0            2351.955362\n",
      "Nuclear                          400.0             245.924429\n",
      "Oil-Gas-Steam                    324.0              33.222928\n",
      "Rooftop PV                      1161.4            2225.236740\n",
      "Storage                           50.0             506.626529\n",
      "Utility PV                      1554.5            6248.260625\n",
      "2017-09-01 10:18:35,437|INFO|gdxpds|\n",
      "    Optional package psutil not found. pip install psutil if you would like to monitor memory usage.\n",
      "c:\\python36\\lib\\site-packages\\pandas\\core\\frame.py:2754: SettingWithCopyWarning: \n",
      "A value is trying to be set on a copy of a slice from a DataFrame\n",
      "\n",
      "See the caveats in the documentation: http://pandas.pydata.org/pandas-docs/stable/indexing.html#indexing-view-versus-copy\n",
      "  downcast=downcast, **kwargs)\n",
      "2017-09-01 10:18:37,053|INFO|gdxpds.gdx|\n",
      "    Opening 'rts_new_genmix_2\\MatchGenerationMix_p.gdx' with 12 symbols and 85 elements with lazy_load = True.\n",
      "                 Current Capacity (MW)  Desired Capacity (MW)  kept (MW)  \\\n",
      "Biopower                           0.0             215.399452        0.0   \n",
      "CSP                              200.0             106.415516      106.0   \n",
      "Coal                            2317.0              42.019954       42.0   \n",
      "Hydro                           1000.0             437.060818      437.0   \n",
      "Land-based Wind                 2507.9            1859.976973     1860.0   \n",
      "NG-CC                           3550.0            4426.262230     3549.0   \n",
      "NG-CT                           1485.0            2351.955362     1265.0   \n",
      "Nuclear                          400.0             245.924429      246.0   \n",
      "Oil-Gas-Steam                    324.0              33.222928       33.0   \n",
      "Rooftop PV                      1161.4            2225.236740     1161.4   \n",
      "Storage                           50.0             506.626529       50.0   \n",
      "Utility PV                      1554.5            6248.260625     1554.5   \n",
      "TOTAL                          14549.8           18698.361558    10303.9   \n",
      "\n",
      "                 swapped out (MW)  swapped in (MW)  added (MW)  removed (MW)  \\\n",
      "Biopower                      0.0            215.0         0.0           0.0   \n",
      "CSP                           0.0              0.0         0.0          94.0   \n",
      "Coal                       2275.0              0.0         0.0           0.0   \n",
      "Hydro                       310.0              0.0         0.0         253.0   \n",
      "Land-based Wind             328.3              0.0         0.0         319.6   \n",
      "NG-CC                         1.0            877.0         0.0           0.0   \n",
      "NG-CT                       110.0           1087.0         0.0         110.0   \n",
      "Nuclear                     154.0              0.0         0.0           0.0   \n",
      "Oil-Gas-Steam               291.0              0.0         0.0           0.0   \n",
      "Rooftop PV                    0.0            378.3       685.3           0.0   \n",
      "Storage                       0.0            457.0         0.0           0.0   \n",
      "Utility PV                    0.0            455.0      4238.5           0.0   \n",
      "TOTAL                      3469.3           3469.3      4923.8         776.6   \n",
      "\n",
      "                 final (MW)  \n",
      "Biopower              215.0  \n",
      "CSP                   106.0  \n",
      "Coal                   42.0  \n",
      "Hydro                 437.0  \n",
      "Land-based Wind      1860.0  \n",
      "NG-CC                4426.0  \n",
      "NG-CT                2352.0  \n",
      "Nuclear               246.0  \n",
      "Oil-Gas-Steam          33.0  \n",
      "Rooftop PV           2225.0  \n",
      "Storage               507.0  \n",
      "Utility PV           6248.0  \n",
      "TOTAL               18697.0  \n",
      "\n"
     ]
    }
   ],
   "source": [
    "year = {'NREL Standard Scenarios 2016': str(2050),\n",
    "        'NREL Standard Scenarios 2017': str(2042)}\n",
    "geographies = ['FL','GA','AL','SC','NC','TN']\n",
    "call_sssmatch(outdirs[1],year[dataset],scenario,geographies,excludes[dataset],dataset=dataset)"
   ]
  },
  {
   "cell_type": "markdown",
   "metadata": {},
   "source": [
    "*We will get a different answer if we use a different set of distances between generator types, and a different desired precision.*"
   ]
  },
  {
   "cell_type": "code",
   "execution_count": 22,
   "metadata": {},
   "outputs": [
    {
     "name": "stdout",
     "output_type": "stream",
     "text": [
      "python c:\\python36\\Scripts\\sssm.py match -s National_RPS_80 -g FL GA AL SC NC TN -eg Geothermal -ds \"NREL Standard Scenarios 2016\" -gd c:\\python36\\lib\\site-packages\\sssmatch\\models\\equal_gendists.csv -p 3 -o rts_new_genmix_3 2050 rts_new_genmix_3\\nodes.csv rts_new_genmix_3\\generators.csv\n",
      "\n",
      "2017-09-01 10:18:41,096|INFO|sssmatch.request|\n",
      "    System load is 36.581 TWh. The generation mix is based on 988.447 TWh of useable generation. Thus the generation mix capacities will be scaled by a factor of 0.037008943407383185.\n",
      "2017-09-01 10:18:41,103|INFO|sssmatch.request|\n",
      "    Request summary:\n",
      "                 Current Capacity (MW)  Desired Capacity (MW)\n",
      "Biopower                           0.0             215.399452\n",
      "CSP                              200.0             106.415516\n",
      "Coal                            2317.0              42.019954\n",
      "Hydro                           1000.0             437.060818\n",
      "Land-based Wind                 2507.9            1859.976973\n",
      "NG-CC                           3550.0            4426.262230\n",
      "NG-CT                           1485.0            2351.955362\n",
      "Nuclear                          400.0             245.924429\n",
      "Oil-Gas-Steam                    324.0              33.222928\n",
      "Rooftop PV                      1161.4            2225.236740\n",
      "Storage                           50.0             506.626529\n",
      "Utility PV                      1554.5            6248.260625\n",
      "2017-09-01 10:18:41,688|INFO|gdxpds|\n",
      "    Optional package psutil not found. pip install psutil if you would like to monitor memory usage.\n",
      "c:\\python36\\lib\\site-packages\\pandas\\core\\frame.py:2754: SettingWithCopyWarning: \n",
      "A value is trying to be set on a copy of a slice from a DataFrame\n",
      "\n",
      "See the caveats in the documentation: http://pandas.pydata.org/pandas-docs/stable/indexing.html#indexing-view-versus-copy\n",
      "  downcast=downcast, **kwargs)\n",
      "2017-09-01 10:18:43,310|INFO|gdxpds.gdx|\n",
      "    Opening 'rts_new_genmix_3\\MatchGenerationMix_p.gdx' with 12 symbols and 85 elements with lazy_load = True.\n",
      "                 Current Capacity (MW)  Desired Capacity (MW)  kept (MW)  \\\n",
      "Biopower                           0.0             215.399452      0.000   \n",
      "CSP                              200.0             106.415516    106.416   \n",
      "Coal                            2317.0              42.019954     42.020   \n",
      "Hydro                           1000.0             437.060818    437.061   \n",
      "Land-based Wind                 2507.9            1859.976973   1859.977   \n",
      "NG-CC                           3550.0            4426.262230   3550.000   \n",
      "NG-CT                           1485.0            2351.955362   1485.000   \n",
      "Nuclear                          400.0             245.924429    245.924   \n",
      "Oil-Gas-Steam                    324.0              33.222928     33.223   \n",
      "Rooftop PV                      1161.4            2225.236740   1161.400   \n",
      "Storage                           50.0             506.626529     50.000   \n",
      "Utility PV                      1554.5            6248.260625   1554.500   \n",
      "TOTAL                          14549.8           18698.361558  10525.521   \n",
      "\n",
      "                 swapped out (MW)  swapped in (MW)  added (MW)  removed (MW)  \\\n",
      "Biopower                    0.000          215.399       0.000         0.000   \n",
      "CSP                         0.000            0.000       0.000        93.584   \n",
      "Coal                     2274.980            0.000       0.000         0.000   \n",
      "Hydro                     200.000            0.000       0.000       362.939   \n",
      "Land-based Wind           328.300            0.000       0.000       319.623   \n",
      "NG-CC                       0.000          776.000     100.262         0.000   \n",
      "NG-CT                       0.000          688.449     178.506         0.000   \n",
      "Nuclear                   154.076            0.000       0.000         0.000   \n",
      "Oil-Gas-Steam             290.777            0.000       0.000         0.000   \n",
      "Rooftop PV                  0.000          729.658     334.179         0.000   \n",
      "Storage                     0.000          456.627       0.000         0.000   \n",
      "Utility PV                  0.000          382.000    4311.761         0.000   \n",
      "TOTAL                    3248.133         3248.133    4924.708       776.146   \n",
      "\n",
      "                 final (MW)  \n",
      "Biopower            215.399  \n",
      "CSP                 106.416  \n",
      "Coal                 42.020  \n",
      "Hydro               437.061  \n",
      "Land-based Wind    1859.977  \n",
      "NG-CC              4426.262  \n",
      "NG-CT              2351.955  \n",
      "Nuclear             245.924  \n",
      "Oil-Gas-Steam        33.223  \n",
      "Rooftop PV         2225.237  \n",
      "Storage             506.627  \n",
      "Utility PV         6248.261  \n",
      "TOTAL             18698.362  \n",
      "\n"
     ]
    }
   ],
   "source": [
    "call_sssmatch(outdirs[2],year[dataset],scenario,geographies,excludes[dataset],dataset=dataset,\n",
    "              gendists=os.path.join(sssmatch.models_dir,'equal_gendists.csv'),\n",
    "              precision=3)"
   ]
  },
  {
   "cell_type": "code",
   "execution_count": null,
   "metadata": {
    "collapsed": true
   },
   "outputs": [],
   "source": []
  }
 ],
 "metadata": {
  "kernelspec": {
   "display_name": "Python 3",
   "language": "python",
   "name": "python3"
  },
  "language_info": {
   "codemirror_mode": {
    "name": "ipython",
    "version": 3
   },
   "file_extension": ".py",
   "mimetype": "text/x-python",
   "name": "python",
   "nbconvert_exporter": "python",
   "pygments_lexer": "ipython3",
   "version": "3.6.2"
  }
 },
 "nbformat": 4,
 "nbformat_minor": 2
}
