{
 "cells": [
  {
   "cell_type": "markdown",
   "metadata": {},
   "source": [
    "# Demonstration of the Standard ScenarioS Match (sssmatch) Tool to the RTS-GMLC System"
   ]
  },
  {
   "cell_type": "code",
   "execution_count": 1,
   "metadata": {
    "collapsed": true
   },
   "outputs": [],
   "source": [
    "import logging\n",
    "import os\n",
    "import subprocess\n",
    "\n",
    "import numpy as np\n",
    "import pandas as pds\n",
    "\n",
    "import sssmatch\n",
    "\n",
    "logging.basicConfig()\n",
    "\n",
    "def print_cli_call_and_output(cmds):\n",
    "    print(subprocess.list2cmdline(cmds) + \"\\n\")\n",
    "    try:\n",
    "        stdout = subprocess.check_output(cmds,stderr=subprocess.STDOUT)\n",
    "    except subprocess.CalledProcessError as e:\n",
    "        stdout = e.output\n",
    "    print(stdout.decode('utf-8'))\n",
    "    \n",
    "def multi_index(df, cols):\n",
    "    result = df.copy()\n",
    "    result.index = result[cols[0]] if len(cols) == 1 else pds.MultiIndex.from_tuples(list(zip(*[result[col].tolist() for col in cols])),names = cols)\n",
    "    for col in cols:\n",
    "        del result[col]\n",
    "    return result "
   ]
  },
  {
   "cell_type": "markdown",
   "metadata": {},
   "source": [
    "[Browse Standard Scenarios](#Browse-Standard-Scenarios) | [Apply Generation Mixes to RTS-GMLC](#Apply-Generation-Mixes-to-RTS-GMLC)"
   ]
  },
  {
   "cell_type": "markdown",
   "metadata": {},
   "source": [
    "## Browse Standard Scenarios\n",
    "\n",
    "The sssmatch command line interface (CLI) can be used to browse standard scenarios data."
   ]
  },
  {
   "cell_type": "code",
   "execution_count": 2,
   "metadata": {},
   "outputs": [
    {
     "name": "stdout",
     "output_type": "stream",
     "text": [
      "CLI path is:\n",
      "    C:\\projects\\sssmatch\\bin\\sssm.py\n"
     ]
    }
   ],
   "source": [
    "print(\"CLI path is:\\n    {}\".format(sssmatch.cli_path))"
   ]
  },
  {
   "cell_type": "markdown",
   "metadata": {},
   "source": [
    "### Help"
   ]
  },
  {
   "cell_type": "code",
   "execution_count": 3,
   "metadata": {},
   "outputs": [
    {
     "name": "stdout",
     "output_type": "stream",
     "text": [
      "python C:\\projects\\sssmatch\\bin\\sssm.py browse -h\n",
      "\n",
      "usage: sssm.py browse [-h] [-f FILENAME]\n",
      "                      {datasets,gentypes,years,scenarios,geographies,mixes}\n",
      "                      ...\n",
      "\n",
      "positional arguments:\n",
      "  {datasets,gentypes,years,scenarios,geographies,mixes}\n",
      "    datasets            List available datasets.\n",
      "    gentypes            List generator types present in the selected dataset.\n",
      "    years               List scenario years associated with generation mixes.\n",
      "    scenarios           List available scenarios in chosen dataset.\n",
      "    geographies         List available geographies in chosen dataset.\n",
      "    mixes               List a particular generator mix represented in the\n",
      "                        chosen dataset.\n",
      "\n",
      "optional arguments:\n",
      "  -h, --help            show this help message and exit\n",
      "  -f FILENAME, --filename FILENAME\n",
      "                        Where to save listed information in csv format.\n",
      "                        Default is to print to screen only.\n",
      "\n"
     ]
    }
   ],
   "source": [
    "print_cli_call_and_output(['python',sssmatch.cli_path,'browse','-h'])"
   ]
  },
  {
   "cell_type": "markdown",
   "metadata": {},
   "source": [
    "### Available datasets"
   ]
  },
  {
   "cell_type": "code",
   "execution_count": 4,
   "metadata": {},
   "outputs": [
    {
     "name": "stdout",
     "output_type": "stream",
     "text": [
      "python C:\\projects\\sssmatch\\bin\\sssm.py browse datasets\n",
      "\n",
      "  NREL Standard Scenarios 2016\n",
      "  NREL Standard Scenarios 2017\n",
      "\n"
     ]
    }
   ],
   "source": [
    "print_cli_call_and_output(['python',sssmatch.cli_path,'browse','datasets'])"
   ]
  },
  {
   "cell_type": "markdown",
   "metadata": {},
   "source": [
    "### Generator Types"
   ]
  },
  {
   "cell_type": "code",
   "execution_count": 5,
   "metadata": {},
   "outputs": [
    {
     "name": "stdout",
     "output_type": "stream",
     "text": [
      "python C:\\projects\\sssmatch\\bin\\sssm.py browse gentypes -ds \"NREL Standard Scenarios 2017\"\n",
      "\n",
      "  Biopower\n",
      "  CSP\n",
      "  Coal\n",
      "  Geothermal\n",
      "  Hydro\n",
      "  Land-based Wind\n",
      "  NG-CC\n",
      "  NG-CT\n",
      "  Nuclear\n",
      "  Offshore Wind\n",
      "  Oil-Gas-Steam\n",
      "  PV\n",
      "  Storage\n",
      "\n"
     ]
    }
   ],
   "source": [
    "dataset = 'NREL Standard Scenarios 2017'\n",
    "print_cli_call_and_output(['python',sssmatch.cli_path,'browse','gentypes','-ds',dataset])"
   ]
  },
  {
   "cell_type": "markdown",
   "metadata": {},
   "source": [
    "### Years"
   ]
  },
  {
   "cell_type": "code",
   "execution_count": 6,
   "metadata": {},
   "outputs": [
    {
     "name": "stdout",
     "output_type": "stream",
     "text": [
      "python C:\\projects\\sssmatch\\bin\\sssm.py browse years -ds \"NREL Standard Scenarios 2017\"\n",
      "\n",
      "  2010\n",
      "  2012\n",
      "  2014\n",
      "  2016\n",
      "  2018\n",
      "  2020\n",
      "  2022\n",
      "  2024\n",
      "  2026\n",
      "  2028\n",
      "  2030\n",
      "  2032\n",
      "  2034\n",
      "  2036\n",
      "  2038\n",
      "  2040\n",
      "  2042\n",
      "  2044\n",
      "  2046\n",
      "  2048\n",
      "  2050\n",
      "\n"
     ]
    }
   ],
   "source": [
    "print_cli_call_and_output(['python',sssmatch.cli_path,'browse','years','-ds',dataset])"
   ]
  },
  {
   "cell_type": "markdown",
   "metadata": {},
   "source": [
    "### Scenarios"
   ]
  },
  {
   "cell_type": "code",
   "execution_count": 7,
   "metadata": {},
   "outputs": [
    {
     "name": "stdout",
     "output_type": "stream",
     "text": [
      "python C:\\projects\\sssmatch\\bin\\sssm.py browse scenarios -ds \"NREL Standard Scenarios 2017\"\n",
      "\n",
      "  Acc_coal_retire\n",
      "  Carbon_cap\n",
      "  Climate_change\n",
      "  Cooling_water_restrictions\n",
      "  Early_nuclear_Retirements\n",
      "  High_Bat_Cost\n",
      "  High_Demand_Growth\n",
      "  High_NG_Price\n",
      "  High_PHEV\n",
      "  High_RE_Cost\n",
      "  High_transmission_cost\n",
      "  Low_Bat_Cost\n",
      "  Low_Demand_Growth\n",
      "  Low_Finance_Cost\n",
      "  Low_NG_Price\n",
      "  Low_PV_Cost\n",
      "  Low_RE_Cost\n",
      "  Low_Wind_Cost\n",
      "  Mid_Case\n",
      "  National_RPS_80\n",
      "  PTC_ITC_extension\n",
      "  Reduced_cost_nuclear\n",
      "  Reduced_RE_resource\n",
      "  WithCPP\n",
      "  60Year_nuclear_lifetime\n",
      "  80Year_nuclear_lifetime\n",
      "\n"
     ]
    }
   ],
   "source": [
    "print_cli_call_and_output(['python',sssmatch.cli_path,'browse','scenarios','-ds',dataset])"
   ]
  },
  {
   "cell_type": "markdown",
   "metadata": {},
   "source": [
    "### Geographies"
   ]
  },
  {
   "cell_type": "code",
   "execution_count": 8,
   "metadata": {},
   "outputs": [
    {
     "name": "stdout",
     "output_type": "stream",
     "text": [
      "python C:\\projects\\sssmatch\\bin\\sssm.py browse geographies -ds \"NREL Standard Scenarios 2017\"\n",
      "\n",
      "  national\n",
      "  AL\n",
      "  AR\n",
      "  AZ\n",
      "  CA\n",
      "  CO\n",
      "  CT\n",
      "  DE\n",
      "  FL\n",
      "  GA\n",
      "  IA\n",
      "  ID\n",
      "  IL\n",
      "  IN\n",
      "  KS\n",
      "  KY\n",
      "  LA\n",
      "  MA\n",
      "  MD\n",
      "  ME\n",
      "  MI\n",
      "  MN\n",
      "  MO\n",
      "  MS\n",
      "  MT\n",
      "  NC\n",
      "  ND\n",
      "  NE\n",
      "  NH\n",
      "  NJ\n",
      "  NM\n",
      "  NV\n",
      "  NY\n",
      "  OH\n",
      "  OK\n",
      "  OR\n",
      "  PA\n",
      "  RI\n",
      "  SC\n",
      "  SD\n",
      "  TN\n",
      "  TX\n",
      "  UT\n",
      "  VA\n",
      "  VT\n",
      "  WA\n",
      "  WI\n",
      "  WV\n",
      "  WY\n",
      "\n"
     ]
    }
   ],
   "source": [
    "print_cli_call_and_output(['python',sssmatch.cli_path,'browse','geographies','-ds',dataset])"
   ]
  },
  {
   "cell_type": "markdown",
   "metadata": {},
   "source": [
    "### Mixes"
   ]
  },
  {
   "cell_type": "code",
   "execution_count": 9,
   "metadata": {},
   "outputs": [
    {
     "name": "stdout",
     "output_type": "stream",
     "text": [
      "python C:\\projects\\sssmatch\\bin\\sssm.py browse mixes -h\n",
      "\n",
      "usage: sssm.py browse mixes [-h] [-s SCENARIO] [-g GEOGRAPHY [GEOGRAPHY ...]]\n",
      "                            [-ds DATASET]\n",
      "                            scenario_year\n",
      "\n",
      "positional arguments:\n",
      "  scenario_year         Model year on which to base new generation mix.\n",
      "\n",
      "optional arguments:\n",
      "  -h, --help            show this help message and exit\n",
      "  -s SCENARIO, --scenario SCENARIO\n",
      "                        Scenario on which to base the new generation mix.\n",
      "                        Defaults to the central or mid-case scenario.\n",
      "  -g GEOGRAPHY [GEOGRAPHY ...], --geography GEOGRAPHY [GEOGRAPHY ...]\n",
      "                        Geography from which to pull generation mix data. If\n",
      "                        multiple geographies are listed, the union will be\n",
      "                        taken.\n",
      "  -ds DATASET, --dataset DATASET\n",
      "                        Dataset from which to pull scenarios.\n",
      "\n"
     ]
    }
   ],
   "source": [
    "print_cli_call_and_output(['python',sssmatch.cli_path,'browse','mixes','-h'])"
   ]
  },
  {
   "cell_type": "code",
   "execution_count": 10,
   "metadata": {},
   "outputs": [
    {
     "name": "stdout",
     "output_type": "stream",
     "text": [
      "python C:\\projects\\sssmatch\\bin\\sssm.py browse mixes 2030 -ds \"NREL Standard Scenarios 2017\"\n",
      "\n",
      "                 Capacity (GW)  Generation (TWh)  Capacity Fraction  \\\n",
      "Biopower                7.7136           44.7127           0.006400   \n",
      "CSP                     1.8946            5.2822           0.001572   \n",
      "Coal                  205.4630         1313.1100           0.170470   \n",
      "Curtailment                NaN           -6.3442                NaN   \n",
      "Geothermal              6.8022           50.6221           0.005644   \n",
      "Hydro                  80.6928          288.7735           0.066950   \n",
      "Imports                    NaN           50.0870                NaN   \n",
      "Land-based Wind       111.0763          370.6035           0.092158   \n",
      "NG-CC                 324.0777         1032.7762           0.268883   \n",
      "NG-CT                 141.9983            4.0836           0.117814   \n",
      "Nuclear                91.9338          726.7363           0.076276   \n",
      "Offshore Wind           0.0300            0.1097           0.000025   \n",
      "Oil-Gas-Steam          26.1029            0.0000           0.021657   \n",
      "PV                    183.1712          350.2645           0.151974   \n",
      "Storage                24.3196           -3.1674           0.020178   \n",
      "TOTAL                1205.2760         4227.6497           1.000000   \n",
      "\n",
      "                 Generation Fraction  \n",
      "Biopower                    0.010576  \n",
      "CSP                         0.001249  \n",
      "Coal                        0.310600  \n",
      "Curtailment                -0.001501  \n",
      "Geothermal                  0.011974  \n",
      "Hydro                       0.068306  \n",
      "Imports                     0.011847  \n",
      "Land-based Wind             0.087662  \n",
      "NG-CC                       0.244291  \n",
      "NG-CT                       0.000966  \n",
      "Nuclear                     0.171901  \n",
      "Offshore Wind               0.000026  \n",
      "Oil-Gas-Steam               0.000000  \n",
      "PV                          0.082851  \n",
      "Storage                    -0.000749  \n",
      "TOTAL                       1.000000  \n",
      "\n"
     ]
    }
   ],
   "source": [
    "# Browse default: national-level Central_scenario / Mid_Case\n",
    "year = str(2030)\n",
    "print_cli_call_and_output(['python',sssmatch.cli_path,'browse','mixes',year,'-ds',dataset])"
   ]
  },
  {
   "cell_type": "code",
   "execution_count": 11,
   "metadata": {},
   "outputs": [
    {
     "name": "stdout",
     "output_type": "stream",
     "text": [
      "python C:\\projects\\sssmatch\\bin\\sssm.py browse mixes 2040 -ds \"NREL Standard Scenarios 2017\" -s High_PHEV -g CA NV AZ\n",
      "\n",
      "                 Capacity (GW)  Generation (TWh)  Capacity Fraction  \\\n",
      "Biopower                0.9497            5.8785           0.004964   \n",
      "CSP                     1.8611            5.1351           0.009727   \n",
      "Coal                    4.8354           35.3975           0.025273   \n",
      "Curtailment                NaN           -5.7675                NaN   \n",
      "Geothermal              6.5561           48.8027           0.034266   \n",
      "Hydro                  14.6001           45.1756           0.076309   \n",
      "Imports                    NaN            0.0000                NaN   \n",
      "Land-based Wind        14.2338           52.3136           0.074394   \n",
      "NG-CC                  38.3628           80.1090           0.200506   \n",
      "NG-CT                  23.0073            0.2348           0.120250   \n",
      "Nuclear                 3.9370           31.1221           0.020577   \n",
      "Offshore Wind           0.0000            0.0000           0.000000   \n",
      "Oil-Gas-Steam           0.1123            0.0000           0.000587   \n",
      "PV                     73.3796          152.9016           0.383525   \n",
      "Storage                 9.4944           -5.3527           0.049623   \n",
      "TOTAL                 191.3296          445.9503           1.000000   \n",
      "\n",
      "                 Generation Fraction  \n",
      "Biopower                    0.013182  \n",
      "CSP                         0.011515  \n",
      "Coal                        0.079375  \n",
      "Curtailment                -0.012933  \n",
      "Geothermal                  0.109435  \n",
      "Hydro                       0.101302  \n",
      "Imports                     0.000000  \n",
      "Land-based Wind             0.117308  \n",
      "NG-CC                       0.179637  \n",
      "NG-CT                       0.000527  \n",
      "Nuclear                     0.069788  \n",
      "Offshore Wind               0.000000  \n",
      "Oil-Gas-Steam               0.000000  \n",
      "PV                          0.342867  \n",
      "Storage                    -0.012003  \n",
      "TOTAL                       1.000000  \n",
      "\n"
     ]
    }
   ],
   "source": [
    "# Browse arbitrary mixes\n",
    "year = str(2040)\n",
    "scenario = 'High_PHEV'\n",
    "geographies = ['CA','NV','AZ']\n",
    "print_cli_call_and_output(['python',sssmatch.cli_path,'browse','mixes',year,'-ds',dataset,'-s',scenario,'-g'] + geographies)"
   ]
  },
  {
   "cell_type": "markdown",
   "metadata": {},
   "source": [
    "## Apply Generation Mixes to RTS-GMLC\n",
    "\n",
    "[Format RTS System](#Format-RTS-System) | [Create New Generation Mix](#Create-New-Generation-Mix)"
   ]
  },
  {
   "cell_type": "markdown",
   "metadata": {},
   "source": [
    "### Format RTS System"
   ]
  },
  {
   "cell_type": "code",
   "execution_count": 12,
   "metadata": {
    "collapsed": true
   },
   "outputs": [],
   "source": [
    "dataset = 'NREL Standard Scenarios 2017'\n",
    "rts_dir = os.path.join('RTS-GMLC','RTS_Data')"
   ]
  },
  {
   "cell_type": "code",
   "execution_count": 13,
   "metadata": {
    "collapsed": true
   },
   "outputs": [],
   "source": [
    "gentypes_map = {\n",
    "    'Oil CT': 'Oil-Gas-Steam',\n",
    "    'Coal': 'Coal',\n",
    "    'Gas CC': 'NG-CC',\n",
    "    'Gas CT': 'NG-CT',\n",
    "    'Oil CT': 'Oil-Gas-Steam',\n",
    "    'Oil ST': 'Oil-Gas-Steam',\n",
    "    'Sync_Cond': None,\n",
    "    'Nuclear': 'Nuclear',\n",
    "    'Hydro': 'Hydro',\n",
    "    ('Solar','PV'): 'Utility PV',\n",
    "    ('Solar','RTPV'): 'Rooftop PV',\n",
    "    'CSP': 'CSP',\n",
    "    'Wind': 'Land-based Wind',\n",
    "    'Storage': 'Storage'\n",
    "}\n",
    "\n",
    "if dataset == 'NREL Standard Scenarios 2017':\n",
    "    gentypes_map[('Solar','PV')] = 'PV'\n",
    "    gentypes_map[('Solar','RTPV')] = 'PV'"
   ]
  },
  {
   "cell_type": "markdown",
   "metadata": {},
   "source": [
    "#### Nodes"
   ]
  },
  {
   "cell_type": "code",
   "execution_count": 14,
   "metadata": {},
   "outputs": [
    {
     "name": "stdout",
     "output_type": "stream",
     "text": [
      "   node_id   latitude   longitude  peak load (MW)  annual load (GWh)\n",
      "0      101  33.396103 -113.835642           108.0         424.160547\n",
      "1      102  33.357678 -113.825933            97.0         380.959010\n",
      "2      103  33.536833 -114.670399           180.0         706.934246\n",
      "3      104  33.812304 -113.825419            74.0         290.628523\n",
      "4      105  33.659560 -113.999023            71.0         278.846286\n"
     ]
    }
   ],
   "source": [
    "nodes = pds.read_csv(os.path.join(rts_dir,'SourceData','bus.csv'))\n",
    "nodes = nodes[['Bus ID','lat','lng','MW Load','Area']]\n",
    "nodes.columns = ['node_id','latitude','longitude','peak load (MW)','area']\n",
    "\n",
    "# total load per area\n",
    "load = pds.read_csv(os.path.join(rts_dir,'timeseries_data_files','Load','REAL_TIME_regional_load.csv'))\n",
    "num_points = len(load.index)\n",
    "num_days = len(load[['Year','Month','Day']].drop_duplicates().index)\n",
    "points_per_hour = (num_points / num_days) / 24\n",
    "load = multi_index(load,['Year','Month','Day','Period']).sum() / points_per_hour\n",
    "\n",
    "# GWh annual load / MW peak load\n",
    "peak_load = nodes[['peak load (MW)','area']].groupby('area').sum()['peak load (MW)']\n",
    "load.index = peak_load.index\n",
    "gwh_per_mw = load.divide(peak_load) / 1000.0\n",
    "gwh_per_mw.name = 'gwh_per_mw'\n",
    "gwh_per_mw = pds.DataFrame(gwh_per_mw)\n",
    "gwh_per_mw = gwh_per_mw.reset_index()\n",
    "\n",
    "# annual load per node\n",
    "nodes = nodes.merge(gwh_per_mw,how='left',on='area')\n",
    "nodes['annual load (GWh)'] = nodes['peak load (MW)'] * nodes['gwh_per_mw']\n",
    "del nodes['area']; del nodes['gwh_per_mw']\n",
    "print(nodes.head())"
   ]
  },
  {
   "cell_type": "markdown",
   "metadata": {},
   "source": [
    "#### Generators"
   ]
  },
  {
   "cell_type": "code",
   "execution_count": 15,
   "metadata": {},
   "outputs": [
    {
     "name": "stdout",
     "output_type": "stream",
     "text": [
      "                 capacity (MW)  capacity fraction\n",
      "generator type                                   \n",
      "CSP                      200.0           0.013746\n",
      "Coal                    2317.0           0.159246\n",
      "Hydro                   1000.0           0.068729\n",
      "Land-based Wind         2507.9           0.172367\n",
      "NG-CC                   3550.0           0.243990\n",
      "NG-CT                   1485.0           0.102063\n",
      "Nuclear                  400.0           0.027492\n",
      "Oil-Gas-Steam            324.0           0.022268\n",
      "PV                      2715.9           0.186662\n",
      "Storage                   50.0           0.003436\n",
      "Total                  14549.8           1.000000\n"
     ]
    }
   ],
   "source": [
    "generators = pds.read_csv(os.path.join(rts_dir,'SourceData','gen.csv'))\n",
    "gentypes = []\n",
    "for index, row in generators.iterrows():\n",
    "    key = None\n",
    "    if row['Category'] in gentypes_map:\n",
    "        key = row['Category']\n",
    "    elif (row['Category'],row['Unit Type']) in gentypes_map:\n",
    "        key = (row['Category'],row['Unit Type'])\n",
    "    if key is not None:\n",
    "        gentypes.append(gentypes_map[key])\n",
    "    else:\n",
    "        gentypes.append(None)\n",
    "generators['generator type'] = gentypes\n",
    "generators = generators[['Bus ID','generator type','PMax MW']]\n",
    "generators.columns = ['node_id','generator type','capacity (MW)']\n",
    "# drop un-mapped generators (synchronous condensors)\n",
    "generators = generators.dropna(axis=0,subset=['generator type'],how='all')\n",
    "rts_mix_summary = pds.pivot_table(generators,\n",
    "                                  values='capacity (MW)',\n",
    "                                  index='generator type',\n",
    "                                  aggfunc=np.sum,\n",
    "                                  margins=True,\n",
    "                                  margins_name='Total')\n",
    "rts_mix_summary = pds.DataFrame(rts_mix_summary)\n",
    "rts_mix_summary['capacity fraction'] = rts_mix_summary['capacity (MW)'] / rts_mix_summary.loc['Total','capacity (MW)']\n",
    "print(rts_mix_summary)"
   ]
  },
  {
   "cell_type": "code",
   "execution_count": 16,
   "metadata": {
    "scrolled": false
   },
   "outputs": [
    {
     "name": "stdout",
     "output_type": "stream",
     "text": [
      "Original RE Generation\n",
      "generator type  CSP  Land-based Wind     PV\n",
      "node_id                                    \n",
      "101               0              0.0  104.6\n",
      "102               0              0.0   50.9\n",
      "103               0              0.0   61.5\n",
      "104               0              0.0   26.8\n",
      "113               0              0.0   93.6\n",
      "118               0              0.0   94.1\n",
      "119               0              0.0   66.6\n",
      "122               0            713.5    0.0\n",
      "212             200              0.0    0.0\n",
      "213               0              0.0   13.2\n",
      "215               0              0.0  125.1\n",
      "303               0            847.0    0.0\n",
      "308               0              0.0  100.9\n",
      "309               0            148.3    0.0\n",
      "310               0              0.0  103.3\n",
      "312               0              0.0   94.1\n",
      "313               0              0.0  994.4\n",
      "314               0              0.0  247.5\n",
      "317               0            799.1    0.0\n",
      "319               0              0.0  188.2\n",
      "320               0              0.0  198.8\n",
      "324               0              0.0  152.3\n",
      "\n",
      "Maximum Allowed RE Generation\n",
      "generator type     CSP  Land-based Wind           PV\n",
      "node_id                                             \n",
      "101                0.0         0.000000   523.000000\n",
      "102                0.0         0.000000   254.500000\n",
      "103                0.0         0.000000   307.500000\n",
      "104                0.0         0.000000   134.000000\n",
      "113                0.0         0.000000   468.000000\n",
      "118                0.0         0.000000   470.500000\n",
      "119                0.0         0.000000   333.000000\n",
      "122                0.0      1000.000000     0.000000\n",
      "212             1000.0         0.000000     0.000000\n",
      "213                0.0         0.000000    66.000000\n",
      "215                0.0         0.000000   625.500000\n",
      "303                0.0       445.071901     0.000000\n",
      "308                0.0         0.000000   504.500000\n",
      "309                0.0       617.431015     0.000000\n",
      "310                0.0         0.000000   516.500000\n",
      "312                0.0         0.000000   470.500000\n",
      "313                0.0         0.000000  1639.966966\n",
      "314                0.0         0.000000  1102.466382\n",
      "317                0.0      1500.000000     0.000000\n",
      "319                0.0         0.000000   941.000000\n",
      "320                0.0         0.000000   994.000000\n",
      "324                0.0         0.000000   500.000000\n"
     ]
    }
   ],
   "source": [
    "# Add RE maximum capacities to nodes\n",
    "re_techs = ['CSP','Land-based Wind','Utility PV','Rooftop PV']   \n",
    "max_inflation_factor = 5.0\n",
    "set_rooftop_by_peak_load = True\n",
    "\n",
    "if dataset == 'NREL Standard Scenarios 2017':\n",
    "    re_techs = ['CSP','Land-based Wind','PV']\n",
    "    set_rooftop_by_peak_load = False\n",
    "\n",
    "# Initial amount of utility-scale RE\n",
    "re_gen = pds.pivot_table(generators[generators['generator type'].isin(re_techs)],\n",
    "                         values='capacity (MW)',\n",
    "                         index='node_id',\n",
    "                         columns = 'generator type',\n",
    "                         aggfunc=np.sum,\n",
    "                         fill_value=0.0)\n",
    "print('Original RE Generation')\n",
    "print(re_gen)\n",
    "\n",
    "# Inflate\n",
    "branches = pds.read_csv(os.path.join(rts_dir,'SourceData','branch.csv'))\n",
    "branches = branches[branches.Length > 0]\n",
    "out_capacity = []\n",
    "avg_load = []\n",
    "for node_id in re_gen.index:\n",
    "    out_capacity.append(branches[(branches['From Bus'] == node_id) | (branches['To Bus'] == node_id)]['Cont Rating'].sum())\n",
    "    this_node = nodes[nodes.node_id == node_id]\n",
    "    this_avg_load = this_node['annual load (GWh)']*1000.0 / (24.0 * num_days)\n",
    "    this_avg_load = this_avg_load.values[0]\n",
    "    avg_load.append(this_avg_load)\n",
    "re_gen['out capacity (MW)'] = out_capacity\n",
    "re_gen['average load (MW)'] = avg_load\n",
    "for re_tech in re_techs:\n",
    "    if re_tech in re_gen:\n",
    "        tmp = pds.concat([re_gen[re_tech] * max_inflation_factor, \n",
    "                          re_gen['out capacity (MW)'] + re_gen['average load (MW)']],\n",
    "                         axis=1)\n",
    "        re_gen[re_tech] = tmp.min(axis=1)\n",
    "del re_gen['out capacity (MW)']; del re_gen['average load (MW)']\n",
    "print(\"\\nMaximum Allowed RE Generation\")\n",
    "print(re_gen)\n",
    "\n",
    "# Add to nodes\n",
    "nodes = nodes.merge(re_gen,how='left',left_on='node_id',right_index=True)\n",
    "nodes.fillna(0.0,inplace=True)\n",
    "\n",
    "# Override Rooftop PV limit if desired\n",
    "if set_rooftop_by_peak_load:\n",
    "    nodes['Rooftop PV'] = nodes['peak load (MW)']  \n"
   ]
  },
  {
   "cell_type": "markdown",
   "metadata": {},
   "source": [
    "#### Save out"
   ]
  },
  {
   "cell_type": "code",
   "execution_count": 17,
   "metadata": {
    "collapsed": true
   },
   "outputs": [],
   "source": [
    "outdirs = ['rts_new_genmix_1','rts_new_genmix_2','rts_new_genmix_3']\n",
    "for outdir in outdirs:\n",
    "    if not os.path.exists(outdir):\n",
    "        os.mkdir(outdir)\n",
    "    nodes.to_csv(os.path.join(outdir,'nodes.csv'),index=False)\n",
    "    generators.to_csv(os.path.join(outdir,'generators.csv'),index=False)"
   ]
  },
  {
   "cell_type": "markdown",
   "metadata": {},
   "source": [
    "### Create New Generation Mix"
   ]
  },
  {
   "cell_type": "markdown",
   "metadata": {},
   "source": [
    "#### Help"
   ]
  },
  {
   "cell_type": "code",
   "execution_count": 18,
   "metadata": {},
   "outputs": [
    {
     "name": "stdout",
     "output_type": "stream",
     "text": [
      "python C:\\projects\\sssmatch\\bin\\sssm.py match -h\n",
      "\n",
      "usage: sssm.py match [-h] [-s SCENARIO] [-g GEOGRAPHY [GEOGRAPHY ...]]\n",
      "                     [-ds DATASET] [-rt [RE_TYPES [RE_TYPES ...]]]\n",
      "                     [-eg [EXCLUDED_GENTYPES [EXCLUDED_GENTYPES ...]]]\n",
      "                     [-o OUTDIR] [-gd GENDISTS] [-p PRECISION] [-a {GAMS}]\n",
      "                     scenario_year nodes generators\n",
      "\n",
      "positional arguments:\n",
      "  scenario_year         Model year on which to base new generation mix.\n",
      "  nodes                 Path to csv file describing nodes, or list of tuples\n",
      "                        describing nodes. Each tuple or each row of the csv\n",
      "                        file should contain (node_id, latitude, longitude,\n",
      "                        peak load (MW), annual load (GWh), max allowed\n",
      "                        capacity of each RE type (MW))\n",
      "  generators            Path to csv file describing existing generators, or\n",
      "                        list of tuples describing generators. Each tuple or\n",
      "                        each row of the csv file should contain (node_id,\n",
      "                        generator type, capacity (MW)). Generator type must\n",
      "                        match the dataset's generator types.\n",
      "\n",
      "optional arguments:\n",
      "  -h, --help            show this help message and exit\n",
      "  -s SCENARIO, --scenario SCENARIO\n",
      "                        Scenario on which to base the new generation mix.\n",
      "                        Defaults to the central or mid-case scenario.\n",
      "  -g GEOGRAPHY [GEOGRAPHY ...], --geography GEOGRAPHY [GEOGRAPHY ...]\n",
      "                        Geography from which to pull generation mix data. If\n",
      "                        multiple geographies are listed, the union will be\n",
      "                        taken.\n",
      "  -ds DATASET, --dataset DATASET\n",
      "                        Dataset from which to pull scenarios.\n",
      "  -rt [RE_TYPES [RE_TYPES ...]], --re_types [RE_TYPES [RE_TYPES ...]]\n",
      "                        RE types in order they appear in the nodes tuples/csv.\n",
      "                        RE types must be a subset of the selected dataset's\n",
      "                        generator types. This only needs to be specified if\n",
      "                        specifying tuples or csv column names do not match\n",
      "                        generator types.\n",
      "  -eg [EXCLUDED_GENTYPES [EXCLUDED_GENTYPES ...]], --excluded_gentypes [EXCLUDED_GENTYPES [EXCLUDED_GENTYPES ...]]\n",
      "                        List of generator types that should not be included in\n",
      "                        the match results. RE types with no existing unit and\n",
      "                        no allowed capacity will also be excluded.\n",
      "  -o OUTDIR, --outdir OUTDIR\n",
      "                        Where to write out match information.\n",
      "  -gd GENDISTS, --gendists GENDISTS\n",
      "                        Path to csv file containing rows with (gentype_to,\n",
      "                        gentype_from, distance). Distances are generally\n",
      "                        between 0 and 1. A distance of 0 means switching\n",
      "                        capacity from gentype_to to gentype_from is equivalent\n",
      "                        to keeping the original generator. A distance of 1\n",
      "                        means that such a switch is no better than removing\n",
      "                        old capacity and placing new capacity with no regard\n",
      "                        to where the previous generators were. Default is to\n",
      "                        use default_gendists.csv.\n",
      "  -p PRECISION, --precision PRECISION\n",
      "                        The precision to which the desired capacity is to be\n",
      "                        matched, in MW. Thus 0 corresponds to rounding to the\n",
      "                        nearest MW, 1 corresponds to the nearest 100 kW, and 3\n",
      "                        is the nearest kW.\n",
      "  -a {GAMS}, --aml {GAMS}\n",
      "                        Algebraic modeling language to use to solve the\n",
      "                        matching problem.\n",
      "\n"
     ]
    }
   ],
   "source": [
    "print_cli_call_and_output(['python',sssmatch.cli_path,'match','-h'])"
   ]
  },
  {
   "cell_type": "markdown",
   "metadata": {},
   "source": [
    "#### Create New Mix"
   ]
  },
  {
   "cell_type": "code",
   "execution_count": 19,
   "metadata": {},
   "outputs": [
    {
     "name": "stdout",
     "output_type": "stream",
     "text": [
      "python C:\\projects\\sssmatch\\bin\\sssm.py match -s National_RPS_80 -g national -eg Geothermal \"Offshore Wind\" -ds \"NREL Standard Scenarios 2017\" -o rts_new_genmix_1 2050 rts_new_genmix_1\\nodes.csv rts_new_genmix_1\\generators.csv\n",
      "\n",
      "2017-09-19 09:47:30,275|INFO|sssmatch.request|\n",
      "    System load is 36.581 TWh. The generation mix is based on 4735.013 TWh of useable generation. Thus the generation mix capacities will be scaled by a factor of 0.007725719446286646.\n",
      "2017-09-19 09:47:30,291|INFO|sssmatch.request|\n",
      "    Request summary:\n",
      "                 Current Capacity (MW)  Desired Capacity (MW)\n",
      "Biopower                           0.0              65.381991\n",
      "CSP                              200.0               3.740021\n",
      "Coal                            2317.0              74.207080\n",
      "Hydro                           1000.0             633.374567\n",
      "Land-based Wind                 2507.9            4211.619558\n",
      "NG-CC                           3550.0            2160.628780\n",
      "NG-CT                           1485.0            1900.183962\n",
      "Nuclear                          400.0             386.935705\n",
      "Oil-Gas-Steam                    324.0              36.942073\n",
      "PV                              2715.9            6129.047326\n",
      "Storage                           50.0            1565.195994\n",
      "Traceback (most recent call last):\n",
      "  File \"C:\\projects\\sssmatch\\bin\\sssm.py\", line 6, in <module>\n",
      "    cli_main()\n",
      "  File \"C:\\projects\\sssmatch\\sssmatch\\cli.py\", line 207, in cli_main\n",
      "    request.preprocess()\n",
      "  File \"C:\\projects\\sssmatch\\sssmatch\\request.py\", line 106, in preprocess\n",
      "    assert self._resource_dependent_test()\n",
      "  File \"C:\\projects\\sssmatch\\sssmatch\\request.py\", line 138, in _resource_dependent_test\n",
      "    raise SSSMatchError(msg)\n",
      "sssmatch.SSSMatchError: Unable to create a new generation mix with 4211.619558391208 MW Land-based Wind capacity, because the specified maximum supply only 3562.5029163779773 MW.\n",
      "\n"
     ]
    }
   ],
   "source": [
    "year = str(2050)\n",
    "scenario = 'National_RPS_80'\n",
    "geographies = ['national']\n",
    "excludes = {'NREL Standard Scenarios 2016': ['Geothermal'],\n",
    "            'NREL Standard Scenarios 2017': ['Geothermal','Offshore Wind']}\n",
    "\n",
    "def call_sssmatch(outdir,year,scenario,geographies,excludes,dataset='NREL Standard Scenarios 2016',\n",
    "                  gendists=None,precision=None):\n",
    "    cmds = ['python',sssmatch.cli_path,'match','-s',scenario,'-g']\n",
    "    for geography in geographies:\n",
    "        cmds.append(geography)\n",
    "    if excludes:\n",
    "        cmds.append('-eg')\n",
    "        for exclude in excludes:\n",
    "            cmds.append(exclude)\n",
    "    cmds.extend(['-ds',dataset])\n",
    "    if gendists:\n",
    "        cmds.extend(['-gd',gendists])\n",
    "    if precision:\n",
    "        cmds.extend(['-p',str(precision)])\n",
    "    cmds.extend(['-o',outdir])\n",
    "    nodes_path = os.path.join(outdir,'nodes.csv')\n",
    "    gen_path = os.path.join(outdir,'generators.csv')\n",
    "    cmds.extend([year,nodes_path,gen_path])\n",
    "\n",
    "    print_cli_call_and_output(cmds)\n",
    "    \n",
    "call_sssmatch(outdirs[0],year,scenario,geographies,excludes[dataset],dataset=dataset)"
   ]
  },
  {
   "cell_type": "markdown",
   "metadata": {},
   "source": [
    "*The above does not work because the desired wind capacity is too high relative to what we determined we could put on our system. If we back the year down to 2042, we can get a new mix.*"
   ]
  },
  {
   "cell_type": "code",
   "execution_count": 20,
   "metadata": {},
   "outputs": [
    {
     "name": "stdout",
     "output_type": "stream",
     "text": [
      "python C:\\projects\\sssmatch\\bin\\sssm.py match -s National_RPS_80 -g national -eg Geothermal \"Offshore Wind\" -ds \"NREL Standard Scenarios 2017\" -o rts_new_genmix_1 2038 rts_new_genmix_1\\nodes.csv rts_new_genmix_1\\generators.csv\n",
      "\n",
      "2017-09-19 09:47:34,730|INFO|sssmatch.request|\n",
      "    System load is 36.581 TWh. The generation mix is based on 4364.049 TWh of useable generation. Thus the generation mix capacities will be scaled by a factor of 0.008382441082429673.\n",
      "2017-09-19 09:47:34,730|INFO|sssmatch.request|\n",
      "    Request summary:\n",
      "                 Current Capacity (MW)  Desired Capacity (MW)\n",
      "Biopower                           0.0              66.367977\n",
      "CSP                              200.0              15.881373\n",
      "Coal                            2317.0             828.587536\n",
      "Hydro                           1000.0             684.407873\n",
      "Land-based Wind                 2507.9            3371.845308\n",
      "NG-CC                           3550.0            2537.734581\n",
      "NG-CT                           1485.0            1628.639566\n",
      "Nuclear                          400.0             667.532343\n",
      "Oil-Gas-Steam                    324.0              48.705336\n",
      "PV                              2715.9            4138.420383\n",
      "Storage                           50.0             692.941198\n",
      "2017-09-19 09:47:35,647|WARNING|gdxpds|\n",
      "    Especially on Linux, gdxpds should be imported before pandas to avoid a library conflict. Also make sure your GAMS directory is listed in LD_LIBRARY_PATH.\n",
      "2017-09-19 09:47:37,958|INFO|gdxpds.gdx|\n",
      "    Opening 'rts_new_genmix_1\\MatchGenerationMix_p.gdx' with 12 symbols and 84 elements with lazy_load = True.\n",
      "                 Current Capacity (MW)  Desired Capacity (MW)  kept (MW)  \\\n",
      "Biopower                           0.0              66.367977        0.0   \n",
      "CSP                              200.0              15.881373        0.0   \n",
      "Coal                            2317.0             828.587536      829.0   \n",
      "Hydro                           1000.0             684.407873      684.0   \n",
      "Land-based Wind                 2507.9            3371.845308     2507.9   \n",
      "NG-CC                           3550.0            2537.734581     2485.0   \n",
      "NG-CT                           1485.0            1628.639566      990.4   \n",
      "Nuclear                          400.0             667.532343      400.0   \n",
      "Oil-Gas-Steam                    324.0              48.705336       49.0   \n",
      "PV                              2715.9            4138.420383     2372.7   \n",
      "Storage                           50.0             692.941198       50.0   \n",
      "TOTAL                          14549.8           14681.063474    10368.0   \n",
      "\n",
      "                 swapped out (MW)  swapped in (MW)  added (MW)  removed (MW)  \\\n",
      "Biopower                      0.0             66.0         0.0           0.0   \n",
      "CSP                         200.0              0.0        16.0           0.0   \n",
      "Coal                        457.5              0.0         0.0        1030.5   \n",
      "Hydro                         0.0              0.0         0.0         316.0   \n",
      "Land-based Wind               0.0            200.0       664.1           0.0   \n",
      "NG-CC                       710.0             53.0         0.0         355.0   \n",
      "NG-CT                       258.6            638.6         0.0         236.0   \n",
      "Nuclear                       0.0            268.0         0.0           0.0   \n",
      "Oil-Gas-Steam               184.0              0.0         0.0          91.0   \n",
      "PV                          231.6            604.1      1161.2         111.6   \n",
      "Storage                       0.0            212.0       431.0           0.0   \n",
      "TOTAL                      2041.7           2041.7      2272.3        2140.1   \n",
      "\n",
      "                 final (MW)  \n",
      "Biopower               66.0  \n",
      "CSP                    16.0  \n",
      "Coal                  829.0  \n",
      "Hydro                 684.0  \n",
      "Land-based Wind      3372.0  \n",
      "NG-CC                2538.0  \n",
      "NG-CT                1629.0  \n",
      "Nuclear               668.0  \n",
      "Oil-Gas-Steam          49.0  \n",
      "PV                   4138.0  \n",
      "Storage               693.0  \n",
      "TOTAL               14682.0  \n",
      "\n"
     ]
    }
   ],
   "source": [
    "year = {'NREL Standard Scenarios 2016': str(2042),\n",
    "        'NREL Standard Scenarios 2017': str(2038)}\n",
    "call_sssmatch(outdirs[0],year[dataset],scenario,geographies,excludes[dataset],dataset=dataset)"
   ]
  },
  {
   "cell_type": "markdown",
   "metadata": {},
   "source": [
    "*Alternatively, we can pick a part of the country that has less wind and still get a 2050 mix with the same scenario.*"
   ]
  },
  {
   "cell_type": "code",
   "execution_count": 21,
   "metadata": {},
   "outputs": [
    {
     "name": "stdout",
     "output_type": "stream",
     "text": [
      "python C:\\projects\\sssmatch\\bin\\sssm.py match -s National_RPS_80 -g FL GA AL SC NC TN -eg Geothermal \"Offshore Wind\" -ds \"NREL Standard Scenarios 2017\" -o rts_new_genmix_2 2042 rts_new_genmix_2\\nodes.csv rts_new_genmix_2\\generators.csv\n",
      "\n",
      "2017-09-19 09:47:43,381|INFO|sssmatch.request|\n",
      "    System load is 36.581 TWh. The generation mix is based on 890.830 TWh of useable generation. Thus the generation mix capacities will be scaled by a factor of 0.041064395119619415.\n",
      "2017-09-19 09:47:43,397|INFO|sssmatch.request|\n",
      "    Request summary:\n",
      "                 Current Capacity (MW)  Desired Capacity (MW)\n",
      "Biopower                           0.0             108.635857\n",
      "CSP                              200.0               0.000000\n",
      "Coal                            2317.0             338.805898\n",
      "Hydro                           1000.0             479.681412\n",
      "Land-based Wind                 2507.9            1222.992135\n",
      "NG-CC                           3550.0            2730.913682\n",
      "NG-CT                           1485.0            1960.073389\n",
      "Nuclear                          400.0            1264.446642\n",
      "Oil-Gas-Steam                    324.0              38.518403\n",
      "PV                              2715.9            7704.477174\n",
      "Storage                           50.0            1003.572752\n",
      "2017-09-19 09:47:44,253|WARNING|gdxpds|\n",
      "    Especially on Linux, gdxpds should be imported before pandas to avoid a library conflict. Also make sure your GAMS directory is listed in LD_LIBRARY_PATH.\n",
      "2017-09-19 09:47:46,421|INFO|gdxpds.gdx|\n",
      "    Opening 'rts_new_genmix_2\\MatchGenerationMix_p.gdx' with 12 symbols and 84 elements with lazy_load = True.\n",
      "                 Current Capacity (MW)  Desired Capacity (MW)  kept (MW)  \\\n",
      "Biopower                           0.0             108.635857        0.0   \n",
      "CSP                              200.0               0.000000        0.0   \n",
      "Coal                            2317.0             338.805898      310.0   \n",
      "Hydro                           1000.0             479.681412      180.0   \n",
      "Land-based Wind                 2507.9            1222.992135     1223.0   \n",
      "NG-CC                           3550.0            2730.913682     2485.0   \n",
      "NG-CT                           1485.0            1960.073389     1100.0   \n",
      "Nuclear                          400.0            1264.446642      400.0   \n",
      "Oil-Gas-Steam                    324.0              38.518403       39.0   \n",
      "PV                              2715.9            7704.477174     2359.5   \n",
      "Storage                           50.0            1003.572752       50.0   \n",
      "TOTAL                          14549.8           16852.117343     8146.5   \n",
      "\n",
      "                 swapped out (MW)  swapped in (MW)  added (MW)  removed (MW)  \\\n",
      "Biopower                      0.0            109.0         0.0           0.0   \n",
      "CSP                           0.0              0.0         0.0         200.0   \n",
      "Coal                       1391.2             29.0         0.0         615.8   \n",
      "Hydro                        50.0            300.0         0.0         770.0   \n",
      "Land-based Wind             300.0              0.0         0.0         984.9   \n",
      "NG-CC                       480.7            246.0         0.0         584.3   \n",
      "NG-CT                       385.0            579.2       280.8           0.0   \n",
      "Nuclear                       0.0            864.0         0.0           0.0   \n",
      "Oil-Gas-Steam               245.0              0.0         0.0          40.0   \n",
      "PV                          356.4            617.3      4727.2           0.0   \n",
      "Storage                       0.0            463.8       490.2           0.0   \n",
      "TOTAL                      3208.3           3208.3      5498.2        3195.0   \n",
      "\n",
      "                 final (MW)  \n",
      "Biopower              109.0  \n",
      "CSP                     0.0  \n",
      "Coal                  339.0  \n",
      "Hydro                 480.0  \n",
      "Land-based Wind      1223.0  \n",
      "NG-CC                2731.0  \n",
      "NG-CT                1960.0  \n",
      "Nuclear              1264.0  \n",
      "Oil-Gas-Steam          39.0  \n",
      "PV                   7704.0  \n",
      "Storage              1004.0  \n",
      "TOTAL               16853.0  \n",
      "\n"
     ]
    }
   ],
   "source": [
    "year = {'NREL Standard Scenarios 2016': str(2050),\n",
    "        'NREL Standard Scenarios 2017': str(2042)}\n",
    "geographies = ['FL','GA','AL','SC','NC','TN']\n",
    "call_sssmatch(outdirs[1],year[dataset],scenario,geographies,excludes[dataset],dataset=dataset)"
   ]
  },
  {
   "cell_type": "markdown",
   "metadata": {},
   "source": [
    "*We will get a different answer if we use a different set of distances between generator types, and a different desired precision.*"
   ]
  },
  {
   "cell_type": "code",
   "execution_count": 22,
   "metadata": {},
   "outputs": [
    {
     "name": "stdout",
     "output_type": "stream",
     "text": [
      "python C:\\projects\\sssmatch\\bin\\sssm.py match -s National_RPS_80 -g FL GA AL SC NC TN -eg Geothermal \"Offshore Wind\" -ds \"NREL Standard Scenarios 2017\" -gd C:\\projects\\sssmatch\\sssmatch\\models\\equal_gendists.csv -p 3 -o rts_new_genmix_3 2042 rts_new_genmix_3\\nodes.csv rts_new_genmix_3\\generators.csv\n",
      "\n",
      "2017-09-19 09:47:51,891|INFO|sssmatch.request|\n",
      "    System load is 36.581 TWh. The generation mix is based on 890.830 TWh of useable generation. Thus the generation mix capacities will be scaled by a factor of 0.041064395119619415.\n",
      "2017-09-19 09:47:51,907|INFO|sssmatch.request|\n",
      "    Request summary:\n",
      "                 Current Capacity (MW)  Desired Capacity (MW)\n",
      "Biopower                           0.0             108.635857\n",
      "CSP                              200.0               0.000000\n",
      "Coal                            2317.0             338.805898\n",
      "Hydro                           1000.0             479.681412\n",
      "Land-based Wind                 2507.9            1222.992135\n",
      "NG-CC                           3550.0            2730.913682\n",
      "NG-CT                           1485.0            1960.073389\n",
      "Nuclear                          400.0            1264.446642\n",
      "Oil-Gas-Steam                    324.0              38.518403\n",
      "PV                              2715.9            7704.477174\n",
      "Storage                           50.0            1003.572752\n",
      "2017-09-19 09:47:52,777|WARNING|gdxpds|\n",
      "    Especially on Linux, gdxpds should be imported before pandas to avoid a library conflict. Also make sure your GAMS directory is listed in LD_LIBRARY_PATH.\n",
      "2017-09-19 09:47:55,045|INFO|gdxpds.gdx|\n",
      "    Opening 'rts_new_genmix_3\\MatchGenerationMix_p.gdx' with 12 symbols and 84 elements with lazy_load = True.\n",
      "                 Current Capacity (MW)  Desired Capacity (MW)  kept (MW)  \\\n",
      "Biopower                           0.0             108.635857      0.000   \n",
      "CSP                              200.0               0.000000      0.000   \n",
      "Coal                            2317.0             338.805898    338.806   \n",
      "Hydro                           1000.0             479.681412    179.681   \n",
      "Land-based Wind                 2507.9            1222.992135   1222.992   \n",
      "NG-CC                           3550.0            2730.913682   2445.314   \n",
      "NG-CT                           1485.0            1960.073389   1086.800   \n",
      "Nuclear                          400.0            1264.446642    400.000   \n",
      "Oil-Gas-Steam                    324.0              38.518403     38.518   \n",
      "PV                              2715.9            7704.477174   2359.500   \n",
      "Storage                           50.0            1003.572752     50.000   \n",
      "TOTAL                          14549.8           16852.117343   8121.611   \n",
      "\n",
      "                 swapped out (MW)  swapped in (MW)  added (MW)  removed (MW)  \\\n",
      "Biopower                    0.000            0.000     108.636         0.000   \n",
      "CSP                       200.000            0.000       0.000         0.000   \n",
      "Coal                     1490.593            0.000       0.000       487.601   \n",
      "Hydro                       0.000          300.000       0.000       820.319   \n",
      "Land-based Wind           300.000            0.000       0.000       984.908   \n",
      "NG-CC                     557.736          245.600      40.000       546.950   \n",
      "NG-CT                     398.200          746.873     126.400         0.000   \n",
      "Nuclear                     0.000          368.347     496.100         0.000   \n",
      "Oil-Gas-Steam             244.000            0.000       0.000        41.482   \n",
      "PV                        356.400          932.536    4412.441         0.000   \n",
      "Storage                     0.000          953.573       0.000         0.000   \n",
      "TOTAL                    3546.929         3546.929    5183.577      2881.260   \n",
      "\n",
      "                 final (MW)  \n",
      "Biopower            108.636  \n",
      "CSP                   0.000  \n",
      "Coal                338.806  \n",
      "Hydro               479.681  \n",
      "Land-based Wind    1222.992  \n",
      "NG-CC              2730.914  \n",
      "NG-CT              1960.073  \n",
      "Nuclear            1264.447  \n",
      "Oil-Gas-Steam        38.518  \n",
      "PV                 7704.477  \n",
      "Storage            1003.573  \n",
      "TOTAL             16852.117  \n",
      "\n"
     ]
    }
   ],
   "source": [
    "call_sssmatch(outdirs[2],year[dataset],scenario,geographies,excludes[dataset],dataset=dataset,\n",
    "              gendists=os.path.join(sssmatch.models_dir,'equal_gendists.csv'),\n",
    "              precision=3)"
   ]
  },
  {
   "cell_type": "code",
   "execution_count": null,
   "metadata": {
    "collapsed": true
   },
   "outputs": [],
   "source": []
  }
 ],
 "metadata": {
  "kernelspec": {
   "display_name": "Python 3",
   "language": "python",
   "name": "python3"
  },
  "language_info": {
   "codemirror_mode": {
    "name": "ipython",
    "version": 3
   },
   "file_extension": ".py",
   "mimetype": "text/x-python",
   "name": "python",
   "nbconvert_exporter": "python",
   "pygments_lexer": "ipython3",
   "version": "3.6.2"
  }
 },
 "nbformat": 4,
 "nbformat_minor": 2
}
