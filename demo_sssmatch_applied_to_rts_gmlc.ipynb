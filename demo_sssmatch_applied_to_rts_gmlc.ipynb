{
 "cells": [
  {
   "cell_type": "markdown",
   "metadata": {},
   "source": [
    "# Demonstration of the Standard ScenarioS Match (sssmatch) Tool to the RTS-GMLC System"
   ]
  },
  {
   "cell_type": "code",
   "execution_count": 1,
   "metadata": {
    "collapsed": true
   },
   "outputs": [],
   "source": [
    "import logging\n",
    "import os\n",
    "import subprocess\n",
    "\n",
    "import numpy as np\n",
    "import pandas as pds\n",
    "\n",
    "import sssmatch\n",
    "\n",
    "logging.basicConfig()\n",
    "\n",
    "def print_cli_call_and_output(cmds):\n",
    "    print(subprocess.list2cmdline(cmds) + \"\\n\")\n",
    "    try:\n",
    "        stdout = subprocess.check_output(cmds,stderr=subprocess.STDOUT)\n",
    "    except subprocess.CalledProcessError as e:\n",
    "        stdout = e.output\n",
    "    print(stdout.decode('utf-8'))\n",
    "    \n",
    "def multi_index(df, cols):\n",
    "    result = df.copy()\n",
    "    result.index = result[cols[0]] if len(cols) == 1 else pds.MultiIndex.from_tuples(list(zip(*[result[col].tolist() for col in cols])),names = cols)\n",
    "    for col in cols:\n",
    "        del result[col]\n",
    "    return result "
   ]
  },
  {
   "cell_type": "markdown",
   "metadata": {},
   "source": [
    "[Browse Standard Scenarios](#Browse-Standard-Scenarios) | [Apply Generation Mixes to RTS-GMLC](#Apply-Generation-Mixes-to-RTS-GMLC)"
   ]
  },
  {
   "cell_type": "markdown",
   "metadata": {},
   "source": [
    "## Browse Standard Scenarios\n",
    "\n",
    "The sssmatch command line interface (CLI) can be used to browse standard scenarios data."
   ]
  },
  {
   "cell_type": "code",
   "execution_count": 2,
   "metadata": {},
   "outputs": [
    {
     "name": "stdout",
     "output_type": "stream",
     "text": [
      "CLI path is:\n",
      "    C:\\projects\\sssmatch\\bin\\sssm.py\n"
     ]
    }
   ],
   "source": [
    "print(\"CLI path is:\\n    {}\".format(sssmatch.cli_path))"
   ]
  },
  {
   "cell_type": "markdown",
   "metadata": {},
   "source": [
    "### Help"
   ]
  },
  {
   "cell_type": "code",
   "execution_count": 3,
   "metadata": {},
   "outputs": [
    {
     "name": "stdout",
     "output_type": "stream",
     "text": [
      "python C:\\projects\\sssmatch\\bin\\sssm.py browse -h\n",
      "\n",
      "usage: sssm.py browse [-h] [-f FILENAME]\n",
      "                      {datasets,gentypes,years,scenarios,geographies,mixes}\n",
      "                      ...\n",
      "\n",
      "positional arguments:\n",
      "  {datasets,gentypes,years,scenarios,geographies,mixes}\n",
      "    datasets            List available datasets.\n",
      "    gentypes            List generator types present in the selected dataset.\n",
      "    years               List scenario years associated with generation mixes.\n",
      "    scenarios           List available scenarios in chosen dataset.\n",
      "    geographies         List available geographies in chosen dataset.\n",
      "    mixes               List a particular generator mix represented in the\n",
      "                        chosen dataset.\n",
      "\n",
      "optional arguments:\n",
      "  -h, --help            show this help message and exit\n",
      "  -f FILENAME, --filename FILENAME\n",
      "                        Where to save listed information in csv format.\n",
      "                        Default is to print to screen only.\n",
      "\n"
     ]
    }
   ],
   "source": [
    "print_cli_call_and_output(['python',sssmatch.cli_path,'browse','-h'])"
   ]
  },
  {
   "cell_type": "markdown",
   "metadata": {},
   "source": [
    "### Available datasets"
   ]
  },
  {
   "cell_type": "code",
   "execution_count": 4,
   "metadata": {},
   "outputs": [
    {
     "name": "stdout",
     "output_type": "stream",
     "text": [
      "python C:\\projects\\sssmatch\\bin\\sssm.py browse datasets\n",
      "\n",
      "  NREL Standard Scenarios 2016\n",
      "  NREL Standard Scenarios 2017\n",
      "\n"
     ]
    }
   ],
   "source": [
    "print_cli_call_and_output(['python',sssmatch.cli_path,'browse','datasets'])"
   ]
  },
  {
   "cell_type": "markdown",
   "metadata": {},
   "source": [
    "### Generator Types"
   ]
  },
  {
   "cell_type": "code",
   "execution_count": 7,
   "metadata": {},
   "outputs": [
    {
     "name": "stdout",
     "output_type": "stream",
     "text": [
      "python C:\\projects\\sssmatch\\bin\\sssm.py browse gentypes -ds \"NREL Standard Scenarios 2017\"\n",
      "\n",
      "  Biopower\n",
      "  CSP\n",
      "  Coal\n",
      "  Geothermal\n",
      "  Hydro\n",
      "  Land-based Wind\n",
      "  NG-CC\n",
      "  NG-CT\n",
      "  Nuclear\n",
      "  Offshore Wind\n",
      "  Oil-Gas-Steam\n",
      "  Rooftop PV\n",
      "  Storage\n",
      "  Utility PV\n",
      "\n"
     ]
    }
   ],
   "source": [
    "dataset = 'NREL Standard Scenarios 2017'\n",
    "print_cli_call_and_output(['python',sssmatch.cli_path,'browse','gentypes','-ds',dataset])"
   ]
  },
  {
   "cell_type": "markdown",
   "metadata": {},
   "source": [
    "### Years"
   ]
  },
  {
   "cell_type": "code",
   "execution_count": 8,
   "metadata": {},
   "outputs": [
    {
     "name": "stdout",
     "output_type": "stream",
     "text": [
      "python C:\\projects\\sssmatch\\bin\\sssm.py browse years -ds \"NREL Standard Scenarios 2017\"\n",
      "\n",
      "  2010\n",
      "  2012\n",
      "  2014\n",
      "  2016\n",
      "  2018\n",
      "  2020\n",
      "  2022\n",
      "  2024\n",
      "  2026\n",
      "  2028\n",
      "  2030\n",
      "  2032\n",
      "  2034\n",
      "  2036\n",
      "  2038\n",
      "  2040\n",
      "  2042\n",
      "  2044\n",
      "  2046\n",
      "  2048\n",
      "  2050\n",
      "\n"
     ]
    }
   ],
   "source": [
    "print_cli_call_and_output(['python',sssmatch.cli_path,'browse','years','-ds',dataset])"
   ]
  },
  {
   "cell_type": "markdown",
   "metadata": {},
   "source": [
    "### Scenarios"
   ]
  },
  {
   "cell_type": "code",
   "execution_count": 9,
   "metadata": {},
   "outputs": [
    {
     "name": "stdout",
     "output_type": "stream",
     "text": [
      "python C:\\projects\\sssmatch\\bin\\sssm.py browse scenarios -ds \"NREL Standard Scenarios 2017\"\n",
      "\n",
      "  Acc_coal_retire\n",
      "  Carbon_cap\n",
      "  Climate_change\n",
      "  Cooling_water_restrictions\n",
      "  Early_nuclear_Retirements\n",
      "  High_Bat_Cost\n",
      "  High_Demand_Growth\n",
      "  High_NG_Price\n",
      "  High_PHEV\n",
      "  High_RE_Cost\n",
      "  High_transmission_cost\n",
      "  Low_Bat_Cost\n",
      "  Low_Demand_Growth\n",
      "  Low_Finance_Cost\n",
      "  Low_NG_Price\n",
      "  Low_PV_Cost\n",
      "  Low_RE_Cost\n",
      "  Low_Wind_Cost\n",
      "  Mid_Case\n",
      "  National_RPS_80\n",
      "  PTC_ITC_extension\n",
      "  Reduced_cost_nuclear\n",
      "  Reduced_RE_resource\n",
      "  WithCPP\n",
      "  60Year_nuclear_lifetime\n",
      "  80Year_nuclear_lifetime\n",
      "\n"
     ]
    }
   ],
   "source": [
    "print_cli_call_and_output(['python',sssmatch.cli_path,'browse','scenarios','-ds',dataset])"
   ]
  },
  {
   "cell_type": "markdown",
   "metadata": {},
   "source": [
    "### Geographies"
   ]
  },
  {
   "cell_type": "code",
   "execution_count": 10,
   "metadata": {},
   "outputs": [
    {
     "name": "stdout",
     "output_type": "stream",
     "text": [
      "python C:\\projects\\sssmatch\\bin\\sssm.py browse geographies -ds \"NREL Standard Scenarios 2017\"\n",
      "\n",
      "  national\n",
      "  AL\n",
      "  AR\n",
      "  AZ\n",
      "  CA\n",
      "  CO\n",
      "  CT\n",
      "  DE\n",
      "  FL\n",
      "  GA\n",
      "  IA\n",
      "  ID\n",
      "  IL\n",
      "  IN\n",
      "  KS\n",
      "  KY\n",
      "  LA\n",
      "  MA\n",
      "  MD\n",
      "  ME\n",
      "  MI\n",
      "  MN\n",
      "  MO\n",
      "  MS\n",
      "  MT\n",
      "  NC\n",
      "  ND\n",
      "  NE\n",
      "  NH\n",
      "  NJ\n",
      "  NM\n",
      "  NV\n",
      "  NY\n",
      "  OH\n",
      "  OK\n",
      "  OR\n",
      "  PA\n",
      "  RI\n",
      "  SC\n",
      "  SD\n",
      "  TN\n",
      "  TX\n",
      "  UT\n",
      "  VA\n",
      "  VT\n",
      "  WA\n",
      "  WI\n",
      "  WV\n",
      "  WY\n",
      "\n"
     ]
    }
   ],
   "source": [
    "print_cli_call_and_output(['python',sssmatch.cli_path,'browse','geographies','-ds',dataset])"
   ]
  },
  {
   "cell_type": "markdown",
   "metadata": {},
   "source": [
    "### Mixes"
   ]
  },
  {
   "cell_type": "code",
   "execution_count": 11,
   "metadata": {},
   "outputs": [
    {
     "name": "stdout",
     "output_type": "stream",
     "text": [
      "python C:\\projects\\sssmatch\\bin\\sssm.py browse mixes -h\n",
      "\n",
      "usage: sssm.py browse mixes [-h] [-s SCENARIO] [-g GEOGRAPHY [GEOGRAPHY ...]]\n",
      "                            [-ds DATASET]\n",
      "                            scenario_year\n",
      "\n",
      "positional arguments:\n",
      "  scenario_year         Model year on which to base new generation mix.\n",
      "\n",
      "optional arguments:\n",
      "  -h, --help            show this help message and exit\n",
      "  -s SCENARIO, --scenario SCENARIO\n",
      "                        Scenario on which to base the new generation mix.\n",
      "                        Defaults to the central or mid-case scenario.\n",
      "  -g GEOGRAPHY [GEOGRAPHY ...], --geography GEOGRAPHY [GEOGRAPHY ...]\n",
      "                        Geography from which to pull generation mix data. If\n",
      "                        multiple geographies are listed, the union will be\n",
      "                        taken.\n",
      "  -ds DATASET, --dataset DATASET\n",
      "                        Dataset from which to pull scenarios.\n",
      "\n"
     ]
    }
   ],
   "source": [
    "print_cli_call_and_output(['python',sssmatch.cli_path,'browse','mixes','-h'])"
   ]
  },
  {
   "cell_type": "code",
   "execution_count": 12,
   "metadata": {},
   "outputs": [
    {
     "name": "stdout",
     "output_type": "stream",
     "text": [
      "python C:\\projects\\sssmatch\\bin\\sssm.py browse mixes 2030 -ds \"NREL Standard Scenarios 2017\"\n",
      "\n",
      "                 Capacity (GW)  Generation (TWh)  Capacity Fraction  \\\n",
      "Biopower                7.7136           44.7127           0.006400   \n",
      "CSP                     1.8946            5.2822           0.001572   \n",
      "Coal                  205.4630         1313.1100           0.170470   \n",
      "Curtailment                NaN           -6.3442                NaN   \n",
      "Geothermal              6.8022           50.6221           0.005644   \n",
      "Hydro                  80.6928          288.7735           0.066950   \n",
      "Imports                    NaN           50.0870                NaN   \n",
      "Land-based Wind       111.0763          370.6035           0.092158   \n",
      "NG-CC                 324.0777         1032.7762           0.268883   \n",
      "NG-CT                 141.9983            4.0836           0.117814   \n",
      "Nuclear                91.9338          726.7363           0.076276   \n",
      "Offshore Wind           0.0300            0.1097           0.000025   \n",
      "Oil-Gas-Steam          26.1029            0.0000           0.021657   \n",
      "Rooftop PV             58.0336           86.8174           0.048150   \n",
      "Storage                24.3196           -3.1674           0.020178   \n",
      "Utility PV            125.1376          263.4471           0.103825   \n",
      "TOTAL                1205.2760         4227.6497           1.000000   \n",
      "\n",
      "                 Generation Fraction  \n",
      "Biopower                    0.010576  \n",
      "CSP                         0.001249  \n",
      "Coal                        0.310600  \n",
      "Curtailment                -0.001501  \n",
      "Geothermal                  0.011974  \n",
      "Hydro                       0.068306  \n",
      "Imports                     0.011847  \n",
      "Land-based Wind             0.087662  \n",
      "NG-CC                       0.244291  \n",
      "NG-CT                       0.000966  \n",
      "Nuclear                     0.171901  \n",
      "Offshore Wind               0.000026  \n",
      "Oil-Gas-Steam               0.000000  \n",
      "Rooftop PV                  0.020536  \n",
      "Storage                    -0.000749  \n",
      "Utility PV                  0.062315  \n",
      "TOTAL                       1.000000  \n",
      "\n"
     ]
    }
   ],
   "source": [
    "# Browse default: national-level Central_scenario / Mid_Case\n",
    "year = str(2030)\n",
    "print_cli_call_and_output(['python',sssmatch.cli_path,'browse','mixes',year,'-ds',dataset])"
   ]
  },
  {
   "cell_type": "code",
   "execution_count": 13,
   "metadata": {},
   "outputs": [
    {
     "name": "stdout",
     "output_type": "stream",
     "text": [
      "python C:\\projects\\sssmatch\\bin\\sssm.py browse mixes 2040 -ds \"NREL Standard Scenarios 2017\" -s High_PHEV -g CA NV AZ\n",
      "\n",
      "                 Capacity (GW)  Generation (TWh)  Capacity Fraction  \\\n",
      "Biopower                0.9497            5.8785           0.004964   \n",
      "CSP                     1.8611            5.1351           0.009727   \n",
      "Coal                    4.8354           35.3975           0.025273   \n",
      "Curtailment                NaN           -5.7675                NaN   \n",
      "Geothermal              6.5561           48.8027           0.034266   \n",
      "Hydro                  14.6001           45.1756           0.076309   \n",
      "Imports                    NaN            0.0000                NaN   \n",
      "Land-based Wind        14.2338           52.3136           0.074394   \n",
      "NG-CC                  38.3628           80.1090           0.200506   \n",
      "NG-CT                  23.0073            0.2348           0.120249   \n",
      "Nuclear                 3.9370           31.1221           0.020577   \n",
      "Offshore Wind           0.0000            0.0000           0.000000   \n",
      "Oil-Gas-Steam           0.1123            0.0000           0.000587   \n",
      "Rooftop PV             20.2539           32.8011           0.105859   \n",
      "Storage                 9.4944           -5.3527           0.049623   \n",
      "Utility PV             53.1258          120.1005           0.277666   \n",
      "TOTAL                 191.3297          445.9503           1.000000   \n",
      "\n",
      "                 Generation Fraction  \n",
      "Biopower                    0.013182  \n",
      "CSP                         0.011515  \n",
      "Coal                        0.079375  \n",
      "Curtailment                -0.012933  \n",
      "Geothermal                  0.109435  \n",
      "Hydro                       0.101302  \n",
      "Imports                     0.000000  \n",
      "Land-based Wind             0.117308  \n",
      "NG-CC                       0.179637  \n",
      "NG-CT                       0.000527  \n",
      "Nuclear                     0.069788  \n",
      "Offshore Wind               0.000000  \n",
      "Oil-Gas-Steam               0.000000  \n",
      "Rooftop PV                  0.073553  \n",
      "Storage                    -0.012003  \n",
      "Utility PV                  0.269314  \n",
      "TOTAL                       1.000000  \n",
      "\n"
     ]
    }
   ],
   "source": [
    "# Browse arbitrary mixes\n",
    "year = str(2040)\n",
    "scenario = 'High_PHEV'\n",
    "geographies = ['CA','NV','AZ']\n",
    "print_cli_call_and_output(['python',sssmatch.cli_path,'browse','mixes',year,'-ds',dataset,'-s',scenario,'-g'] + geographies)"
   ]
  },
  {
   "cell_type": "markdown",
   "metadata": {},
   "source": [
    "## Apply Generation Mixes to RTS-GMLC\n",
    "\n",
    "[Format RTS System](#Format-RTS-System) | [Create New Generation Mix](#Create-New-Generation-Mix)"
   ]
  },
  {
   "cell_type": "markdown",
   "metadata": {},
   "source": [
    "### Format RTS System"
   ]
  },
  {
   "cell_type": "code",
   "execution_count": 15,
   "metadata": {
    "collapsed": true
   },
   "outputs": [],
   "source": [
    "dataset = 'NREL Standard Scenarios 2017'\n",
    "rts_dir = os.path.join('RTS-GMLC','RTS_Data')"
   ]
  },
  {
   "cell_type": "code",
   "execution_count": 16,
   "metadata": {
    "collapsed": true
   },
   "outputs": [],
   "source": [
    "gentypes_map = {\n",
    "    'Oil CT': 'Oil-Gas-Steam',\n",
    "    'Coal': 'Coal',\n",
    "    'Gas CC': 'NG-CC',\n",
    "    'Gas CT': 'NG-CT',\n",
    "    'Oil CT': 'Oil-Gas-Steam',\n",
    "    'Oil ST': 'Oil-Gas-Steam',\n",
    "    'Sync_Cond': None,\n",
    "    'Nuclear': 'Nuclear',\n",
    "    'Hydro': 'Hydro',\n",
    "    ('Solar','PV'): 'Utility PV',\n",
    "    ('Solar','RTPV'): 'Rooftop PV',\n",
    "    'CSP': 'CSP',\n",
    "    'Wind': 'Land-based Wind',\n",
    "    'Storage': 'Storage'\n",
    "}"
   ]
  },
  {
   "cell_type": "markdown",
   "metadata": {},
   "source": [
    "#### Nodes"
   ]
  },
  {
   "cell_type": "code",
   "execution_count": 17,
   "metadata": {},
   "outputs": [
    {
     "name": "stdout",
     "output_type": "stream",
     "text": [
      "   node_id   latitude   longitude  peak load (MW)  annual load (GWh)\n",
      "0      101  33.396103 -113.835642           108.0         424.160547\n",
      "1      102  33.357678 -113.825933            97.0         380.959010\n",
      "2      103  33.536833 -114.670399           180.0         706.934246\n",
      "3      104  33.812304 -113.825419            74.0         290.628523\n",
      "4      105  33.659560 -113.999023            71.0         278.846286\n"
     ]
    }
   ],
   "source": [
    "nodes = pds.read_csv(os.path.join(rts_dir,'SourceData','bus.csv'))\n",
    "nodes = nodes[['Bus ID','lat','lng','MW Load','Area']]\n",
    "nodes.columns = ['node_id','latitude','longitude','peak load (MW)','area']\n",
    "\n",
    "# total load per area\n",
    "load = pds.read_csv(os.path.join(rts_dir,'timeseries_data_files','Load','REAL_TIME_regional_load.csv'))\n",
    "num_points = len(load.index)\n",
    "num_days = len(load[['Year','Month','Day']].drop_duplicates().index)\n",
    "points_per_hour = (num_points / num_days) / 24\n",
    "load = multi_index(load,['Year','Month','Day','Period']).sum() / points_per_hour\n",
    "\n",
    "# GWh annual load / MW peak load\n",
    "peak_load = nodes[['peak load (MW)','area']].groupby('area').sum()['peak load (MW)']\n",
    "load.index = peak_load.index\n",
    "gwh_per_mw = load.divide(peak_load) / 1000.0\n",
    "gwh_per_mw.name = 'gwh_per_mw'\n",
    "gwh_per_mw = pds.DataFrame(gwh_per_mw)\n",
    "gwh_per_mw = gwh_per_mw.reset_index()\n",
    "\n",
    "# annual load per node\n",
    "nodes = nodes.merge(gwh_per_mw,how='left',on='area')\n",
    "nodes['annual load (GWh)'] = nodes['peak load (MW)'] * nodes['gwh_per_mw']\n",
    "del nodes['area']; del nodes['gwh_per_mw']\n",
    "print(nodes.head())"
   ]
  },
  {
   "cell_type": "markdown",
   "metadata": {},
   "source": [
    "#### Generators"
   ]
  },
  {
   "cell_type": "code",
   "execution_count": 18,
   "metadata": {},
   "outputs": [
    {
     "name": "stdout",
     "output_type": "stream",
     "text": [
      "                 capacity (MW)  capacity fraction\n",
      "generator type                                   \n",
      "CSP                      200.0           0.013746\n",
      "Coal                    2317.0           0.159246\n",
      "Hydro                   1000.0           0.068729\n",
      "Land-based Wind         2507.9           0.172367\n",
      "NG-CC                   3550.0           0.243990\n",
      "NG-CT                   1485.0           0.102063\n",
      "Nuclear                  400.0           0.027492\n",
      "Oil-Gas-Steam            324.0           0.022268\n",
      "Rooftop PV              1161.4           0.079822\n",
      "Storage                   50.0           0.003436\n",
      "Utility PV              1554.5           0.106840\n",
      "Total                  14549.8           1.000000\n"
     ]
    }
   ],
   "source": [
    "generators = pds.read_csv(os.path.join(rts_dir,'SourceData','gen.csv'))\n",
    "gentypes = []\n",
    "for index, row in generators.iterrows():\n",
    "    key = None\n",
    "    if row['Category'] in gentypes_map:\n",
    "        key = row['Category']\n",
    "    elif (row['Category'],row['Unit Type']) in gentypes_map:\n",
    "        key = (row['Category'],row['Unit Type'])\n",
    "    if key is not None:\n",
    "        gentypes.append(gentypes_map[key])\n",
    "    else:\n",
    "        gentypes.append(None)\n",
    "generators['generator type'] = gentypes\n",
    "generators = generators[['Bus ID','generator type','PMax MW']]\n",
    "generators.columns = ['node_id','generator type','capacity (MW)']\n",
    "# drop un-mapped generators (synchronous condensors)\n",
    "generators = generators.dropna(axis=0,subset=['generator type'],how='all')\n",
    "rts_mix_summary = pds.pivot_table(generators,\n",
    "                                  values='capacity (MW)',\n",
    "                                  index='generator type',\n",
    "                                  aggfunc=np.sum,\n",
    "                                  margins=True,\n",
    "                                  margins_name='Total')\n",
    "rts_mix_summary = pds.DataFrame(rts_mix_summary)\n",
    "rts_mix_summary['capacity fraction'] = rts_mix_summary['capacity (MW)'] / rts_mix_summary.loc['Total','capacity (MW)']\n",
    "print(rts_mix_summary)"
   ]
  },
  {
   "cell_type": "code",
   "execution_count": 19,
   "metadata": {
    "scrolled": false
   },
   "outputs": [
    {
     "name": "stdout",
     "output_type": "stream",
     "text": [
      "Original RE Generation\n",
      "generator type  CSP  Land-based Wind  Rooftop PV  Utility PV\n",
      "node_id                                                     \n",
      "101               0              0.0         0.0       104.6\n",
      "102               0              0.0         0.0        50.9\n",
      "103               0              0.0         0.0        61.5\n",
      "104               0              0.0         0.0        26.8\n",
      "113               0              0.0         0.0        93.6\n",
      "118               0              0.0        94.1         0.0\n",
      "119               0              0.0         0.0        66.6\n",
      "122               0            713.5         0.0         0.0\n",
      "212             200              0.0         0.0         0.0\n",
      "213               0              0.0        13.2         0.0\n",
      "215               0              0.0         0.0       125.1\n",
      "303               0            847.0         0.0         0.0\n",
      "308               0              0.0       100.9         0.0\n",
      "309               0            148.3         0.0         0.0\n",
      "310               0              0.0         0.0       103.3\n",
      "312               0              0.0         0.0        94.1\n",
      "313               0              0.0       806.0       188.4\n",
      "314               0              0.0         0.0       247.5\n",
      "317               0            799.1         0.0         0.0\n",
      "319               0              0.0         0.0       188.2\n",
      "320               0              0.0       147.2        51.6\n",
      "324               0              0.0         0.0       152.3\n",
      "\n",
      "Maximum Allowed RE Generation\n",
      "generator type     CSP  Land-based Wind   Rooftop PV   Utility PV\n",
      "node_id                                                          \n",
      "101                0.0         0.000000     0.000000   523.000000\n",
      "102                0.0         0.000000     0.000000   254.500000\n",
      "103                0.0         0.000000     0.000000   307.500000\n",
      "104                0.0         0.000000     0.000000   134.000000\n",
      "113                0.0         0.000000     0.000000   468.000000\n",
      "118                0.0         0.000000   470.500000     0.000000\n",
      "119                0.0         0.000000     0.000000   333.000000\n",
      "122                0.0      1000.000000     0.000000     0.000000\n",
      "212             1000.0         0.000000     0.000000     0.000000\n",
      "213                0.0         0.000000    66.000000     0.000000\n",
      "215                0.0         0.000000     0.000000   625.500000\n",
      "303                0.0       445.071901     0.000000     0.000000\n",
      "308                0.0         0.000000   504.500000     0.000000\n",
      "309                0.0       617.431015     0.000000     0.000000\n",
      "310                0.0         0.000000     0.000000   516.500000\n",
      "312                0.0         0.000000     0.000000   470.500000\n",
      "313                0.0         0.000000  1639.966966   942.000000\n",
      "314                0.0         0.000000     0.000000  1102.466382\n",
      "317                0.0      1500.000000     0.000000     0.000000\n",
      "319                0.0         0.000000     0.000000   941.000000\n",
      "320                0.0         0.000000   736.000000   258.000000\n",
      "324                0.0         0.000000     0.000000   500.000000\n"
     ]
    }
   ],
   "source": [
    "# Add RE maximum capacities to nodes\n",
    "re_techs = ['CSP','Land-based Wind','Utility PV','Rooftop PV']   \n",
    "max_inflation_factor = 5.0\n",
    "set_rooftop_by_peak_load = True\n",
    "\n",
    "# Initial amount of utility-scale RE\n",
    "re_gen = pds.pivot_table(generators[generators['generator type'].isin(re_techs)],\n",
    "                         values='capacity (MW)',\n",
    "                         index='node_id',\n",
    "                         columns = 'generator type',\n",
    "                         aggfunc=np.sum,\n",
    "                         fill_value=0.0)\n",
    "print('Original RE Generation')\n",
    "print(re_gen)\n",
    "\n",
    "# Inflate\n",
    "branches = pds.read_csv(os.path.join(rts_dir,'SourceData','branch.csv'))\n",
    "branches = branches[branches.Length > 0]\n",
    "out_capacity = []\n",
    "avg_load = []\n",
    "for node_id in re_gen.index:\n",
    "    out_capacity.append(branches[(branches['From Bus'] == node_id) | (branches['To Bus'] == node_id)]['Cont Rating'].sum())\n",
    "    this_node = nodes[nodes.node_id == node_id]\n",
    "    this_avg_load = this_node['annual load (GWh)']*1000.0 / (24.0 * num_days)\n",
    "    this_avg_load = this_avg_load.values[0]\n",
    "    avg_load.append(this_avg_load)\n",
    "re_gen['out capacity (MW)'] = out_capacity\n",
    "re_gen['average load (MW)'] = avg_load\n",
    "for re_tech in re_techs:\n",
    "    if re_tech in re_gen:\n",
    "        tmp = pds.concat([re_gen[re_tech] * max_inflation_factor, \n",
    "                          re_gen['out capacity (MW)'] + re_gen['average load (MW)']],\n",
    "                         axis=1)\n",
    "        re_gen[re_tech] = tmp.min(axis=1)\n",
    "del re_gen['out capacity (MW)']; del re_gen['average load (MW)']\n",
    "print(\"\\nMaximum Allowed RE Generation\")\n",
    "print(re_gen)\n",
    "\n",
    "# Add to nodes\n",
    "nodes = nodes.merge(re_gen,how='left',left_on='node_id',right_index=True)\n",
    "nodes.fillna(0.0,inplace=True)\n",
    "\n",
    "# Override Rooftop PV limit if desired\n",
    "if set_rooftop_by_peak_load:\n",
    "    nodes['Rooftop PV'] = nodes['peak load (MW)']  \n"
   ]
  },
  {
   "cell_type": "markdown",
   "metadata": {},
   "source": [
    "#### Save out"
   ]
  },
  {
   "cell_type": "code",
   "execution_count": 20,
   "metadata": {
    "collapsed": true
   },
   "outputs": [],
   "source": [
    "outdirs = ['rts_new_genmix_1','rts_new_genmix_2','rts_new_genmix_3']\n",
    "for outdir in outdirs:\n",
    "    if not os.path.exists(outdir):\n",
    "        os.mkdir(outdir)\n",
    "    nodes.to_csv(os.path.join(outdir,'nodes.csv'),index=False)\n",
    "    generators.to_csv(os.path.join(outdir,'generators.csv'),index=False)"
   ]
  },
  {
   "cell_type": "markdown",
   "metadata": {},
   "source": [
    "### Create New Generation Mix"
   ]
  },
  {
   "cell_type": "markdown",
   "metadata": {},
   "source": [
    "#### Help"
   ]
  },
  {
   "cell_type": "code",
   "execution_count": 21,
   "metadata": {},
   "outputs": [
    {
     "name": "stdout",
     "output_type": "stream",
     "text": [
      "python C:\\projects\\sssmatch\\bin\\sssm.py match -h\n",
      "\n",
      "usage: sssm.py match [-h] [-s SCENARIO] [-g GEOGRAPHY [GEOGRAPHY ...]]\n",
      "                     [-ds DATASET] [-rt [RE_TYPES [RE_TYPES ...]]]\n",
      "                     [-eg [EXCLUDED_GENTYPES [EXCLUDED_GENTYPES ...]]]\n",
      "                     [-o OUTDIR] [-gd GENDISTS] [-p PRECISION] [-a {GAMS}]\n",
      "                     scenario_year nodes generators\n",
      "\n",
      "positional arguments:\n",
      "  scenario_year         Model year on which to base new generation mix.\n",
      "  nodes                 Path to csv file describing nodes, or list of tuples\n",
      "                        describing nodes. Each tuple or each row of the csv\n",
      "                        file should contain (node_id, latitude, longitude,\n",
      "                        peak load (MW), annual load (GWh), max allowed\n",
      "                        capacity of each RE type (MW))\n",
      "  generators            Path to csv file describing existing generators, or\n",
      "                        list of tuples describing generators. Each tuple or\n",
      "                        each row of the csv file should contain (node_id,\n",
      "                        generator type, capacity (MW)). Generator type must\n",
      "                        match the dataset's generator types.\n",
      "\n",
      "optional arguments:\n",
      "  -h, --help            show this help message and exit\n",
      "  -s SCENARIO, --scenario SCENARIO\n",
      "                        Scenario on which to base the new generation mix.\n",
      "                        Defaults to the central or mid-case scenario.\n",
      "  -g GEOGRAPHY [GEOGRAPHY ...], --geography GEOGRAPHY [GEOGRAPHY ...]\n",
      "                        Geography from which to pull generation mix data. If\n",
      "                        multiple geographies are listed, the union will be\n",
      "                        taken.\n",
      "  -ds DATASET, --dataset DATASET\n",
      "                        Dataset from which to pull scenarios.\n",
      "  -rt [RE_TYPES [RE_TYPES ...]], --re_types [RE_TYPES [RE_TYPES ...]]\n",
      "                        RE types in order they appear in the nodes tuples/csv.\n",
      "                        RE types must be a subset of the selected dataset's\n",
      "                        generator types. This only needs to be specified if\n",
      "                        specifying tuples or csv column names do not match\n",
      "                        generator types.\n",
      "  -eg [EXCLUDED_GENTYPES [EXCLUDED_GENTYPES ...]], --excluded_gentypes [EXCLUDED_GENTYPES [EXCLUDED_GENTYPES ...]]\n",
      "                        List of generator types that should not be included in\n",
      "                        the match results. RE types with no existing unit and\n",
      "                        no allowed capacity will also be excluded.\n",
      "  -o OUTDIR, --outdir OUTDIR\n",
      "                        Where to write out match information.\n",
      "  -gd GENDISTS, --gendists GENDISTS\n",
      "                        Path to csv file containing rows with (gentype_to,\n",
      "                        gentype_from, distance). Distances are generally\n",
      "                        between 0 and 1. A distance of 0 means switching\n",
      "                        capacity from gentype_to to gentype_from is equivalent\n",
      "                        to keeping the original generator. A distance of 1\n",
      "                        means that such a switch is no better than removing\n",
      "                        old capacity and placing new capacity with no regard\n",
      "                        to where the previous generators were. Default is to\n",
      "                        use default_gendists.csv.\n",
      "  -p PRECISION, --precision PRECISION\n",
      "                        The precision to which the desired capacity is to be\n",
      "                        matched, in MW. Thus 0 corresponds to rounding to the\n",
      "                        nearest MW, 1 corresponds to the nearest 100 kW, and 3\n",
      "                        is the nearest kW.\n",
      "  -a {GAMS}, --aml {GAMS}\n",
      "                        Algebraic modeling language to use to solve the\n",
      "                        matching problem.\n",
      "\n"
     ]
    }
   ],
   "source": [
    "print_cli_call_and_output(['python',sssmatch.cli_path,'match','-h'])"
   ]
  },
  {
   "cell_type": "markdown",
   "metadata": {},
   "source": [
    "#### Create New Mix"
   ]
  },
  {
   "cell_type": "code",
   "execution_count": 22,
   "metadata": {},
   "outputs": [
    {
     "name": "stdout",
     "output_type": "stream",
     "text": [
      "python C:\\projects\\sssmatch\\bin\\sssm.py match -s National_RPS_80 -g national -eg Geothermal \"Offshore Wind\" -ds \"NREL Standard Scenarios 2017\" -o rts_new_genmix_1 2050 rts_new_genmix_1\\nodes.csv rts_new_genmix_1\\generators.csv\n",
      "\n",
      "2017-10-03 16:21:51,888|INFO|sssmatch.request|\n",
      "    System load is 36.581 TWh. The generation mix is based on 4735.013 TWh of useable generation. Thus the generation mix capacities will be scaled by a factor of 0.007725719446286648.\n",
      "2017-10-03 16:21:51,888|INFO|sssmatch.request|\n",
      "    Request summary:\n",
      "                 Current Capacity (MW)  Desired Capacity (MW)\n",
      "Biopower                           0.0              65.381991\n",
      "CSP                              200.0               3.740021\n",
      "Coal                            2317.0              74.207080\n",
      "Hydro                           1000.0             633.374567\n",
      "Land-based Wind                 2507.9            4211.619558\n",
      "NG-CC                           3550.0            2160.628780\n",
      "NG-CT                           1485.0            1900.183962\n",
      "Nuclear                          400.0             386.935705\n",
      "Oil-Gas-Steam                    324.0              36.942073\n",
      "Rooftop PV                      1161.4            1338.893447\n",
      "Storage                           50.0            1565.195994\n",
      "Utility PV                      1554.5            4790.153879\n",
      "Traceback (most recent call last):\n",
      "  File \"C:\\projects\\sssmatch\\bin\\sssm.py\", line 6, in <module>\n",
      "    cli_main()\n",
      "  File \"C:\\projects\\sssmatch\\sssmatch\\cli.py\", line 211, in cli_main\n",
      "    request.preprocess()\n",
      "  File \"C:\\projects\\sssmatch\\sssmatch\\request.py\", line 106, in preprocess\n",
      "    assert self._resource_dependent_test()\n",
      "  File \"C:\\projects\\sssmatch\\sssmatch\\request.py\", line 138, in _resource_dependent_test\n",
      "    raise SSSMatchError(msg)\n",
      "sssmatch.SSSMatchError: Unable to create a new generation mix with 4211.619558391209 MW Land-based Wind capacity, because the specified maximum supply only 3562.5029163779773 MW.\n",
      "\n"
     ]
    }
   ],
   "source": [
    "year = str(2050)\n",
    "scenario = 'National_RPS_80'\n",
    "geographies = ['national']\n",
    "excludes = {'NREL Standard Scenarios 2016': ['Geothermal'],\n",
    "            'NREL Standard Scenarios 2017': ['Geothermal','Offshore Wind']}\n",
    "\n",
    "def call_sssmatch(outdir,year,scenario,geographies,excludes,dataset='NREL Standard Scenarios 2016',\n",
    "                  gendists=None,precision=None):\n",
    "    cmds = ['python',sssmatch.cli_path,'match','-s',scenario,'-g']\n",
    "    for geography in geographies:\n",
    "        cmds.append(geography)\n",
    "    if excludes:\n",
    "        cmds.append('-eg')\n",
    "        for exclude in excludes:\n",
    "            cmds.append(exclude)\n",
    "    cmds.extend(['-ds',dataset])\n",
    "    if gendists:\n",
    "        cmds.extend(['-gd',gendists])\n",
    "    if precision:\n",
    "        cmds.extend(['-p',str(precision)])\n",
    "    cmds.extend(['-o',outdir])\n",
    "    nodes_path = os.path.join(outdir,'nodes.csv')\n",
    "    gen_path = os.path.join(outdir,'generators.csv')\n",
    "    cmds.extend([year,nodes_path,gen_path])\n",
    "\n",
    "    print_cli_call_and_output(cmds)\n",
    "    \n",
    "call_sssmatch(outdirs[0],year,scenario,geographies,excludes[dataset],dataset=dataset)"
   ]
  },
  {
   "cell_type": "markdown",
   "metadata": {},
   "source": [
    "*The above does not work because the desired wind capacity is too high relative to what we determined we could put on our system. If we back the year down to 2042, we can get a new mix.*"
   ]
  },
  {
   "cell_type": "code",
   "execution_count": 23,
   "metadata": {},
   "outputs": [
    {
     "name": "stdout",
     "output_type": "stream",
     "text": [
      "python C:\\projects\\sssmatch\\bin\\sssm.py match -s National_RPS_80 -g national -eg Geothermal \"Offshore Wind\" -ds \"NREL Standard Scenarios 2017\" -o rts_new_genmix_1 2038 rts_new_genmix_1\\nodes.csv rts_new_genmix_1\\generators.csv\n",
      "\n",
      "2017-10-03 16:22:06,334|INFO|sssmatch.request|\n",
      "    System load is 36.581 TWh. The generation mix is based on 4364.049 TWh of useable generation. Thus the generation mix capacities will be scaled by a factor of 0.008382441082429673.\n",
      "2017-10-03 16:22:06,349|INFO|sssmatch.request|\n",
      "    Request summary:\n",
      "                 Current Capacity (MW)  Desired Capacity (MW)\n",
      "Biopower                           0.0              66.367977\n",
      "CSP                              200.0              15.881373\n",
      "Coal                            2317.0             828.587536\n",
      "Hydro                           1000.0             684.407873\n",
      "Land-based Wind                 2507.9            3371.845308\n",
      "NG-CC                           3550.0            2537.734581\n",
      "NG-CT                           1485.0            1628.639566\n",
      "Nuclear                          400.0             667.532343\n",
      "Oil-Gas-Steam                    324.0              48.705336\n",
      "Rooftop PV                      1161.4             887.992220\n",
      "Storage                           50.0             692.941198\n",
      "Utility PV                      1554.5            3250.428164\n",
      "2017-10-03 16:22:07,160|WARNING|gdxpds|\n",
      "    Especially on Linux, gdxpds should be imported before pandas to avoid a library conflict. Also make sure your GAMS directory is listed in LD_LIBRARY_PATH.\n",
      "2017-10-03 16:22:09,578|INFO|gdxpds.gdx|\n",
      "    Opening 'rts_new_genmix_1\\MatchGenerationMix_p.gdx' with 12 symbols and 85 elements with lazy_load = True.\n",
      "                 Current Capacity (MW)  Desired Capacity (MW)  kept (MW)  \\\n",
      "Biopower                           0.0              66.367977        0.0   \n",
      "CSP                              200.0              15.881373       16.0   \n",
      "Coal                            2317.0             828.587536      829.0   \n",
      "Hydro                           1000.0             684.407873      684.0   \n",
      "Land-based Wind                 2507.9            3371.845308     2507.9   \n",
      "NG-CC                           3550.0            2537.734581     1873.0   \n",
      "NG-CT                           1485.0            1628.639566      990.0   \n",
      "Nuclear                          400.0             667.532343      400.0   \n",
      "Oil-Gas-Steam                    324.0              48.705336       49.0   \n",
      "Rooftop PV                      1161.4             887.992220      888.0   \n",
      "Storage                           50.0             692.941198        0.0   \n",
      "Utility PV                      1554.5            3250.428164     1554.5   \n",
      "TOTAL                          14549.8           14681.063474     9791.4   \n",
      "\n",
      "                 swapped out (MW)  swapped in (MW)  added (MW)  removed (MW)  \\\n",
      "Biopower                      0.0             66.0         0.0           0.0   \n",
      "CSP                           0.0              0.0         0.0         184.0   \n",
      "Coal                       1026.0              0.0         0.0         462.0   \n",
      "Hydro                        16.0              0.0         0.0         300.0   \n",
      "Land-based Wind               0.0              0.0       864.1           0.0   \n",
      "NG-CC                       443.9            665.0         0.0        1233.1   \n",
      "NG-CT                       330.0            472.0       167.0         165.0   \n",
      "Nuclear                       0.0            268.0         0.0           0.0   \n",
      "Oil-Gas-Steam               180.0              0.0         0.0          95.0   \n",
      "Rooftop PV                  260.2              0.0         0.0          13.2   \n",
      "Storage                       0.0            653.0        40.0          50.0   \n",
      "Utility PV                    0.0            132.1      1563.4           0.0   \n",
      "TOTAL                      2256.1           2256.1      2634.5        2502.3   \n",
      "\n",
      "                 final (MW)  \n",
      "Biopower               66.0  \n",
      "CSP                    16.0  \n",
      "Coal                  829.0  \n",
      "Hydro                 684.0  \n",
      "Land-based Wind      3372.0  \n",
      "NG-CC                2538.0  \n",
      "NG-CT                1629.0  \n",
      "Nuclear               668.0  \n",
      "Oil-Gas-Steam          49.0  \n",
      "Rooftop PV            888.0  \n",
      "Storage               693.0  \n",
      "Utility PV           3250.0  \n",
      "TOTAL               14682.0  \n",
      "\n"
     ]
    }
   ],
   "source": [
    "year = {'NREL Standard Scenarios 2016': str(2042),\n",
    "        'NREL Standard Scenarios 2017': str(2038)}\n",
    "call_sssmatch(outdirs[0],year[dataset],scenario,geographies,excludes[dataset],dataset=dataset)"
   ]
  },
  {
   "cell_type": "markdown",
   "metadata": {},
   "source": [
    "*Alternatively, we can pick a part of the country that has less wind and still get a 2050 mix with the same scenario.*"
   ]
  },
  {
   "cell_type": "code",
   "execution_count": 24,
   "metadata": {},
   "outputs": [
    {
     "name": "stdout",
     "output_type": "stream",
     "text": [
      "python C:\\projects\\sssmatch\\bin\\sssm.py match -s National_RPS_80 -g FL GA AL SC NC TN -eg Geothermal \"Offshore Wind\" -ds \"NREL Standard Scenarios 2017\" -o rts_new_genmix_2 2042 rts_new_genmix_2\\nodes.csv rts_new_genmix_2\\generators.csv\n",
      "\n",
      "2017-10-03 16:22:21,887|INFO|sssmatch.request|\n",
      "    System load is 36.581 TWh. The generation mix is based on 890.830 TWh of useable generation. Thus the generation mix capacities will be scaled by a factor of 0.041064395119619415.\n",
      "2017-10-03 16:22:21,887|INFO|sssmatch.request|\n",
      "    Request summary:\n",
      "                 Current Capacity (MW)  Desired Capacity (MW)\n",
      "Biopower                           0.0             108.635857\n",
      "CSP                              200.0               0.000000\n",
      "Coal                            2317.0             338.805898\n",
      "Hydro                           1000.0             479.681412\n",
      "Land-based Wind                 2507.9            1222.992135\n",
      "NG-CC                           3550.0            2730.913682\n",
      "NG-CT                           1485.0            1960.073389\n",
      "Nuclear                          400.0            1264.446642\n",
      "Oil-Gas-Steam                    324.0              38.518403\n",
      "Rooftop PV                      1161.4             967.772813\n",
      "Storage                           50.0            1003.572752\n",
      "Utility PV                      1554.5            6736.708467\n",
      "2017-10-03 16:22:22,636|WARNING|gdxpds|\n",
      "    Especially on Linux, gdxpds should be imported before pandas to avoid a library conflict. Also make sure your GAMS directory is listed in LD_LIBRARY_PATH.\n",
      "2017-10-03 16:22:24,446|INFO|gdxpds.gdx|\n",
      "    Opening 'rts_new_genmix_2\\MatchGenerationMix_p.gdx' with 12 symbols and 85 elements with lazy_load = True.\n",
      "                 Current Capacity (MW)  Desired Capacity (MW)  kept (MW)  \\\n",
      "Biopower                           0.0             108.635857        0.0   \n",
      "CSP                              200.0               0.000000        0.0   \n",
      "Coal                            2317.0             338.805898      244.9   \n",
      "Hydro                           1000.0             479.681412      480.0   \n",
      "Land-based Wind                 2507.9            1222.992135     1223.0   \n",
      "NG-CC                           3550.0            2730.913682     1680.9   \n",
      "NG-CT                           1485.0            1960.073389      990.0   \n",
      "Nuclear                          400.0            1264.446642      400.0   \n",
      "Oil-Gas-Steam                    324.0              38.518403       39.0   \n",
      "Rooftop PV                      1161.4             967.772813      968.0   \n",
      "Storage                           50.0            1003.572752        0.0   \n",
      "Utility PV                      1554.5            6736.708467     1554.5   \n",
      "TOTAL                          14549.8           16852.121449     7580.3   \n",
      "\n",
      "                 swapped out (MW)  swapped in (MW)  added (MW)  removed (MW)  \\\n",
      "Biopower                      0.0            109.0         0.0           0.0   \n",
      "CSP                           0.0              0.0         0.0         200.0   \n",
      "Coal                       1917.1             94.1         0.0         155.0   \n",
      "Hydro                        20.0              0.0         0.0         500.0   \n",
      "Land-based Wind               0.0              0.0         0.0        1284.9   \n",
      "NG-CC                       710.0            845.1       205.0        1159.1   \n",
      "NG-CT                       220.0            666.1       303.9         275.0   \n",
      "Nuclear                       0.0            864.0         0.0           0.0   \n",
      "Oil-Gas-Steam               184.0              0.0         0.0         101.0   \n",
      "Rooftop PV                  180.2              0.0         0.0          13.2   \n",
      "Storage                       0.0            585.0       419.0          50.0   \n",
      "Utility PV                    0.0             68.0      5114.5           0.0   \n",
      "TOTAL                      3231.3           3231.3      6042.4        3738.2   \n",
      "\n",
      "                 final (MW)  \n",
      "Biopower              109.0  \n",
      "CSP                     0.0  \n",
      "Coal                  339.0  \n",
      "Hydro                 480.0  \n",
      "Land-based Wind      1223.0  \n",
      "NG-CC                2731.0  \n",
      "NG-CT                1960.0  \n",
      "Nuclear              1264.0  \n",
      "Oil-Gas-Steam          39.0  \n",
      "Rooftop PV            968.0  \n",
      "Storage              1004.0  \n",
      "Utility PV           6737.0  \n",
      "TOTAL               16854.0  \n",
      "\n"
     ]
    }
   ],
   "source": [
    "year = {'NREL Standard Scenarios 2016': str(2050),\n",
    "        'NREL Standard Scenarios 2017': str(2042)}\n",
    "geographies = ['FL','GA','AL','SC','NC','TN']\n",
    "call_sssmatch(outdirs[1],year[dataset],scenario,geographies,excludes[dataset],dataset=dataset)"
   ]
  },
  {
   "cell_type": "markdown",
   "metadata": {},
   "source": [
    "*We will get a different answer if we use a different set of distances between generator types, and a different desired precision.*"
   ]
  },
  {
   "cell_type": "code",
   "execution_count": 25,
   "metadata": {},
   "outputs": [
    {
     "name": "stdout",
     "output_type": "stream",
     "text": [
      "python C:\\projects\\sssmatch\\bin\\sssm.py match -s National_RPS_80 -g FL GA AL SC NC TN -eg Geothermal \"Offshore Wind\" -ds \"NREL Standard Scenarios 2017\" -gd C:\\projects\\sssmatch\\sssmatch\\models\\equal_gendists.csv -p 3 -o rts_new_genmix_3 2042 rts_new_genmix_3\\nodes.csv rts_new_genmix_3\\generators.csv\n",
      "\n",
      "2017-10-03 16:22:37,519|INFO|sssmatch.request|\n",
      "    System load is 36.581 TWh. The generation mix is based on 890.830 TWh of useable generation. Thus the generation mix capacities will be scaled by a factor of 0.041064395119619415.\n",
      "2017-10-03 16:22:37,534|INFO|sssmatch.request|\n",
      "    Request summary:\n",
      "                 Current Capacity (MW)  Desired Capacity (MW)\n",
      "Biopower                           0.0             108.635857\n",
      "CSP                              200.0               0.000000\n",
      "Coal                            2317.0             338.805898\n",
      "Hydro                           1000.0             479.681412\n",
      "Land-based Wind                 2507.9            1222.992135\n",
      "NG-CC                           3550.0            2730.913682\n",
      "NG-CT                           1485.0            1960.073389\n",
      "Nuclear                          400.0            1264.446642\n",
      "Oil-Gas-Steam                    324.0              38.518403\n",
      "Rooftop PV                      1161.4             967.772813\n",
      "Storage                           50.0            1003.572752\n",
      "Utility PV                      1554.5            6736.708467\n",
      "2017-10-03 16:22:38,314|WARNING|gdxpds|\n",
      "    Especially on Linux, gdxpds should be imported before pandas to avoid a library conflict. Also make sure your GAMS directory is listed in LD_LIBRARY_PATH.\n",
      "2017-10-03 16:22:40,124|INFO|gdxpds.gdx|\n",
      "    Opening 'rts_new_genmix_3\\MatchGenerationMix_p.gdx' with 12 symbols and 85 elements with lazy_load = True.\n",
      "                 Current Capacity (MW)  Desired Capacity (MW)  kept (MW)  \\\n",
      "Biopower                           0.0             108.635857      0.000   \n",
      "CSP                              200.0               0.000000      0.000   \n",
      "Coal                            2317.0             338.805898    338.806   \n",
      "Hydro                           1000.0             479.681412    479.681   \n",
      "Land-based Wind                 2507.9            1222.992135   1222.992   \n",
      "NG-CC                           3550.0            2730.913682   2091.031   \n",
      "NG-CT                           1485.0            1960.073389   1100.000   \n",
      "Nuclear                          400.0            1264.446642    400.000   \n",
      "Oil-Gas-Steam                    324.0              38.518403     38.518   \n",
      "Rooftop PV                      1161.4             967.772813    967.773   \n",
      "Storage                           50.0            1003.572752      0.000   \n",
      "Utility PV                      1554.5            6736.708467   1546.227   \n",
      "TOTAL                          14549.8           16852.121449   8185.028   \n",
      "\n",
      "                 swapped out (MW)  swapped in (MW)  added (MW)  removed (MW)  \\\n",
      "Biopower                    0.000          108.636       0.000         0.000   \n",
      "CSP                         0.000            0.000       0.000       200.000   \n",
      "Coal                     1826.194            0.000       0.000       152.000   \n",
      "Hydro                      20.319            0.000       0.000       500.000   \n",
      "Land-based Wind             0.000            0.000       0.000      1284.908   \n",
      "NG-CC                     671.249          639.883       0.000       787.720   \n",
      "NG-CT                     110.000          505.073     355.000       275.000   \n",
      "Nuclear                     0.000          864.447       0.000         0.000   \n",
      "Oil-Gas-Steam             199.681            0.000       0.000        85.801   \n",
      "Rooftop PV                193.627            0.000       0.000         0.000   \n",
      "Storage                     8.273          811.573     192.000        41.727   \n",
      "Utility PV                  8.273          108.004    5082.477         0.000   \n",
      "TOTAL                    3037.616         3037.616    5629.477      3327.156   \n",
      "\n",
      "                 final (MW)  \n",
      "Biopower            108.636  \n",
      "CSP                   0.000  \n",
      "Coal                338.806  \n",
      "Hydro               479.681  \n",
      "Land-based Wind    1222.992  \n",
      "NG-CC              2730.914  \n",
      "NG-CT              1960.073  \n",
      "Nuclear            1264.447  \n",
      "Oil-Gas-Steam        38.518  \n",
      "Rooftop PV          967.773  \n",
      "Storage            1003.573  \n",
      "Utility PV         6736.708  \n",
      "TOTAL             16852.121  \n",
      "\n"
     ]
    }
   ],
   "source": [
    "call_sssmatch(outdirs[2],year[dataset],scenario,geographies,excludes[dataset],dataset=dataset,\n",
    "              gendists=os.path.join(sssmatch.models_dir,'equal_gendists.csv'),\n",
    "              precision=3)"
   ]
  },
  {
   "cell_type": "code",
   "execution_count": null,
   "metadata": {
    "collapsed": true
   },
   "outputs": [],
   "source": []
  }
 ],
 "metadata": {
  "kernelspec": {
   "display_name": "Python 3",
   "language": "python",
   "name": "python3"
  },
  "language_info": {
   "codemirror_mode": {
    "name": "ipython",
    "version": 3
   },
   "file_extension": ".py",
   "mimetype": "text/x-python",
   "name": "python",
   "nbconvert_exporter": "python",
   "pygments_lexer": "ipython3",
   "version": "3.6.2"
  }
 },
 "nbformat": 4,
 "nbformat_minor": 2
}
