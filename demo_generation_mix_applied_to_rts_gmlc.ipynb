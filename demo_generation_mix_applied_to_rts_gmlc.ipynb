{
 "cells": [
  {
   "cell_type": "markdown",
   "metadata": {},
   "source": [
    "# Demonstration of the Generation Mix Matching Tool to the RTS-GMLC System"
   ]
  },
  {
   "cell_type": "code",
   "execution_count": null,
   "metadata": {
    "collapsed": true
   },
   "outputs": [],
   "source": [
    "import logging\n",
    "import os\n",
    "from subprocess import check_output, list2cmdline\n",
    "\n",
    "import numpy as np\n",
    "import pandas as pds\n",
    "\n",
    "import genmatch\n",
    "\n",
    "logging.basicConfig()\n",
    "\n",
    "def print_cli_call_and_output(cmds):\n",
    "    print(list2cmdline(cmds) + \"\\n\")\n",
    "    stdout = check_output(cmds)\n",
    "    print(stdout.decode('utf-8'))\n",
    "    \n",
    "def multi_index(df, cols):\n",
    "    result = df.copy()\n",
    "    result.index = result[cols[0]] if len(cols) == 1 else pds.MultiIndex.from_tuples(list(zip(*[result[col].tolist() for col in cols])),names = cols)\n",
    "    for col in cols:\n",
    "        del result[col]\n",
    "    return result "
   ]
  },
  {
   "cell_type": "markdown",
   "metadata": {},
   "source": [
    "[Browse Standard Scenarios](#Browse-Standard-Scenarios) | [Apply Generation Mixes to RTS-GMLC](#Apply-Generation-Mixes-to-RTS-GMLC)"
   ]
  },
  {
   "cell_type": "markdown",
   "metadata": {},
   "source": [
    "## Browse Standard Scenarios\n",
    "\n",
    "The genmatch command line interface (CLI) can be used to browse standard scenarios data."
   ]
  },
  {
   "cell_type": "code",
   "execution_count": 2,
   "metadata": {},
   "outputs": [
    {
     "name": "stdout",
     "output_type": "stream",
     "text": [
      "CLI path is:\n",
      "    C:\\projects\\genmatch\\bin\\gm.py\n"
     ]
    }
   ],
   "source": [
    "print(\"CLI path is:\\n    {}\".format(genmatch.cli_path))"
   ]
  },
  {
   "cell_type": "markdown",
   "metadata": {},
   "source": [
    "### Help"
   ]
  },
  {
   "cell_type": "code",
   "execution_count": 3,
   "metadata": {},
   "outputs": [
    {
     "name": "stdout",
     "output_type": "stream",
     "text": [
      "python C:\\projects\\genmatch\\bin\\gm.py browse -h\n",
      "\n",
      "usage: gm.py browse [-h] [-f FILENAME]\n",
      "                    {datasets,gentypes,years,scenarios,geographies,mixes} ...\n",
      "\n",
      "positional arguments:\n",
      "  {datasets,gentypes,years,scenarios,geographies,mixes}\n",
      "    datasets            List available datasets.\n",
      "    gentypes            List generator types present in the selected dataset.\n",
      "    years               List scenario years associated with generation mixes.\n",
      "    scenarios           List available scenarios in chosen dataset.\n",
      "    geographies         List available geographies in chosen dataset.\n",
      "    mixes               List a particular generator mix represented in the\n",
      "                        chosen dataset.\n",
      "\n",
      "optional arguments:\n",
      "  -h, --help            show this help message and exit\n",
      "  -f FILENAME, --filename FILENAME\n",
      "                        Where to save listed information in csv format.\n",
      "                        Default is to print to screen only.\n",
      "\n"
     ]
    }
   ],
   "source": [
    "print_cli_call_and_output(['python',genmatch.cli_path,'browse','-h'])"
   ]
  },
  {
   "cell_type": "markdown",
   "metadata": {},
   "source": [
    "### Available datasets"
   ]
  },
  {
   "cell_type": "code",
   "execution_count": 4,
   "metadata": {},
   "outputs": [
    {
     "name": "stdout",
     "output_type": "stream",
     "text": [
      "python C:\\projects\\genmatch\\bin\\gm.py browse datasets\n",
      "\n",
      "0    NREL Standard Scenarios 2016\n",
      "Name: Datasets, dtype: object\n",
      "\n"
     ]
    }
   ],
   "source": [
    "print_cli_call_and_output(['python',genmatch.cli_path,'browse','datasets'])"
   ]
  },
  {
   "cell_type": "markdown",
   "metadata": {},
   "source": [
    "### Generator Types"
   ]
  },
  {
   "cell_type": "code",
   "execution_count": 5,
   "metadata": {},
   "outputs": [
    {
     "name": "stdout",
     "output_type": "stream",
     "text": [
      "python C:\\projects\\genmatch\\bin\\gm.py browse gentypes\n",
      "\n",
      "0            Biopower\n",
      "1                 CSP\n",
      "2                Coal\n",
      "3          Geothermal\n",
      "4               Hydro\n",
      "5     Land-based Wind\n",
      "6               NG-CC\n",
      "7               NG-CT\n",
      "8             Nuclear\n",
      "9       Oil-Gas-Steam\n",
      "10         Rooftop PV\n",
      "11            Storage\n",
      "12         Utility PV\n",
      "Name: Generator Type, dtype: object\n",
      "\n"
     ]
    }
   ],
   "source": [
    "print_cli_call_and_output(['python',genmatch.cli_path,'browse','gentypes'])"
   ]
  },
  {
   "cell_type": "markdown",
   "metadata": {},
   "source": [
    "### Years"
   ]
  },
  {
   "cell_type": "code",
   "execution_count": 6,
   "metadata": {},
   "outputs": [
    {
     "name": "stdout",
     "output_type": "stream",
     "text": [
      "python C:\\projects\\genmatch\\bin\\gm.py browse years\n",
      "\n",
      "0     2010\n",
      "1     2012\n",
      "2     2014\n",
      "3     2016\n",
      "4     2018\n",
      "5     2020\n",
      "6     2022\n",
      "7     2024\n",
      "8     2026\n",
      "9     2028\n",
      "10    2030\n",
      "11    2032\n",
      "12    2034\n",
      "13    2036\n",
      "14    2038\n",
      "15    2040\n",
      "16    2042\n",
      "17    2044\n",
      "18    2046\n",
      "19    2048\n",
      "20    2050\n",
      "Name: Years, dtype: object\n",
      "\n"
     ]
    }
   ],
   "source": [
    "print_cli_call_and_output(['python',genmatch.cli_path,'browse','years'])"
   ]
  },
  {
   "cell_type": "markdown",
   "metadata": {},
   "source": [
    "### Scenarios"
   ]
  },
  {
   "cell_type": "code",
   "execution_count": 7,
   "metadata": {},
   "outputs": [
    {
     "name": "stdout",
     "output_type": "stream",
     "text": [
      "python C:\\projects\\genmatch\\bin\\gm.py browse scenarios\n",
      "\n",
      "0                Acc_coal_retire\n",
      "1                     Carbon_cap\n",
      "2               Central_scenario\n",
      "3                 Climate_change\n",
      "4     Cooling_water_restrictions\n",
      "5      Extended_nuclear_lifetime\n",
      "6                   High_Cost_RE\n",
      "7             High_Demand_Growth\n",
      "8                  High_NG_Price\n",
      "9                      High_PHEV\n",
      "10        High_transmission_cost\n",
      "11                   Low_Cost_RE\n",
      "12             Low_Demand_Growth\n",
      "13                  Low_NG_Price\n",
      "14               National_RPS_80\n",
      "15                         NoCPP\n",
      "16             PTC_ITC_extension\n",
      "17          Reduced_cost_nuclear\n",
      "18           Reduced_RE_resource\n",
      "19                WiserWindCosts\n",
      "Name: Scenarios, dtype: object\n",
      "\n"
     ]
    }
   ],
   "source": [
    "print_cli_call_and_output(['python',genmatch.cli_path,'browse','scenarios'])"
   ]
  },
  {
   "cell_type": "markdown",
   "metadata": {},
   "source": [
    "### Geographies"
   ]
  },
  {
   "cell_type": "code",
   "execution_count": 8,
   "metadata": {},
   "outputs": [
    {
     "name": "stdout",
     "output_type": "stream",
     "text": [
      "python C:\\projects\\genmatch\\bin\\gm.py browse geographies\n",
      "\n",
      "0     national\n",
      "1           AL\n",
      "2           AR\n",
      "3           AZ\n",
      "4           CA\n",
      "5           CO\n",
      "6           CT\n",
      "7           DE\n",
      "8           FL\n",
      "9           GA\n",
      "10          IA\n",
      "11          ID\n",
      "12          IL\n",
      "13          IN\n",
      "14          KS\n",
      "15          KY\n",
      "16          LA\n",
      "17          MA\n",
      "18          MD\n",
      "19          ME\n",
      "20          MI\n",
      "21          MN\n",
      "22          MO\n",
      "23          MS\n",
      "24          MT\n",
      "25          NC\n",
      "26          ND\n",
      "27          NE\n",
      "28          NH\n",
      "29          NJ\n",
      "30          NM\n",
      "31          NV\n",
      "32          NY\n",
      "33          OH\n",
      "34          OK\n",
      "35          OR\n",
      "36          PA\n",
      "37          RI\n",
      "38          SC\n",
      "39          SD\n",
      "40          TN\n",
      "41          TX\n",
      "42          UT\n",
      "43          VA\n",
      "44          VT\n",
      "45          WA\n",
      "46          WI\n",
      "47          WV\n",
      "48          WY\n",
      "Name: Geographies, dtype: object\n",
      "\n"
     ]
    }
   ],
   "source": [
    "print_cli_call_and_output(['python',genmatch.cli_path,'browse','geographies'])"
   ]
  },
  {
   "cell_type": "markdown",
   "metadata": {},
   "source": [
    "### Mixes"
   ]
  },
  {
   "cell_type": "code",
   "execution_count": 9,
   "metadata": {},
   "outputs": [
    {
     "name": "stdout",
     "output_type": "stream",
     "text": [
      "python C:\\projects\\genmatch\\bin\\gm.py browse mixes -h\n",
      "\n",
      "usage: gm.py browse mixes [-h] [-s SCENARIO] [-g GEOGRAPHY [GEOGRAPHY ...]]\n",
      "                          [-ds DATASET]\n",
      "                          scenario_year\n",
      "\n",
      "positional arguments:\n",
      "  scenario_year         Model year on which to base new generation mix.\n",
      "\n",
      "optional arguments:\n",
      "  -h, --help            show this help message and exit\n",
      "  -s SCENARIO, --scenario SCENARIO\n",
      "                        Scenario on which to base the new generation mix\n",
      "  -g GEOGRAPHY [GEOGRAPHY ...], --geography GEOGRAPHY [GEOGRAPHY ...]\n",
      "                        Geography from which to pull generation mix data. If\n",
      "                        multiple geographies are listed, the union will be\n",
      "                        taken.\n",
      "  -ds DATASET, --dataset DATASET\n",
      "                        Dataset from which to pull scenarios.\n",
      "\n"
     ]
    }
   ],
   "source": [
    "print_cli_call_and_output(['python',genmatch.cli_path,'browse','mixes','-h'])"
   ]
  },
  {
   "cell_type": "code",
   "execution_count": 10,
   "metadata": {},
   "outputs": [
    {
     "name": "stdout",
     "output_type": "stream",
     "text": [
      "python C:\\projects\\genmatch\\bin\\gm.py browse mixes 2030\n",
      "\n",
      "                 Capacity (GW)  Generation (TWh)  Capacity Fraction  \\\n",
      "Biopower                7.7824           46.1555           0.006392   \n",
      "CSP                     1.8263            5.1034           0.001500   \n",
      "Coal                  213.7049         1127.3351           0.175537   \n",
      "Curtailment                NaN          -16.3546                NaN   \n",
      "Geothermal              7.7751           57.8812           0.006386   \n",
      "Hydro                  80.4856          288.1658           0.066111   \n",
      "Imports                    NaN           50.0870                NaN   \n",
      "Land-based Wind       147.1362          539.6573           0.120857   \n",
      "NG-CC                 315.4784         1225.0646           0.259133   \n",
      "NG-CT                 142.7947            5.8232           0.117291   \n",
      "Nuclear                95.0615          751.4637           0.078083   \n",
      "Oil-Gas-Steam          24.6616            0.0000           0.020257   \n",
      "Rooftop PV             77.2200          125.7057           0.063428   \n",
      "Storage                22.8628           -0.9537           0.018779   \n",
      "Utility PV             80.6475          175.0013           0.066244   \n",
      "TOTAL                1217.4370         4380.1355           1.000000   \n",
      "\n",
      "                 Generation Fraction  \n",
      "Biopower                    0.010537  \n",
      "CSP                         0.001165  \n",
      "Coal                        0.257374  \n",
      "Curtailment                -0.003734  \n",
      "Geothermal                  0.013214  \n",
      "Hydro                       0.065789  \n",
      "Imports                     0.011435  \n",
      "Land-based Wind             0.123206  \n",
      "NG-CC                       0.279686  \n",
      "NG-CT                       0.001329  \n",
      "Nuclear                     0.171562  \n",
      "Oil-Gas-Steam               0.000000  \n",
      "Rooftop PV                  0.028699  \n",
      "Storage                    -0.000218  \n",
      "Utility PV                  0.039953  \n",
      "TOTAL                       1.000000  \n",
      "\n"
     ]
    }
   ],
   "source": [
    "# Browse default: national-level Central_scenario\n",
    "year = str(2030)\n",
    "print_cli_call_and_output(['python',genmatch.cli_path,'browse','mixes',year])"
   ]
  },
  {
   "cell_type": "code",
   "execution_count": 11,
   "metadata": {},
   "outputs": [
    {
     "name": "stdout",
     "output_type": "stream",
     "text": [
      "python C:\\projects\\genmatch\\bin\\gm.py browse mixes 2040 -s High_PHEV -g CA NV AZ\n",
      "\n",
      "                 Capacity (GW)  Generation (TWh)  Capacity Fraction  \\\n",
      "Biopower                0.9725            6.0774           0.004899   \n",
      "CSP                     2.1362            6.8004           0.010760   \n",
      "Coal                    5.1034           28.3949           0.025706   \n",
      "Curtailment                NaN           -5.6530                NaN   \n",
      "Geothermal              7.4921           55.7870           0.037738   \n",
      "Hydro                  14.3095           44.2843           0.072078   \n",
      "Imports                    NaN            0.0000                NaN   \n",
      "Land-based Wind         5.8623           22.1890           0.029529   \n",
      "NG-CC                  45.7620          165.5123           0.230506   \n",
      "NG-CT                  33.1171            0.5809           0.166813   \n",
      "Nuclear                 6.2370           49.3037           0.031416   \n",
      "Oil-Gas-Steam           0.1077            0.0000           0.000542   \n",
      "Rooftop PV             27.1595           47.5747           0.136804   \n",
      "Storage                 4.2799           -2.0358           0.021558   \n",
      "Utility PV             45.9891          106.3932           0.231650   \n",
      "TOTAL                 198.5283          525.2090           1.000000   \n",
      "\n",
      "                 Generation Fraction  \n",
      "Biopower                    0.011571  \n",
      "CSP                         0.012948  \n",
      "Coal                        0.054064  \n",
      "Curtailment                -0.010763  \n",
      "Geothermal                  0.106219  \n",
      "Hydro                       0.084317  \n",
      "Imports                     0.000000  \n",
      "Land-based Wind             0.042248  \n",
      "NG-CC                       0.315136  \n",
      "NG-CT                       0.001106  \n",
      "Nuclear                     0.093874  \n",
      "Oil-Gas-Steam               0.000000  \n",
      "Rooftop PV                  0.090582  \n",
      "Storage                    -0.003876  \n",
      "Utility PV                  0.202573  \n",
      "TOTAL                       1.000000  \n",
      "\n"
     ]
    }
   ],
   "source": [
    "# Browse arbitrary mixes\n",
    "year = str(2040)\n",
    "scenario = 'High_PHEV'\n",
    "geographies = ['CA','NV','AZ']\n",
    "print_cli_call_and_output(['python',genmatch.cli_path,'browse','mixes',year,'-s',scenario,'-g'] + geographies)"
   ]
  },
  {
   "cell_type": "markdown",
   "metadata": {},
   "source": [
    "## Apply Generation Mixes to RTS-GMLC"
   ]
  },
  {
   "cell_type": "markdown",
   "metadata": {},
   "source": [
    "### Format RTS System"
   ]
  },
  {
   "cell_type": "code",
   "execution_count": 12,
   "metadata": {
    "collapsed": true
   },
   "outputs": [],
   "source": [
    "rts_dir = os.path.join('RTS-GMLC','RTS_Data')"
   ]
  },
  {
   "cell_type": "code",
   "execution_count": 13,
   "metadata": {
    "collapsed": true
   },
   "outputs": [],
   "source": [
    "gentypes_map = {\n",
    "    'Oil CT': 'Oil-Gas-Steam',\n",
    "    'Coal': 'Coal',\n",
    "    'Gas CC': 'NG-CC',\n",
    "    'Gas CT': 'NG-CT',\n",
    "    'Oil ST': 'Oil-Gas-Steam',\n",
    "    'Sync_Cond': None,\n",
    "    'Nuclear': 'Nuclear',\n",
    "    'Hydro': 'Hydro',\n",
    "    'Solar': 'Utility PV',\n",
    "    'CSP': 'CSP',\n",
    "    'Wind': 'Land-based Wind',\n",
    "    'Storage': 'Storage'\n",
    "}\n"
   ]
  },
  {
   "cell_type": "markdown",
   "metadata": {},
   "source": [
    "#### Nodes"
   ]
  },
  {
   "cell_type": "code",
   "execution_count": 14,
   "metadata": {},
   "outputs": [
    {
     "name": "stdout",
     "output_type": "stream",
     "text": [
      "   node_id   latitude   longitude  peak load (MW)  annual load (GWh)\n",
      "0      101  33.396103 -113.835642           108.0         424.160547\n",
      "1      102  33.357678 -113.825933            97.0         380.959010\n",
      "2      103  33.536833 -114.670399           180.0         706.934246\n",
      "3      104  33.812304 -113.825419            74.0         290.628523\n",
      "4      105  33.659560 -113.999023            71.0         278.846286\n"
     ]
    }
   ],
   "source": [
    "nodes = pds.read_csv(os.path.join(rts_dir,'SourceData','bus.csv'))\n",
    "nodes = nodes[['Bus ID','lat','lng','MW Load','Area']]\n",
    "nodes.columns = ['node_id','latitude','longitude','peak load (MW)','area']\n",
    "\n",
    "# total load per area\n",
    "load = pds.read_csv(os.path.join(rts_dir,'timeseries_data_files','Load','REAL_TIME_regional_load.csv'))\n",
    "num_points = len(load.index)\n",
    "num_days = len(load[['Year','Month','Day']].drop_duplicates().index)\n",
    "points_per_hour = (num_points / num_days) / 24\n",
    "load = multi_index(load,['Year','Month','Day','Period']).sum() / points_per_hour\n",
    "\n",
    "# GWh annual load / MW peak load\n",
    "peak_load = nodes[['peak load (MW)','area']].groupby('area').sum()['peak load (MW)']\n",
    "load.index = peak_load.index\n",
    "gwh_per_mw = load.divide(peak_load) / 1000.0\n",
    "gwh_per_mw.name = 'gwh_per_mw'\n",
    "gwh_per_mw = pds.DataFrame(gwh_per_mw)\n",
    "gwh_per_mw = gwh_per_mw.reset_index()\n",
    "\n",
    "# annual load per node\n",
    "nodes = nodes.merge(gwh_per_mw,how='left',on='area')\n",
    "nodes['annual load (GWh)'] = nodes['peak load (MW)'] * nodes['gwh_per_mw']\n",
    "del nodes['area']; del nodes['gwh_per_mw']\n",
    "print(nodes.head())"
   ]
  },
  {
   "cell_type": "markdown",
   "metadata": {},
   "source": [
    "#### Generators"
   ]
  },
  {
   "cell_type": "code",
   "execution_count": 15,
   "metadata": {},
   "outputs": [
    {
     "name": "stdout",
     "output_type": "stream",
     "text": [
      "                 capacity (MW)  capacity fraction\n",
      "generator type                                   \n",
      "CSP                      200.0           0.013746\n",
      "Coal                    2317.0           0.159246\n",
      "Hydro                   1000.0           0.068729\n",
      "Land-based Wind         2507.9           0.172367\n",
      "NG-CC                   3550.0           0.243990\n",
      "NG-CT                   1485.0           0.102063\n",
      "Nuclear                  400.0           0.027492\n",
      "Oil-Gas-Steam            324.0           0.022268\n",
      "Storage                   50.0           0.003436\n",
      "Utility PV              2715.9           0.186662\n",
      "Total                  14549.8           1.000000\n"
     ]
    }
   ],
   "source": [
    "generators = pds.read_csv(os.path.join(rts_dir,'SourceData','gen.csv'))\n",
    "generators['generator type'] = generators['Category'].map(gentypes_map)\n",
    "generators = generators[['Bus ID','generator type','PMax MW']]\n",
    "generators.columns = ['node_id','generator type','capacity (MW)']\n",
    "# drop un-mapped generators (synchronous condensors)\n",
    "generators = generators.dropna(axis=0,subset=['generator type'],how='all')\n",
    "rts_mix_summary = pds.pivot_table(generators,\n",
    "                                  values='capacity (MW)',\n",
    "                                  index='generator type',\n",
    "                                  aggfunc=np.sum,\n",
    "                                  margins=True,\n",
    "                                  margins_name='Total')\n",
    "rts_mix_summary = pds.DataFrame(rts_mix_summary)\n",
    "rts_mix_summary['capacity fraction'] = rts_mix_summary['capacity (MW)'] / rts_mix_summary.loc['Total','capacity (MW)']\n",
    "print(rts_mix_summary)"
   ]
  },
  {
   "cell_type": "code",
   "execution_count": 16,
   "metadata": {
    "scrolled": false
   },
   "outputs": [
    {
     "name": "stdout",
     "output_type": "stream",
     "text": [
      "Original RE Generation\n",
      "generator type  CSP  Land-based Wind  Utility PV\n",
      "node_id                                         \n",
      "101               0              0.0       104.6\n",
      "102               0              0.0        50.9\n",
      "103               0              0.0        61.5\n",
      "104               0              0.0        26.8\n",
      "113               0              0.0        93.6\n",
      "118               0              0.0        94.1\n",
      "119               0              0.0        66.6\n",
      "122               0            713.5         0.0\n",
      "212             200              0.0         0.0\n",
      "213               0              0.0        13.2\n",
      "215               0              0.0       125.1\n",
      "303               0            847.0         0.0\n",
      "308               0              0.0       100.9\n",
      "309               0            148.3         0.0\n",
      "310               0              0.0       103.3\n",
      "312               0              0.0        94.1\n",
      "313               0              0.0       994.4\n",
      "314               0              0.0       247.5\n",
      "317               0            799.1         0.0\n",
      "319               0              0.0       188.2\n",
      "320               0              0.0       198.8\n",
      "324               0              0.0       152.3\n",
      "\n",
      "Maximum Allowed RE Generation\n",
      "generator type     CSP  Land-based Wind   Utility PV\n",
      "node_id                                             \n",
      "101                0.0         0.000000   523.000000\n",
      "102                0.0         0.000000   254.500000\n",
      "103                0.0         0.000000   307.500000\n",
      "104                0.0         0.000000   134.000000\n",
      "113                0.0         0.000000   468.000000\n",
      "118                0.0         0.000000   470.500000\n",
      "119                0.0         0.000000   333.000000\n",
      "122                0.0      1000.000000     0.000000\n",
      "212             1000.0         0.000000     0.000000\n",
      "213                0.0         0.000000    66.000000\n",
      "215                0.0         0.000000   625.500000\n",
      "303                0.0       445.071901     0.000000\n",
      "308                0.0         0.000000   504.500000\n",
      "309                0.0       617.431015     0.000000\n",
      "310                0.0         0.000000   516.500000\n",
      "312                0.0         0.000000   470.500000\n",
      "313                0.0         0.000000  1639.966966\n",
      "314                0.0         0.000000  1102.466382\n",
      "317                0.0      1500.000000     0.000000\n",
      "319                0.0         0.000000   941.000000\n",
      "320                0.0         0.000000   994.000000\n",
      "324                0.0         0.000000   500.000000\n"
     ]
    }
   ],
   "source": [
    "# Add RE maximum capacities to nodes\n",
    "re_techs = ['CSP','Land-based Wind','Utility PV','Rooftop PV']\n",
    "max_inflation_factor = 5.0\n",
    "include_rooftop = True\n",
    "\n",
    "# Initial amount of utility-scale RE\n",
    "re_gen = pds.pivot_table(generators[generators['generator type'].isin(re_techs)],\n",
    "                         values='capacity (MW)',\n",
    "                         index='node_id',\n",
    "                         columns = 'generator type',\n",
    "                         aggfunc=np.sum,\n",
    "                         fill_value=0.0)\n",
    "print('Original RE Generation')\n",
    "print(re_gen)\n",
    "\n",
    "# Inflate\n",
    "branches = pds.read_csv(os.path.join(rts_dir,'SourceData','branch.csv'))\n",
    "branches = branches[branches.Length > 0]\n",
    "out_capacity = []\n",
    "avg_load = []\n",
    "for node_id in re_gen.index:\n",
    "    out_capacity.append(branches[(branches['From Bus'] == node_id) | (branches['To Bus'] == node_id)]['Cont Rating'].sum())\n",
    "    this_node = nodes[nodes.node_id == node_id]\n",
    "    this_avg_load = this_node['annual load (GWh)']*1000.0 / (24.0 * num_days)\n",
    "    this_avg_load = this_avg_load.values[0]\n",
    "    avg_load.append(this_avg_load)\n",
    "re_gen['out capacity (MW)'] = out_capacity\n",
    "re_gen['average load (MW)'] = avg_load\n",
    "for re_tech in re_techs:\n",
    "    if re_tech in re_gen:\n",
    "        tmp = pds.concat([re_gen[re_tech] * max_inflation_factor, \n",
    "                          re_gen['out capacity (MW)'] + re_gen['average load (MW)']],\n",
    "                         axis=1)\n",
    "        re_gen[re_tech] = tmp.min(axis=1)\n",
    "del re_gen['out capacity (MW)']; del re_gen['average load (MW)']\n",
    "print(\"\\nMaximum Allowed RE Generation\")\n",
    "print(re_gen)\n",
    "\n",
    "# Add to nodes\n",
    "nodes = nodes.merge(re_gen,how='left',left_on='node_id',right_index=True)\n",
    "nodes.fillna(0.0,inplace=True)\n",
    "\n",
    "# Add Rooftop PV if desired\n",
    "if include_rooftop:\n",
    "    nodes['Rooftop PV'] = nodes['peak load (MW)']  \n"
   ]
  },
  {
   "cell_type": "markdown",
   "metadata": {},
   "source": [
    "#### Save out"
   ]
  },
  {
   "cell_type": "code",
   "execution_count": 17,
   "metadata": {},
   "outputs": [],
   "source": [
    "outdir = 'rts_new_genmix'\n",
    "if not os.path.exists(outdir):\n",
    "    os.mkdir(outdir)\n",
    "\n",
    "nodes_path = os.path.join(outdir,'nodes.csv')\n",
    "nodes.to_csv(nodes_path,index=False)\n",
    "gen_path = os.path.join(outdir,'generators.csv')\n",
    "generators.to_csv(gen_path,index=False)"
   ]
  },
  {
   "cell_type": "markdown",
   "metadata": {},
   "source": [
    "### Create New Generation Mix"
   ]
  },
  {
   "cell_type": "markdown",
   "metadata": {},
   "source": [
    "#### Help"
   ]
  },
  {
   "cell_type": "code",
   "execution_count": 18,
   "metadata": {},
   "outputs": [
    {
     "name": "stdout",
     "output_type": "stream",
     "text": [
      "python C:\\projects\\genmatch\\bin\\gm.py match -h\n",
      "\n",
      "usage: gm.py match [-h] [-s SCENARIO] [-g GEOGRAPHY [GEOGRAPHY ...]]\n",
      "                   [-ds DATASET] [-rt [RE_TYPES [RE_TYPES ...]]]\n",
      "                   [-eg [EXCLUDED_GENTYPES [EXCLUDED_GENTYPES ...]]]\n",
      "                   [-o OUTDIR]\n",
      "                   scenario_year nodes generators\n",
      "\n",
      "positional arguments:\n",
      "  scenario_year         Model year on which to base new generation mix.\n",
      "  nodes                 Path to csv file describing nodes, or list of tuples\n",
      "                        describing nodes. Each tuple or each row of the csv\n",
      "                        file should contain (node_id, latitude, longitude,\n",
      "                        peak load (MW), annual load (GWh), max allowed\n",
      "                        capacity of each RE type (MW))\n",
      "  generators            Path to csv file describing existing generators, or\n",
      "                        list of tuples describing generators. Each tuple or\n",
      "                        each row of the csv file should contain (node_id,\n",
      "                        generator type, capacity (MW)). Generator type must\n",
      "                        match the dataset's generator types.\n",
      "\n",
      "optional arguments:\n",
      "  -h, --help            show this help message and exit\n",
      "  -s SCENARIO, --scenario SCENARIO\n",
      "                        Scenario on which to base the new generation mix\n",
      "  -g GEOGRAPHY [GEOGRAPHY ...], --geography GEOGRAPHY [GEOGRAPHY ...]\n",
      "                        Geography from which to pull generation mix data. If\n",
      "                        multiple geographies are listed, the union will be\n",
      "                        taken.\n",
      "  -ds DATASET, --dataset DATASET\n",
      "                        Dataset from which to pull scenarios.\n",
      "  -rt [RE_TYPES [RE_TYPES ...]], --re_types [RE_TYPES [RE_TYPES ...]]\n",
      "                        RE types in order they appear in the nodes tuples/csv.\n",
      "                        RE types must be a subset of the selected dataset's\n",
      "                        generator types. This only needs to be specified if\n",
      "                        specifying tuples or csv column names do not match\n",
      "                        generator types.\n",
      "  -eg [EXCLUDED_GENTYPES [EXCLUDED_GENTYPES ...]], --excluded_gentypes [EXCLUDED_GENTYPES [EXCLUDED_GENTYPES ...]]\n",
      "                        List of generator types that should not be included in\n",
      "                        the match results. RE types with no existing unit and\n",
      "                        no allowed capacity will also be excluded.\n",
      "  -o OUTDIR, --outdir OUTDIR\n",
      "                        Where to write out match information.\n",
      "\n"
     ]
    }
   ],
   "source": [
    "print_cli_call_and_output(['python',genmatch.cli_path,'match','-h'])"
   ]
  },
  {
   "cell_type": "markdown",
   "metadata": {},
   "source": [
    "#### Create New Mix"
   ]
  },
  {
   "cell_type": "code",
   "execution_count": 19,
   "metadata": {},
   "outputs": [
    {
     "name": "stdout",
     "output_type": "stream",
     "text": [
      "python C:\\projects\\genmatch\\bin\\gm.py match -s National_RPS_80 -g national -eg Geothermal -o rts_new_genmix 2050 rts_new_genmix\\nodes.csv rts_new_genmix\\generators.csv\n",
      "\n"
     ]
    },
    {
     "ename": "CalledProcessError",
     "evalue": "Command '['python', 'C:\\\\projects\\\\genmatch\\\\bin\\\\gm.py', 'match', '-s', 'National_RPS_80', '-g', 'national', '-eg', 'Geothermal', '-o', 'rts_new_genmix', '2050', 'rts_new_genmix\\\\nodes.csv', 'rts_new_genmix\\\\generators.csv']' returned non-zero exit status 1.",
     "output_type": "error",
     "traceback": [
      "\u001b[1;31m---------------------------------------------------------------------------\u001b[0m",
      "\u001b[1;31mCalledProcessError\u001b[0m                        Traceback (most recent call last)",
      "\u001b[1;32m<ipython-input-19-9517616952ac>\u001b[0m in \u001b[0;36m<module>\u001b[1;34m()\u001b[0m\n\u001b[0;32m     17\u001b[0m     \u001b[0mprint_cli_call_and_output\u001b[0m\u001b[1;33m(\u001b[0m\u001b[0mcmds\u001b[0m\u001b[1;33m)\u001b[0m\u001b[1;33m\u001b[0m\u001b[0m\n\u001b[0;32m     18\u001b[0m \u001b[1;33m\u001b[0m\u001b[0m\n\u001b[1;32m---> 19\u001b[1;33m \u001b[0mcall_genmatch\u001b[0m\u001b[1;33m(\u001b[0m\u001b[0myear\u001b[0m\u001b[1;33m,\u001b[0m\u001b[0mscenario\u001b[0m\u001b[1;33m,\u001b[0m\u001b[0mgeographies\u001b[0m\u001b[1;33m,\u001b[0m\u001b[0mexcludes\u001b[0m\u001b[1;33m)\u001b[0m\u001b[1;33m\u001b[0m\u001b[0m\n\u001b[0m",
      "\u001b[1;32m<ipython-input-19-9517616952ac>\u001b[0m in \u001b[0;36mcall_genmatch\u001b[1;34m(year, scenario, geographies, excludes)\u001b[0m\n\u001b[0;32m     15\u001b[0m     \u001b[0mcmds\u001b[0m\u001b[1;33m.\u001b[0m\u001b[0mextend\u001b[0m\u001b[1;33m(\u001b[0m\u001b[1;33m[\u001b[0m\u001b[0myear\u001b[0m\u001b[1;33m,\u001b[0m\u001b[0mnodes_path\u001b[0m\u001b[1;33m,\u001b[0m\u001b[0mgen_path\u001b[0m\u001b[1;33m]\u001b[0m\u001b[1;33m)\u001b[0m\u001b[1;33m\u001b[0m\u001b[0m\n\u001b[0;32m     16\u001b[0m \u001b[1;33m\u001b[0m\u001b[0m\n\u001b[1;32m---> 17\u001b[1;33m     \u001b[0mprint_cli_call_and_output\u001b[0m\u001b[1;33m(\u001b[0m\u001b[0mcmds\u001b[0m\u001b[1;33m)\u001b[0m\u001b[1;33m\u001b[0m\u001b[0m\n\u001b[0m\u001b[0;32m     18\u001b[0m \u001b[1;33m\u001b[0m\u001b[0m\n\u001b[0;32m     19\u001b[0m \u001b[0mcall_genmatch\u001b[0m\u001b[1;33m(\u001b[0m\u001b[0myear\u001b[0m\u001b[1;33m,\u001b[0m\u001b[0mscenario\u001b[0m\u001b[1;33m,\u001b[0m\u001b[0mgeographies\u001b[0m\u001b[1;33m,\u001b[0m\u001b[0mexcludes\u001b[0m\u001b[1;33m)\u001b[0m\u001b[1;33m\u001b[0m\u001b[0m\n",
      "\u001b[1;32m<ipython-input-1-9f9d728b5c6e>\u001b[0m in \u001b[0;36mprint_cli_call_and_output\u001b[1;34m(cmds)\u001b[0m\n\u001b[0;32m     12\u001b[0m \u001b[1;32mdef\u001b[0m \u001b[0mprint_cli_call_and_output\u001b[0m\u001b[1;33m(\u001b[0m\u001b[0mcmds\u001b[0m\u001b[1;33m)\u001b[0m\u001b[1;33m:\u001b[0m\u001b[1;33m\u001b[0m\u001b[0m\n\u001b[0;32m     13\u001b[0m     \u001b[0mprint\u001b[0m\u001b[1;33m(\u001b[0m\u001b[0mlist2cmdline\u001b[0m\u001b[1;33m(\u001b[0m\u001b[0mcmds\u001b[0m\u001b[1;33m)\u001b[0m \u001b[1;33m+\u001b[0m \u001b[1;34m\"\\n\"\u001b[0m\u001b[1;33m)\u001b[0m\u001b[1;33m\u001b[0m\u001b[0m\n\u001b[1;32m---> 14\u001b[1;33m     \u001b[0mstdout\u001b[0m \u001b[1;33m=\u001b[0m \u001b[0mcheck_output\u001b[0m\u001b[1;33m(\u001b[0m\u001b[0mcmds\u001b[0m\u001b[1;33m)\u001b[0m\u001b[1;33m\u001b[0m\u001b[0m\n\u001b[0m\u001b[0;32m     15\u001b[0m     \u001b[0mprint\u001b[0m\u001b[1;33m(\u001b[0m\u001b[0mstdout\u001b[0m\u001b[1;33m.\u001b[0m\u001b[0mdecode\u001b[0m\u001b[1;33m(\u001b[0m\u001b[1;34m'utf-8'\u001b[0m\u001b[1;33m)\u001b[0m\u001b[1;33m)\u001b[0m\u001b[1;33m\u001b[0m\u001b[0m\n\u001b[0;32m     16\u001b[0m \u001b[1;33m\u001b[0m\u001b[0m\n",
      "\u001b[1;32mc:\\python36\\lib\\subprocess.py\u001b[0m in \u001b[0;36mcheck_output\u001b[1;34m(timeout, *popenargs, **kwargs)\u001b[0m\n\u001b[0;32m    334\u001b[0m \u001b[1;33m\u001b[0m\u001b[0m\n\u001b[0;32m    335\u001b[0m     return run(*popenargs, stdout=PIPE, timeout=timeout, check=True,\n\u001b[1;32m--> 336\u001b[1;33m                **kwargs).stdout\n\u001b[0m\u001b[0;32m    337\u001b[0m \u001b[1;33m\u001b[0m\u001b[0m\n\u001b[0;32m    338\u001b[0m \u001b[1;33m\u001b[0m\u001b[0m\n",
      "\u001b[1;32mc:\\python36\\lib\\subprocess.py\u001b[0m in \u001b[0;36mrun\u001b[1;34m(input, timeout, check, *popenargs, **kwargs)\u001b[0m\n\u001b[0;32m    416\u001b[0m         \u001b[1;32mif\u001b[0m \u001b[0mcheck\u001b[0m \u001b[1;32mand\u001b[0m \u001b[0mretcode\u001b[0m\u001b[1;33m:\u001b[0m\u001b[1;33m\u001b[0m\u001b[0m\n\u001b[0;32m    417\u001b[0m             raise CalledProcessError(retcode, process.args,\n\u001b[1;32m--> 418\u001b[1;33m                                      output=stdout, stderr=stderr)\n\u001b[0m\u001b[0;32m    419\u001b[0m     \u001b[1;32mreturn\u001b[0m \u001b[0mCompletedProcess\u001b[0m\u001b[1;33m(\u001b[0m\u001b[0mprocess\u001b[0m\u001b[1;33m.\u001b[0m\u001b[0margs\u001b[0m\u001b[1;33m,\u001b[0m \u001b[0mretcode\u001b[0m\u001b[1;33m,\u001b[0m \u001b[0mstdout\u001b[0m\u001b[1;33m,\u001b[0m \u001b[0mstderr\u001b[0m\u001b[1;33m)\u001b[0m\u001b[1;33m\u001b[0m\u001b[0m\n\u001b[0;32m    420\u001b[0m \u001b[1;33m\u001b[0m\u001b[0m\n",
      "\u001b[1;31mCalledProcessError\u001b[0m: Command '['python', 'C:\\\\projects\\\\genmatch\\\\bin\\\\gm.py', 'match', '-s', 'National_RPS_80', '-g', 'national', '-eg', 'Geothermal', '-o', 'rts_new_genmix', '2050', 'rts_new_genmix\\\\nodes.csv', 'rts_new_genmix\\\\generators.csv']' returned non-zero exit status 1."
     ]
    }
   ],
   "source": [
    "year = str(2050)\n",
    "scenario = 'National_RPS_80'\n",
    "geographies = ['national']\n",
    "excludes = ['Geothermal']\n",
    "\n",
    "def call_genmatch(year,scenario,geographies,excludes):\n",
    "    cmds = ['python',genmatch.cli_path,'match','-s',scenario,'-g']\n",
    "    for geography in geographies:\n",
    "        cmds.append(geography)\n",
    "    if excludes:\n",
    "        cmds.append('-eg')\n",
    "        for exclude in excludes:\n",
    "            cmds.append(exclude)\n",
    "    cmds.extend(['-o',outdir])\n",
    "    cmds.extend([year,nodes_path,gen_path])\n",
    "\n",
    "    print_cli_call_and_output(cmds)\n",
    "    \n",
    "call_genmatch(year,scenario,geographies,excludes)"
   ]
  },
  {
   "cell_type": "markdown",
   "metadata": {
    "collapsed": true
   },
   "source": [
    "The above does not work because the desired wind capacity is too high relative to what we determined we could put on our system. If we back the year down to 2042, we can get a new mix."
   ]
  },
  {
   "cell_type": "code",
   "execution_count": 20,
   "metadata": {},
   "outputs": [
    {
     "name": "stdout",
     "output_type": "stream",
     "text": [
      "python C:\\projects\\genmatch\\bin\\gm.py match -s National_RPS_80 -g national -eg Geothermal -o rts_new_genmix 2042 rts_new_genmix\\nodes.csv rts_new_genmix\\generators.csv\n",
      "\n",
      "                 Current Capacity (MW)  Desired Capacity (MW)  kept (MW)  \\\n",
      "Biopower                           0.0              84.687235        0.0   \n",
      "CSP                              200.0             332.004130      200.0   \n",
      "Coal                            2317.0             298.625838      299.0   \n",
      "Hydro                           1000.0             649.825519      650.0   \n",
      "Land-based Wind                 2507.9            3413.218033     2507.9   \n",
      "NG-CC                           3550.0            2985.398720     2787.2   \n",
      "NG-CT                           1485.0            2058.365808     1537.8   \n",
      "Nuclear                          400.0             403.679945      400.0   \n",
      "Oil-Gas-Steam                    324.0              56.987908       57.0   \n",
      "Rooftop PV                         0.0            1236.516270      701.0   \n",
      "Storage                           50.0             558.393472        0.0   \n",
      "Utility PV                      2715.9            4530.629892     2715.9   \n",
      "TOTAL                          14549.8           16608.332769    11855.8   \n",
      "\n",
      "                 swapped out (MW)  swapped in (MW)  added (MW)  removed (MW)  \\\n",
      "Biopower                      NaN             85.0         0.0           0.0   \n",
      "CSP                           0.0              0.0       132.0           0.0   \n",
      "Coal                       2018.0              0.0         0.0           0.0   \n",
      "Hydro                       350.0              0.0         0.0           0.0   \n",
      "Land-based Wind               0.0            286.5       618.6           0.0   \n",
      "NG-CC                       762.8            197.8         0.0           0.0   \n",
      "NG-CT                       330.0            520.2         0.0           0.0   \n",
      "Nuclear                       0.0              4.0         0.0           0.0   \n",
      "Oil-Gas-Steam               267.0              0.0         0.0           0.0   \n",
      "Rooftop PV                    NaN            536.0         0.0           0.0   \n",
      "Storage                      50.0            558.0         0.0           0.0   \n",
      "Utility PV                    0.0           1590.3       224.8           0.0   \n",
      "TOTAL                      3777.8           3777.8       975.4           0.0   \n",
      "\n",
      "                 final (MW)  \n",
      "Biopower               85.0  \n",
      "CSP                   332.0  \n",
      "Coal                  299.0  \n",
      "Hydro                 650.0  \n",
      "Land-based Wind      3413.0  \n",
      "NG-CC                2985.0  \n",
      "NG-CT                2058.0  \n",
      "Nuclear               404.0  \n",
      "Oil-Gas-Steam          57.0  \n",
      "Rooftop PV           1237.0  \n",
      "Storage               558.0  \n",
      "Utility PV           4531.0  \n",
      "TOTAL               16609.0  \n",
      "\n"
     ]
    }
   ],
   "source": [
    "year = str(2042)\n",
    "call_genmatch(year,scenario,geographies,excludes)"
   ]
  },
  {
   "cell_type": "markdown",
   "metadata": {},
   "source": [
    "Alternatively, we can pick a part of the country that has less wind and still get a 2050 mix with the same scenario."
   ]
  },
  {
   "cell_type": "code",
   "execution_count": 21,
   "metadata": {},
   "outputs": [
    {
     "name": "stdout",
     "output_type": "stream",
     "text": [
      "python C:\\projects\\genmatch\\bin\\gm.py match -s National_RPS_80 -g FL GA AL SC NC TN -eg Geothermal -o rts_new_genmix 2050 rts_new_genmix\\nodes.csv rts_new_genmix\\generators.csv\n",
      "\n",
      "                 Current Capacity (MW)  Desired Capacity (MW)  kept (MW)  \\\n",
      "Biopower                           0.0             215.399452      160.0   \n",
      "CSP                              200.0             106.415516      106.0   \n",
      "Coal                            2317.0              42.019954       42.0   \n",
      "Hydro                           1000.0             437.060818      437.0   \n",
      "Land-based Wind                 2507.9            1859.976973     1860.0   \n",
      "NG-CC                           3550.0            4426.262230     3254.8   \n",
      "NG-CT                           1485.0            2351.955362     1457.2   \n",
      "Nuclear                          400.0             245.924429      246.0   \n",
      "Oil-Gas-Steam                    324.0              33.222928       33.0   \n",
      "Rooftop PV                         0.0            2225.236740     1686.7   \n",
      "Storage                           50.0             506.626529      452.0   \n",
      "Utility PV                      2715.9            6248.260625     2715.9   \n",
      "TOTAL                          14549.8           18698.361558    12450.6   \n",
      "\n",
      "                 swapped out (MW)  swapped in (MW)  added (MW)  removed (MW)  \\\n",
      "Biopower                      NaN             55.0         0.0           0.0   \n",
      "CSP                           0.0              0.0         0.0          94.0   \n",
      "Coal                       2275.0              0.0         0.0           0.0   \n",
      "Hydro                       200.0              0.0         0.0         363.0   \n",
      "Land-based Wind             328.3              0.0         0.0         319.6   \n",
      "NG-CC                       710.0           1171.2         0.0           0.0   \n",
      "NG-CT                       382.8            894.8         0.0           0.0   \n",
      "Nuclear                     154.0              0.0         0.0           0.0   \n",
      "Oil-Gas-Steam               291.0              0.0         0.0           0.0   \n",
      "Rooftop PV                    NaN            538.3         0.0           0.0   \n",
      "Storage                      50.0             55.0         0.0           0.0   \n",
      "Utility PV                    0.0           1676.8      1855.3           0.0   \n",
      "TOTAL                      4391.1           4391.1      1855.3         776.6   \n",
      "\n",
      "                 final (MW)  \n",
      "Biopower              215.0  \n",
      "CSP                   106.0  \n",
      "Coal                   42.0  \n",
      "Hydro                 437.0  \n",
      "Land-based Wind      1860.0  \n",
      "NG-CC                4426.0  \n",
      "NG-CT                2352.0  \n",
      "Nuclear               246.0  \n",
      "Oil-Gas-Steam          33.0  \n",
      "Rooftop PV           2225.0  \n",
      "Storage               507.0  \n",
      "Utility PV           6248.0  \n",
      "TOTAL               18697.0  \n",
      "\n"
     ]
    }
   ],
   "source": [
    "year = str(2050)\n",
    "geographies = ['FL','GA','AL','SC','NC','TN']\n",
    "call_genmatch(year,scenario,geographies,excludes)"
   ]
  },
  {
   "cell_type": "code",
   "execution_count": null,
   "metadata": {
    "collapsed": true
   },
   "outputs": [],
   "source": []
  }
 ],
 "metadata": {
  "kernelspec": {
   "display_name": "Python 3",
   "language": "python",
   "name": "python3"
  },
  "language_info": {
   "codemirror_mode": {
    "name": "ipython",
    "version": 3
   },
   "file_extension": ".py",
   "mimetype": "text/x-python",
   "name": "python",
   "nbconvert_exporter": "python",
   "pygments_lexer": "ipython3",
   "version": "3.6.1"
  }
 },
 "nbformat": 4,
 "nbformat_minor": 2
}
