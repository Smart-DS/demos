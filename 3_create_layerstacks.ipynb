{
 "cells": [
  {
   "cell_type": "markdown",
   "metadata": {},
   "source": [
    "## Layerstack Creation Examples"
   ]
  },
  {
   "cell_type": "code",
   "execution_count": null,
   "metadata": {},
   "outputs": [],
   "source": [
    "from layerstack.layer import Layer"
   ]
  },
  {
   "cell_type": "markdown",
   "metadata": {},
   "source": [
    "### RTS-GMLC System Update Stack\n",
    "\n",
    "This example workflow converts the RTS system into the format needed by sssmatch, runs sssmatch to create a different generation mix, and then runs R2PD to pull down the required wind and solar data."
   ]
  },
  {
   "cell_type": "markdown",
   "metadata": {},
   "source": [
    "#### Step 1: Create blank layers for each portion of the workflow"
   ]
  },
  {
   "cell_type": "code",
   "execution_count": null,
   "metadata": {},
   "outputs": [],
   "source": [
    "library_dir = 'layerstack_library' # change to a different directory if you would like to run this cell\n",
    "Layer.create('Prepare RTS System for sssmatch',library_dir,'Translate RTS source data into the inputs required by sssmatch')\n",
    "Layer.create('Create sssmatch Generation Mix',library_dir,'Run sssmatch to create a new generation mix for a given power system model')\n",
    "Layer.create('Run R2PD on sssmatch Results',library_dir,'Use R2PD to pull down wind and solar data that corresponds to sssmatch outputs')"
   ]
  },
  {
   "cell_type": "code",
   "execution_count": null,
   "metadata": {},
   "outputs": [],
   "source": [
    "# Talk to Clayton about whether we should include the option to output in a particular format"
   ]
  },
  {
   "cell_type": "markdown",
   "metadata": {},
   "source": [
    "### Approximation of the NREL Standard Scenario Wind and Solar Build-Outs"
   ]
  },
  {
   "cell_type": "code",
   "execution_count": null,
   "metadata": {},
   "outputs": [],
   "source": []
  }
 ],
 "metadata": {
  "kernelspec": {
   "display_name": "Python 3",
   "language": "python",
   "name": "python3"
  },
  "language_info": {
   "codemirror_mode": {
    "name": "ipython",
    "version": 3
   },
   "file_extension": ".py",
   "mimetype": "text/x-python",
   "name": "python",
   "nbconvert_exporter": "python",
   "pygments_lexer": "ipython3",
   "version": "3.6.4"
  }
 },
 "nbformat": 4,
 "nbformat_minor": 2
}
